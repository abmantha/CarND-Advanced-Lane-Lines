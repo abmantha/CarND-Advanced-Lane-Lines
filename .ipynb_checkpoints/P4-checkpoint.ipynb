{
 "cells": [
  {
   "cell_type": "markdown",
   "metadata": {},
   "source": [
    "# Advanced Lane Finding"
   ]
  },
  {
   "cell_type": "markdown",
   "metadata": {},
   "source": [
    "## Overview\n",
    "\n",
    "This notebook contains an implementation to identify the lane boundaries in a video from a front-facing camera on a car. The camera calibration images, test road images, and project videos are located in this [repository](https://github.com/abmantha/CarND-Advanced-Lane-Lines.git)"
   ]
  },
  {
   "cell_type": "markdown",
   "metadata": {},
   "source": [
    "### Imports"
   ]
  },
  {
   "cell_type": "code",
   "execution_count": 5,
   "metadata": {
    "collapsed": true
   },
   "outputs": [],
   "source": [
    "import numpy as np\n",
    "import cv2\n",
    "import sklearn\n",
    "import matplotlib.pyplot as plt\n",
    "import matplotlib.image as mpimg\n",
    "import glob"
   ]
  },
  {
   "cell_type": "markdown",
   "metadata": {},
   "source": [
    "### 1. Camera Calibration"
   ]
  },
  {
   "cell_type": "code",
   "execution_count": null,
   "metadata": {
    "collapsed": true
   },
   "outputs": [],
   "source": [
    "%matplotlib qt\n",
    "\n",
    "images = glob.glob(\"../calibration_images/calibration*.jpg\")\n",
    "\n",
    "objpoints = [] # Known object coordinates for chessboard\n",
    "imgpoints = []\n",
    "\n",
    "# xyz\n",
    "objp = np.zeros((6*8,3), np.float32) \n",
    "\n",
    "# x, y coordinates \n",
    "# mgrid returns coordinates for a given grid size\n",
    "objp[:,:2] = np.mgrid[0:8, 0:6].T.reshape(-1, 2)\n",
    "\n",
    "for fname in images:\n",
    "    # Read in a new image\n",
    "    img = mpimg.imread(fname)\n",
    "\n",
    "    # Convert image to grayscale\n",
    "    gray = cv2.cvtColor(img, cv2.COLOR_BGR2GRAY)\n",
    "\n",
    "    # Find the chessboard corners\n",
    "    ret, corners = cv2.findChessboardCorners(gray, (8,6), None)\n",
    "    \n",
    "    # If corners are found, add object points, image points\n",
    "    if ret == True: \n",
    "        imgpoints.append(corners)\n",
    "        objpoints.append(objp)\n",
    "\n",
    "        img = cv2.drawChessboardCorners(img, (8,6), corners, ret)\n",
    "        plt.imshow(img)"
   ]
  },
  {
   "cell_type": "code",
   "execution_count": null,
   "metadata": {
    "collapsed": true
   },
   "outputs": [],
   "source": [
    "# cv2.calibrateCamera(objpoints, imgpoints, gray.shape[::-1], None, None)\n",
    "# RETURN: \n",
    "    # ret\n",
    "    # mtx: camera matrix\n",
    "    # dist: distortion coefficients\n",
    "    # rvecs: rotation vectors\n",
    "    # tvecs: translation vectors\n",
    "    \n",
    "# dst = cv2.undistort(img, mtx, dist, None, mtx)\n",
    "# img - distorted image\n",
    "# mtx - camera matrix\n",
    "# dist - distortion coefficients\n",
    "# RETURN: \n",
    "    # Corrected image of same size and type"
   ]
  },
  {
   "cell_type": "markdown",
   "metadata": {},
   "source": [
    "### 2. Distortion Correction"
   ]
  },
  {
   "cell_type": "markdown",
   "metadata": {},
   "source": [
    "### 3. Color/Gradient Thresholding"
   ]
  },
  {
   "cell_type": "markdown",
   "metadata": {},
   "source": [
    "### 4. Perspective Transform"
   ]
  },
  {
   "cell_type": "markdown",
   "metadata": {},
   "source": [
    "### 5. Lane finding and Measuring Radius of Curvature -- Tracking"
   ]
  },
  {
   "cell_type": "code",
   "execution_count": 4,
   "metadata": {
    "collapsed": false
   },
   "outputs": [],
   "source": [
    "# Stores characteristics of each line detection\n",
    "# Create an instance for the left and right lanesb\n",
    "class Line(): \n",
    "    def __init__(self): \n",
    "        # was the line detected in the last iteration\n",
    "        self.detected = False\n",
    "        \n",
    "        # x values of the last n fits of line\n",
    "        self.recent_xfitted = [] \n",
    "        \n",
    "        # average x values of the fitted line over the last n iterations\n",
    "        self.bestx = None\n",
    "        \n",
    "        # polynomial coefficients averaged over last n iterations\n",
    "        self.best_fit = None\n",
    "        \n",
    "        # polynomial coefficients for the most recent fit\n",
    "        self.current_fit = [np.array([False])]\n",
    "        \n",
    "        # radius of curvature of the line in some units\n",
    "        self.radius_of_curvature = None\n",
    "        \n",
    "        # distance in meters of vehicle center from the line\n",
    "        self.line_base_pos = None\n",
    "        \n",
    "        # difference in fit coefficients between last and new fits\n",
    "        self.diffs = np.array([0, 0, 0], dtype='float')\n",
    "        \n",
    "        # x values for detected line pixels\n",
    "        self.allx = None\n",
    "        \n",
    "        # y values for detected line pixels\n",
    "        self.ally = None\n"
   ]
  }
 ],
 "metadata": {
  "anaconda-cloud": {},
  "kernelspec": {
   "display_name": "Python [conda env:carnd-term1]",
   "language": "python",
   "name": "conda-env-carnd-term1-py"
  },
  "language_info": {
   "codemirror_mode": {
    "name": "ipython",
    "version": 3
   },
   "file_extension": ".py",
   "mimetype": "text/x-python",
   "name": "python",
   "nbconvert_exporter": "python",
   "pygments_lexer": "ipython3",
   "version": "3.5.2"
  }
 },
 "nbformat": 4,
 "nbformat_minor": 2
}
