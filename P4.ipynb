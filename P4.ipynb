{
 "cells": [
  {
   "cell_type": "markdown",
   "metadata": {},
   "source": [
    "# Advanced Lane Finding"
   ]
  },
  {
   "cell_type": "markdown",
   "metadata": {},
   "source": [
    "## Overview\n",
    "\n",
    "This notebook contains an implementation to identify the lane boundaries in a video from a front-facing camera on a car. The camera calibration images, test road images, and project videos are located in this [repository](https://github.com/abmantha/CarND-Advanced-Lane-Lines.git)\n",
    "\n",
    "* The goals / steps of this project are the following:\n",
    "* Compute the camera calibration matrix and distortion coefficients given a set of chessboard images.\n",
    "* Apply a distortion correction to raw images.\n",
    "* Use color transforms, gradients, etc., to create a thresholded binary image.\n",
    "* Apply a perspective transform to rectify binary image (\"birds-eye view\").\n",
    "* Detect lane pixels and fit to find the lane boundary.\n",
    "* Determine the curvature of the lane and vehicle position with respect to center.\n",
    "* Warp the detected lane boundaries back onto the original image.\n",
    "* Output visual display of the lane boundaries and numerical estimation of lane curvature and vehicle position.\n",
    "---"
   ]
  },
  {
   "cell_type": "markdown",
   "metadata": {},
   "source": [
    "### Imports"
   ]
  },
  {
   "cell_type": "code",
   "execution_count": 1,
   "metadata": {
    "collapsed": true
   },
   "outputs": [],
   "source": [
    "import numpy as np\n",
    "import cv2\n",
    "import sklearn\n",
    "import matplotlib.pyplot as plt\n",
    "import matplotlib.image as mpimg\n",
    "import glob\n",
    "import imageio\n",
    "imageio.plugins.ffmpeg.download()\n",
    "\n",
    "from moviepy.editor import VideoFileClip\n",
    "from IPython.display import HTML"
   ]
  },
  {
   "cell_type": "markdown",
   "metadata": {},
   "source": [
    "### 1. Camera Calibration\n",
    "\n",
    "__Finding Chessboard Corners__"
   ]
  },
  {
   "cell_type": "code",
   "execution_count": 2,
   "metadata": {
    "collapsed": false
   },
   "outputs": [],
   "source": [
    "# Create objpoints and imgpoints data from calibration images\n",
    "%matplotlib qt\n",
    "%matplotlib inline\n",
    "\n",
    "images_files = glob.glob(\"camera_cal/calibration*.jpg\")\n",
    "nx = 9\n",
    "ny = 6\n",
    "\n",
    "def get_calibration_points(images): \n",
    "    objpoints = [] # Known object coordinates for chessboard\n",
    "    imgpoints = []\n",
    "\n",
    "    objp = np.zeros((ny*nx,3), np.float32) \n",
    "    objp[:,:2] = np.mgrid[0:nx, 0:ny].T.reshape(-1, 2)\n",
    "\n",
    "#     figure, axis = plt.subplots(5, 4, figsize=(16, 16))\n",
    "#     figure.subplots_adjust(hspace=0.4, wspace=0.3)\n",
    "#     axis = axis.ravel()\n",
    "\n",
    "    for index, fname in enumerate(images):\n",
    "        # Read in a new image\n",
    "        img = mpimg.imread(fname)\n",
    "        \n",
    "        # Convert image to grayscale\n",
    "        gray = cv2.cvtColor(img, cv2.COLOR_RGB2GRAY)\n",
    "\n",
    "        # Find the chessboard corners\n",
    "        ret, corners = cv2.findChessboardCorners(gray, (nx,ny), None)\n",
    "\n",
    "        # If corners are found, add object points, image points\n",
    "        if ret == True: \n",
    "            imgpoints.append(corners)\n",
    "            objpoints.append(objp)\n",
    "            img_with_chessboard = cv2.drawChessboardCorners(img, (nx,ny), corners, ret)\n",
    "\n",
    "#             axis[index].set_title(fname)\n",
    "#             axis[index].axis('off')\n",
    "#             axis[index].imshow(img_with_chessboard)\n",
    "            \n",
    "    return objpoints, imgpoints\n",
    "\n",
    "objpoints, imgpoints = get_calibration_points(images_files)"
   ]
  },
  {
   "cell_type": "markdown",
   "metadata": {},
   "source": [
    "### 2. Distortion Correction"
   ]
  },
  {
   "cell_type": "markdown",
   "metadata": {},
   "source": [
    "#### Utility Functions"
   ]
  },
  {
   "cell_type": "code",
   "execution_count": 3,
   "metadata": {
    "collapsed": false
   },
   "outputs": [],
   "source": [
    "# Only need to apply this to a single image to retrieve calibration values\n",
    "def get_camera_calibration_matrices(image, objpoints, imgpoints): \n",
    "    gray = cv2.cvtColor(image, cv2.COLOR_RGB2GRAY)\n",
    "    ret, mtx, dist, rvecs, tvecs = cv2.calibrateCamera(objpoints, imgpoints, gray.shape, None, None)\n",
    "    return mtx, dist\n",
    "\n",
    "# Apply this to each image when undistortion\n",
    "def undistort(image): \n",
    "    undistort = cv2.undistort(image, mtx, dist, None, mtx)\n",
    "    return undistort"
   ]
  },
  {
   "cell_type": "markdown",
   "metadata": {},
   "source": [
    "#### Undistortion of Calibration Images"
   ]
  },
  {
   "cell_type": "code",
   "execution_count": null,
   "metadata": {
    "collapsed": false
   },
   "outputs": [],
   "source": [
    "calibration_image = mpimg.imread(images_files[0])\n",
    "mtx, dist = get_camera_calibration_matrices(calibration_image, objpoints, imgpoints)\n",
    "\n",
    "figure, axis = plt.subplots(5, 4, figsize=(16, 16))\n",
    "figure.subplots_adjust(hspace=0.4, wspace=0.3)\n",
    "axis = axis.ravel()\n",
    "\n",
    "for i, fname in enumerate(images_files): \n",
    "    img = mpimg.imread(fname)\n",
    "    undistorted = undistort(img)\n",
    "    axis[i].set_title(fname)\n",
    "    axis[i].axis('off')\n",
    "    axis[i].imshow(undistorted)"
   ]
  },
  {
   "cell_type": "markdown",
   "metadata": {},
   "source": [
    "#### Undistortion of Test Images"
   ]
  },
  {
   "cell_type": "code",
   "execution_count": null,
   "metadata": {
    "collapsed": false
   },
   "outputs": [],
   "source": [
    "example_image_one = mpimg.imread(\"test_images/test1.jpg\")\n",
    "undistorted_example_image_one = undistort(example_image_one)\n",
    "figure, (axis1, axis2) = plt.subplots(1, 2, figsize=(20, 15))\n",
    "figure.subplots_adjust(hspace=0.4, wspace=0.3)\n",
    "axis1.set_title(\"Original\")\n",
    "axis1.imshow(example_image_one)\n",
    "axis2.set_title(\"Undistorted\")\n",
    "axis2.imshow(undistorted_example_image_one)"
   ]
  },
  {
   "cell_type": "markdown",
   "metadata": {},
   "source": [
    "### 3. Perspective Transform"
   ]
  },
  {
   "cell_type": "code",
   "execution_count": null,
   "metadata": {
    "collapsed": false
   },
   "outputs": [],
   "source": [
    "def warp(image, src, dest): \n",
    "    # Get the transform matrix and inverse\n",
    "    M = cv2.getPerspectiveTransform(src, dest)\n",
    "    Minv = cv2.getPerspectiveTransform(dest, src)\n",
    "\n",
    "    # Apply transform matrix to produce perspective-transformed image\n",
    "    warped_image = cv2.warpPerspective(undistorted, M, (image.shape[1], image.shape[0]), flags=cv2.INTER_LINEAR)\n",
    "\n",
    "    return warped_image, M, Minv"
   ]
  },
  {
   "cell_type": "markdown",
   "metadata": {},
   "source": [
    "#### Identify source and destination points on test images"
   ]
  },
  {
   "cell_type": "code",
   "execution_count": null,
   "metadata": {
    "collapsed": false
   },
   "outputs": [],
   "source": [
    "example_images = glob.glob(\"test_images/test*.jpg\")\n",
    "warped_example_images = []\n",
    "\n",
    "for fname in example_images:\n",
    "    example_image = mpimg.imread(fname)\n",
    "    undistorted = undistort(example_image)\n",
    "    image_size = undistorted.shape\n",
    "    # define source and destination points for transform\n",
    "    src = np.float32([(590,450),\n",
    "                      (720,450), \n",
    "                      (200,680), \n",
    "                      (1050,680)])\n",
    "    \n",
    "    dest = np.float32([(400,0),\n",
    "                  (800,0),\n",
    "                  (400,image_size[0]),\n",
    "                  (800,image_size[0])])\n",
    "\n",
    "    warped_image, M, Minv = warp(example_image, src, dest)\n",
    "    warped_example_images.append((warped_image, M, Minv))\n",
    "\n",
    "    fig, axis = plt.subplots(1, 3, figsize=(20, 10))\n",
    "    axis = axis.ravel()\n",
    "    \n",
    "    axis[0].set_title(\"Original\")\n",
    "    axis[0].imshow(example_image)\n",
    "\n",
    "    axis[1].set_title(\"Undistorted Original\")\n",
    "    axis[1].imshow(undistorted)\n",
    "    # plt.imshow(combined_thresholded_image, cmap='gray')\n",
    "    axis[1].plot(590, 450, \"o\") # Top left\n",
    "    axis[1].plot(720, 450, \"o\") # Top right\n",
    "    axis[1].plot(200, 680, \"o\") # Bottom left\n",
    "    axis[1].plot(1075, 680, \"o\") # Bottom right\n",
    "\n",
    "    axis[2].set_title(\"Warped\")\n",
    "    axis[2].imshow(warped_image)\n",
    "    axis[2].plot(0, 0, \"o\")\n",
    "    axis[2].plot(example_image.shape[1], 0, \"o\")\n",
    "    axis[2].plot(0, example_image.shape[0], \"o\")\n",
    "    axis[2].plot(example_image.shape[1], example_image.shape[0], \"o\")"
   ]
  },
  {
   "cell_type": "markdown",
   "metadata": {},
   "source": [
    "### 4. Color/Gradient Thresholding"
   ]
  },
  {
   "cell_type": "code",
   "execution_count": 4,
   "metadata": {
    "collapsed": false
   },
   "outputs": [],
   "source": [
    "def abs_sobel_threshold(image, orient='x', sobel_kernel=3, threshold=(0, 255)): \n",
    "    # 1) Convert to grayscale\n",
    "    gray = cv2.cvtColor(image, cv2.COLOR_RGB2GRAY)\n",
    "    \n",
    "    # 2) Take the derivative in x or y given orient='x' or 'y'\n",
    "    xorder = 1 if orient == 'x' else 0\n",
    "    sobel = cv2.Sobel(gray, cv2.CV_64F, xorder, not xorder, ksize=sobel_kernel)\n",
    "    \n",
    "    # 3) Take the absolute value of the derivative\n",
    "    abs_sobel = np.absolute(sobel)\n",
    "    \n",
    "    # 4) Scale to 8-bit (0 - 255) then conver to type = np.uint8\n",
    "    scaled_sobel = np.uint8(255 * abs_sobel / np.max(abs_sobel))\n",
    "    \n",
    "    # 5) Create a mask of 1's where the scaled gradient magnitude is > threshold[0] and < threshold[1]\n",
    "    binary_output = np.zeros_like(scaled_sobel)\n",
    "    binary_output[(scaled_sobel >= threshold[0]) & (scaled_sobel <= threshold[1])] = 1\n",
    "    \n",
    "    return binary_output\n",
    "\n",
    "def magnitude_threshold(image, sobel_kernel=3, threshold=(0, 255)): \n",
    "    # 1) Convert to grayscale\n",
    "    gray = cv2.cvtColor(image, cv2.COLOR_RGB2GRAY)\n",
    "    \n",
    "    # 2) Take the derivative in x and y\n",
    "    sobel_x = cv2.Sobel(gray, cv2.CV_64F, 1, 0, ksize=sobel_kernel)\n",
    "    sobel_y = cv2.Sobel(gray, cv2.CV_64F, 0, 1, ksize=sobel_kernel)\n",
    "    \n",
    "    # 3) Calculate the magnitude\n",
    "    sobel_x2 = np.square(sobel_x)\n",
    "    sobel_y2 = np.square(sobel_y)\n",
    "    abs_sobel_xy = np.sqrt(sobel_x2 + sobel_y2)\n",
    "    \n",
    "    # 4) Scale to 8-bit (0 - 255) then conver to type = np.uint8\n",
    "    scaled_sobel = np.uint8(255 * abs_sobel_xy / np.max(abs_sobel_xy))\n",
    "    \n",
    "    # 5) Create a mask of 1's where the scaled gradient magnitude is > threshold[0] and < threshold[1]\n",
    "    binary_output = np.zeros_like(scaled_sobel)\n",
    "    binary_output[(scaled_sobel >= threshold[0]) & (scaled_sobel <= threshold[1])] = 1\n",
    "    \n",
    "    return binary_output\n",
    " \n",
    "\n",
    "def direction_threshold(image, sobel_kernel=3, threshold=(0, np.pi/2)): \n",
    "    # 1) Convert to grayscale\n",
    "    gray = cv2.cvtColor(image, cv2.COLOR_RGB2GRAY)\n",
    "    \n",
    "    # 2) Take the derivative in x and y\n",
    "    sobel_x = cv2.Sobel(gray, cv2.CV_64F, 1, 0, ksize=sobel_kernel)\n",
    "    sobel_y = cv2.Sobel(gray, cv2.CV_64F, 0, 1, ksize=sobel_kernel)\n",
    "    \n",
    "    # 3) Take the absolute x and y gradients\n",
    "    abs_sobel_x = np.square(sobel_x)\n",
    "    abs_sobel_y = np.square(sobel_y)\n",
    "    \n",
    "    # 4) Calculate the direction of gradient\n",
    "    dir_sobel = np.arctan2(abs_sobel_y, abs_sobel_x)\n",
    "    \n",
    "    # 5) Create a mask of 1's where the scaled gradient magnitude is > threshold[0] and < threshold[1]\n",
    "    binary_output = np.zeros_like(dir_sobel)\n",
    "    binary_output[(dir_sobel >= threshold[0]) & (dir_sobel <= threshold[1])] = 1\n",
    "    \n",
    "    return binary_output\n",
    "\n",
    "def binary_color_threshold(image, flag, c, threshold): \n",
    "    color_space = cv2.cvtColor(image, flag)\n",
    "    channel = color_space[:, :, c]\n",
    "    binary_color_space = np.zeros_like(channel)\n",
    "    binary_color_space[(channel >= threshold[0]) & (channel <= threshold[1])] = 1\n",
    "    return binary_color_space"
   ]
  },
  {
   "cell_type": "markdown",
   "metadata": {},
   "source": [
    "### Testing threshold techniques"
   ]
  },
  {
   "cell_type": "code",
   "execution_count": null,
   "metadata": {
    "collapsed": false
   },
   "outputs": [],
   "source": [
    "warped_and_thresholded = []\n",
    "\n",
    "for fname_raw in example_images: \n",
    "    raw_image = mpimg.imread(fname_raw)\n",
    "    \n",
    "    # Undistortion\n",
    "    raw_image_undistorted = undistort(raw_image)\n",
    "    img_shape = raw_image_undistorted.shape\n",
    "    \n",
    "    # Color thresholding\n",
    "    # LAB\n",
    "    lab_binary_threshold = binary_color_threshold(raw_image_undistorted, cv2.COLOR_RGB2Lab, 2, (145, 255))\n",
    "    # LUV\n",
    "    luv_binary_threshold = binary_color_threshold(raw_image_undistorted, cv2.COLOR_RGB2Luv, 0, (200, 255))\n",
    "    # HLS\n",
    "    hls_binary_threshold = binary_color_threshold(raw_image_undistorted, cv2.COLOR_RGB2HLS, 2, (200, 255))\n",
    "    # HSV\n",
    "    hsv_binary_threshold = binary_color_threshold(raw_image_undistorted, cv2.COLOR_RGB2HSV, 2, (180, 255))\n",
    "    # RGB\n",
    "    r = raw_image_undistorted[:, :, 0]\n",
    "    r_binary = np.zeros_like(r)\n",
    "    r_binary[(r >= 210) & (r <= 255)] = 1\n",
    "\n",
    "    # For color thresholding combinations\n",
    "    combined_color_binary = cv2.bitwise_or(lab_binary_threshold, luv_binary_threshold)\n",
    "\n",
    "    # Gradient thresholding\n",
    "    sobel_binary_x = abs_sobel_threshold(raw_image_undistorted, 'x', 3, (20, 100))\n",
    "    sobel_binary_y = abs_sobel_threshold(raw_image_undistorted, 'y', 3, (20, 100))\n",
    "    sobel_binary_magnitude = magnitude_threshold(raw_image_undistorted, 3, (20, 100))\n",
    "    sobel_binary_direction = direction_threshold(raw_image_undistorted, 17, (0.7, 1.3))\n",
    "    \n",
    "    # For gradient thresholding combinations\n",
    "    sobel_combined_1 = np.zeros_like(sobel_binary_x)\n",
    "    sobel_combined_1[(sobel_binary_x == 1) | (sobel_binary_y == 1)] = 1\n",
    "    sobel_combined_2 = np.zeros_like(sobel_binary_magnitude)\n",
    "    sobel_combined_2[(sobel_binary_magnitude == 1) | (sobel_binary_direction == 1)] = 1\n",
    "    \n",
    "    # For color and gradient thresholding combinations\n",
    "    combined_binary = np.zeros_like(sobel_binary_y)\n",
    "    combined_binary[(sobel_binary_magnitude == 1) | (combined_color_binary == 1)] = 1\n",
    "        \n",
    "    # Source and destination points for transform\n",
    "    src = np.float32([(580,450), (720,450), (200,680), (900,680)])\n",
    "    dest = np.float32([(100,200), (800,200), (100,900), (800,900)])\n",
    "    \n",
    "    # Perspective transform\n",
    "    raw_image_undistorted_warped, M, Minv = warp(combined_color_binary, src, dest)\n",
    "    warped_and_thresholded.append(raw_image_undistorted_warped)\n",
    "    \n",
    "    # Plots\n",
    "    f, axis = plt.subplots(1, 7, figsize=(20, 10))\n",
    "    axis = axis.ravel()\n",
    "    axis[0].set_title(\"Mask\")\n",
    "    axis[0].imshow(raw_image)\n",
    "    \n",
    "    axis[1].set_title(\"Undistorted\")\n",
    "    axis[1].imshow(raw_image_undistorted)\n",
    "    \n",
    "    axis[2].set_title(\"B Channel\")\n",
    "    axis[2].imshow(lab_binary_threshold, cmap='gray')\n",
    "    \n",
    "    axis[3].set_title(\"L Channel\")\n",
    "    axis[3].imshow(luv_binary_threshold, cmap='gray')\n",
    "    \n",
    "    axis[4].set_title(\"Thresholded\")\n",
    "    axis[4].imshow(combined_color_binary, cmap='gray')\n",
    "    \n",
    "    axis[5].set_title(\"Sobel\")\n",
    "    axis[5].imshow(sobel_binary_magnitude, cmap='gray')\n",
    "    \n",
    "    axis[6].set_title(\"Warped\")\n",
    "    axis[6].imshow(raw_image_undistorted_warped, cmap='gray')"
   ]
  },
  {
   "cell_type": "markdown",
   "metadata": {},
   "source": [
    "### 5. Lane finding and Measuring Radius of Curvature"
   ]
  },
  {
   "cell_type": "markdown",
   "metadata": {},
   "source": [
    "#### Lane Finding Method: Peaks in a Histogram & Sliding Window"
   ]
  },
  {
   "cell_type": "code",
   "execution_count": 5,
   "metadata": {
    "collapsed": false
   },
   "outputs": [],
   "source": [
    "def poly_fit_sliding_window(in_image): \n",
    "    # Take the histogram of the bottom half of the image\n",
    "    histogram = np.sum(in_image[in_image.shape[0]//2:, :], axis=0)\n",
    "    \n",
    "    out_image = np.dstack((in_image, in_image, in_image)) * 255\n",
    "\n",
    "    # Find the peak of the left ad right halves of the histogram\n",
    "    # These are the starting points for left and right lines\n",
    "    midpoint = np.int(histogram.shape[0]/2)\n",
    "    left_x_base = np.argmax(histogram[:midpoint])\n",
    "    right_x_base = np.argmax(histogram[midpoint:midpoint+200]) + midpoint\n",
    "    \n",
    "    # Number of sliding windows\n",
    "    n_sliding_windows = 9\n",
    "\n",
    "    # Set the height of the windows\n",
    "    window_height = np.int(in_image.shape[0] / n_sliding_windows)\n",
    "\n",
    "    # Identify the x and y positions of all nonzero pixels in the image\n",
    "    nonzero = in_image.nonzero()\n",
    "    nonzero_y = np.array(nonzero[0])\n",
    "    nonzero_x = np.array(nonzero[1])\n",
    "\n",
    "    # Current positions to be updated for each window\n",
    "    left_x_current = left_x_base\n",
    "    right_x_current = right_x_base\n",
    "\n",
    "    # Width of windows +/- margin\n",
    "    margin = 100\n",
    "\n",
    "    # Minimum number of pixels found to recenter window\n",
    "    minpix = 50\n",
    "\n",
    "    # Create empty lists to receive left and right lane pixel indices\n",
    "    left_lane_indices = []\n",
    "    right_lane_indices = []\n",
    "\n",
    "    # Step through windows one by one\n",
    "    for window in range(n_sliding_windows): \n",
    "        # Identify window boundaries in x and y (for both left and right)\n",
    "        window_y_low = in_image.shape[0] - (window + 1) * window_height\n",
    "        window_y_high = in_image.shape[0] - window * window_height\n",
    "        window_x_left_low = left_x_current - margin\n",
    "        window_x_left_high = left_x_current + margin\n",
    "        window_x_right_low = right_x_current - margin\n",
    "        window_x_right_high = right_x_current + margin\n",
    "\n",
    "        # Draw the windows on the visualization\n",
    "        cv2.rectangle(out_image, (window_x_left_low, window_y_low), (window_x_left_high, window_y_high), (0, 255, 0), 2)\n",
    "        cv2.rectangle(out_image, (window_x_right_low, window_y_low), (window_x_right_high, window_y_high), (0, 255, 0), 2)\n",
    "\n",
    "        # Identify the nonzero pixels in x and y within the window\n",
    "        good_left_indices = ((nonzero_y >= window_y_low) & (nonzero_y < window_y_high) & \n",
    "                             (nonzero_x >= window_x_left_low) & (nonzero_x < window_x_left_high)).nonzero()[0]\n",
    "        good_right_indices = ((nonzero_y > window_y_low) & (nonzero_y < window_y_high) &\n",
    "                             (nonzero_x >= window_x_right_low) & (nonzero_x < window_x_right_high)).nonzero()[0]\n",
    "\n",
    "        # Append these indices to the lists\n",
    "        left_lane_indices.append(good_left_indices)\n",
    "        right_lane_indices.append(good_right_indices)\n",
    "\n",
    "        # If you found > minpix pixels, recenter the next window on their mean position\n",
    "        if len(good_left_indices) > minpix: \n",
    "            left_x_current = np.int(np.mean(nonzero_x[good_left_indices]))\n",
    "\n",
    "        if len(good_right_indices) > minpix: \n",
    "            right_x_current = np.int(np.mean(nonzero_x[good_right_indices]))\n",
    "\n",
    "    # Concatenate the arrays of indices\n",
    "    left_lane_indices = np.concatenate(left_lane_indices)\n",
    "    right_lane_indices = np.concatenate(right_lane_indices)\n",
    "\n",
    "    # Extract left and right pixel positions\n",
    "    left_x = nonzero_x[left_lane_indices]\n",
    "    left_y = nonzero_y[left_lane_indices]\n",
    "    right_x = nonzero_x[right_lane_indices]\n",
    "    right_y = nonzero_y[right_lane_indices]\n",
    "\n",
    "    # Fit a second order polynomial to each\n",
    "    left_line_fit, right_line_fit = (None, None)\n",
    "    if len(left_x) != 0: \n",
    "        left_line_fit = np.polyfit(left_y, left_x, 2)\n",
    "    else: \n",
    "        print (\"Left x DNE\")\n",
    "    \n",
    "    if len(right_x) != 0:\n",
    "        right_line_fit = np.polyfit(right_y, right_x, 2)\n",
    "    else: \n",
    "        print (\"Right x DNE\")\n",
    "        \n",
    "    # return out_image, histogram, left_line_fit, right_line_fit, left_lane_indices, right_lane_indices, nonzero_x, nonzero_y \n",
    "    return left_line_fit, right_line_fit, left_lane_indices, right_lane_indices, (out_image, histogram)"
   ]
  },
  {
   "cell_type": "markdown",
   "metadata": {},
   "source": [
    "#### Sliding Window Visualization"
   ]
  },
  {
   "cell_type": "code",
   "execution_count": null,
   "metadata": {
    "collapsed": false
   },
   "outputs": [],
   "source": [
    "for binary_warped in warped_and_thresholded:\n",
    "    out_image, histogram, left_line_fit, right_line_fit, left_lane_indices, right_lane_indices, nonzero_x, nonzero_y = poly_fit_sliding_window(binary_warped)\n",
    "    plot_y = np.linspace(0, binary_warped.shape[0]-1, binary_warped.shape[0])\n",
    "    left_fit_x = left_line_fit[0]*plot_y**2 + left_line_fit[1]*plot_y + left_line_fit[2]\n",
    "    right_fit_x = right_line_fit[0]*plot_y**2 + right_line_fit[1]*plot_y + right_line_fit[2]\n",
    "\n",
    "    out_image[nonzero_y[left_lane_indices], nonzero_x[left_lane_indices]] = [255, 0, 0]\n",
    "    out_image[nonzero_y[right_lane_indices], nonzero_x[right_lane_indices]] = [0, 0, 255]\n",
    "    \n",
    "    f, axis = plt.subplots(1, 1, figsize=(10, 10))\n",
    "    axis.imshow(out_image)\n",
    "    axis.plot(left_fit_x, plot_y, color='y')\n",
    "    axis.plot(right_fit_x, plot_y, color='y')\n",
    "    axis.set_xlim(0, 1280)\n",
    "    axis.set_ylim(720, 0)"
   ]
  },
  {
   "cell_type": "markdown",
   "metadata": {},
   "source": [
    "#### Sliding Window Optimization for Next Frame"
   ]
  },
  {
   "cell_type": "code",
   "execution_count": 92,
   "metadata": {
    "collapsed": false
   },
   "outputs": [],
   "source": [
    "# Next frame represented by new binary_warped \n",
    "def poly_fit_on_next_frame(binary_warped, previous_left_line_fit, previous_right_line_fit):\n",
    "    nonzero = binary_warped.nonzero()\n",
    "    nonzero_y = np.array(nonzero[0])\n",
    "    nonzero_x = np.array(nonzero[1])\n",
    "    margin = 100\n",
    "\n",
    "    left_lane_indices = ((nonzero_x > (previous_left_line_fit[0]*(nonzero_y**2) + previous_left_line_fit[1]*nonzero_y + \n",
    "                                       previous_left_line_fit[2] - margin)) & (nonzero_x < (previous_left_line_fit[0]*(nonzero_y**2) +\n",
    "                                       previous_left_line_fit[1]*nonzero_y + previous_left_line_fit[2] + margin)))\n",
    "\n",
    "    right_lane_indices = ((nonzero_x > (previous_right_line_fit[0]*(nonzero_y**2) + previous_right_line_fit[1]*nonzero_y + \n",
    "                                       previous_right_line_fit[2] - margin)) & (nonzero_x < (previous_right_line_fit[0]*(nonzero_y**2) +\n",
    "                                       previous_right_line_fit[1]*nonzero_y + previous_right_line_fit[2] + margin)))\n",
    "\n",
    "    # Extract left and right line pixel positions\n",
    "    left_x = nonzero_x[left_lane_indices]\n",
    "    left_y = nonzero_y[left_lane_indices]\n",
    "    right_x = nonzero_x[right_lane_indices]\n",
    "    right_y = nonzero_y[right_lane_indices]\n",
    "\n",
    "    # Fit a second order polynomial to each\n",
    "    left_line_fit = np.polyfit(left_y, left_x, 2)\n",
    "    right_line_fit = np.polyfit(right_y, right_x, 2)\n",
    "    \n",
    "    return left_line_fit, right_line_fit, left_lane_indices, right_lane_indices"
   ]
  },
  {
   "cell_type": "markdown",
   "metadata": {},
   "source": [
    "#### Example next frame visualization"
   ]
  },
  {
   "cell_type": "code",
   "execution_count": 93,
   "metadata": {
    "collapsed": false
   },
   "outputs": [
    {
     "ename": "NameError",
     "evalue": "name 'warped_and_thresholded' is not defined",
     "output_type": "error",
     "traceback": [
      "\u001b[0;31m---------------------------------------------------------------------------\u001b[0m",
      "\u001b[0;31mNameError\u001b[0m                                 Traceback (most recent call last)",
      "\u001b[0;32m<ipython-input-93-dd3f8d498e07>\u001b[0m in \u001b[0;36m<module>\u001b[0;34m()\u001b[0m\n\u001b[0;32m----> 1\u001b[0;31m \u001b[0;32mfor\u001b[0m \u001b[0mbinary_warped\u001b[0m \u001b[0;32min\u001b[0m \u001b[0mwarped_and_thresholded\u001b[0m\u001b[0;34m:\u001b[0m\u001b[0;34m\u001b[0m\u001b[0m\n\u001b[0m\u001b[1;32m      2\u001b[0m     \u001b[0;31m# Create an image to draw on and an image to show the selection window\u001b[0m\u001b[0;34m\u001b[0m\u001b[0;34m\u001b[0m\u001b[0m\n\u001b[1;32m      3\u001b[0m     \u001b[0mout_image\u001b[0m \u001b[0;34m=\u001b[0m \u001b[0mnp\u001b[0m\u001b[0;34m.\u001b[0m\u001b[0mdstack\u001b[0m\u001b[0;34m(\u001b[0m\u001b[0;34m(\u001b[0m\u001b[0mbinary_warped\u001b[0m\u001b[0;34m,\u001b[0m \u001b[0mbinary_warped\u001b[0m\u001b[0;34m,\u001b[0m \u001b[0mbinary_warped\u001b[0m\u001b[0;34m)\u001b[0m\u001b[0;34m)\u001b[0m\u001b[0;34m*\u001b[0m\u001b[0;36m255\u001b[0m\u001b[0;34m\u001b[0m\u001b[0m\n\u001b[1;32m      4\u001b[0m     \u001b[0mwindow_image\u001b[0m \u001b[0;34m=\u001b[0m \u001b[0mnp\u001b[0m\u001b[0;34m.\u001b[0m\u001b[0mzeros_like\u001b[0m\u001b[0;34m(\u001b[0m\u001b[0mout_image\u001b[0m\u001b[0;34m)\u001b[0m\u001b[0;34m\u001b[0m\u001b[0m\n\u001b[1;32m      5\u001b[0m \u001b[0;34m\u001b[0m\u001b[0m\n",
      "\u001b[0;31mNameError\u001b[0m: name 'warped_and_thresholded' is not defined"
     ]
    }
   ],
   "source": [
    "for binary_warped in warped_and_thresholded:\n",
    "    # Create an image to draw on and an image to show the selection window\n",
    "    out_image = np.dstack((binary_warped, binary_warped, binary_warped))*255\n",
    "    window_image = np.zeros_like(out_image)\n",
    "\n",
    "    # Color in left and right line pixels\n",
    "    out_image[nonzero_y[left_lane_indices], nonzero_x[left_lane_indices]] = (255, 0, 0)\n",
    "    out_image[nonzero_y[right_lane_indices], nonzero_x[right_lane_indices]] = (0, 0, 255)\n",
    "\n",
    "    # Generate a polygon to illustrate the search window area\n",
    "    # Recast the x and y points into usable format for cv2.fillPoly()\n",
    "    left_line_window_1 = np.array([np.transpose(np.vstack([left_fit_x - margin, plot_y]))])\n",
    "    left_line_window_2 = np.array([np.flipud(np.transpose(np.vstack([left_fit_x + margin, plot_y])))])\n",
    "    left_line_points = np.hstack((left_line_window_1, left_line_window_2))\n",
    "\n",
    "    right_line_window_1 = np.array([np.transpose(np.vstack([right_fit_x - margin, plot_y]))])\n",
    "    right_line_window_2 = np.array([np.flipud(np.transpose(np.vstack([right_fit_x + margin, plot_y])))])\n",
    "    right_line_points = np.hstack((right_line_window_1, right_line_window_2))\n",
    "\n",
    "    # Draw the lane onto the warped blank image\n",
    "    cv2.fillPoly(window_image, np.int_([left_line_points]), (0, 255, 0))\n",
    "    cv2.fillPoly(window_image, np.int_([right_line_points]), (0, 255, 0))\n",
    "    result = cv2.addWeighted(out_image, 1, window_image, 0.3, 0)\n",
    "\n",
    "    f, axis = plt.subplots(1, 1, figsize=(10, 10))\n",
    "    axis.imshow(result)\n",
    "    axis.plot(left_fit_x, plot_y, color='y')\n",
    "    axis.plot(right_fit_x, plot_y, color='y')\n",
    "    axis.set_xlim(0, 1280)\n",
    "    axis.set_ylim(720, 0)"
   ]
  },
  {
   "cell_type": "markdown",
   "metadata": {},
   "source": [
    "#### Measuring Radius of Curvature"
   ]
  },
  {
   "cell_type": "code",
   "execution_count": 124,
   "metadata": {
    "collapsed": false
   },
   "outputs": [],
   "source": [
    "def radius_of_curvature(binary_warped, left_lane_indices, right_lane_indices):\n",
    "    plot_y = np.linspace(0, binary_warped.shape[0]-1, binary_warped.shape[0])\n",
    "    y_eval = np.max(plot_y)\n",
    "    \n",
    "    nonzero = binary_warped.nonzero()\n",
    "    nonzero_y = np.array(nonzero[0])\n",
    "    nonzero_x = np.array(nonzero[1])\n",
    "        \n",
    "    left_x = nonzero_x[left_lane_indices]\n",
    "    left_y = nonzero_y[left_lane_indices]\n",
    "    right_x = nonzero_x[right_lane_indices]\n",
    "    right_y = nonzero_y[right_lane_indices]\n",
    "\n",
    "    y_meters_per_pixel = 30 / 720\n",
    "    x_meters_per_pixel = 3.7 / 700\n",
    "\n",
    "    if len(left_x) != 0 and len(right_x) != 0: \n",
    "        # Fit new polynomials to x,y in world space\n",
    "        left_line_fit_meters = np.polyfit(left_y * y_meters_per_pixel, left_x * x_meters_per_pixel, 2)\n",
    "        right_line_fit_meters = np.polyfit(right_y * y_meters_per_pixel, right_x * x_meters_per_pixel, 2)\n",
    "\n",
    "        # Calculate the new radii of curvature\n",
    "        left_curve_rad = ((1 + (2*left_line_fit_meters[0]*y_eval*y_meters_per_pixel + left_line_fit_meters[1])**2)**1.5) / np.absolute(2*left_line_fit_meters[0])\n",
    "        right_curve_rad = ((1 + (2*right_line_fit_meters[0]*y_eval*y_meters_per_pixel + right_line_fit_meters[1])**2)**1.5) / np.absolute(2*right_line_fit_meters[0])\n",
    "    \n",
    "        return left_curve_rad, right_curve_rad\n",
    "    \n",
    "    return (None, None)\n",
    "\n",
    "def distance_from_center(binary_warped, left_line_fit, right_line_fit): \n",
    "    y_meters_per_pixel = 30 / 720\n",
    "    x_meters_per_pixel = 3.7 / 700\n",
    "    \n",
    "    if left_line_fit is not None and right_line_fit is not None:         \n",
    "#         plot_y = np.linspace(0, binary_warped.shape[0]-1, binary_warped.shape[0])\n",
    "        y = binary_warped.shape[0]\n",
    "\n",
    "        camera_center = binary_warped.shape[1] / 2\n",
    "        left_fit_x = left_line_fit[0]*y**2 + left_line_fit[1]*y + left_line_fit[2]\n",
    "        right_fit_x = right_line_fit[0]*y**2 + right_line_fit[1]*y + right_line_fit[2]\n",
    "\n",
    "        lane_center = (left_fit_x + right_fit_x) / 2\n",
    "        distance_from_center_in_meters = abs(camera_center - lane_center) * x_meters_per_pixel\n",
    "\n",
    "        return distance_from_center_in_meters\n",
    "    \n",
    "    return None"
   ]
  },
  {
   "cell_type": "markdown",
   "metadata": {},
   "source": [
    "#### Drawing the Lanes!"
   ]
  },
  {
   "cell_type": "code",
   "execution_count": 132,
   "metadata": {
    "collapsed": false
   },
   "outputs": [],
   "source": [
    "def draw_lanes(undistorted, binary_warped, Minv, left_line_fit, right_line_fit): \n",
    "    if left_line_fit is None or right_line_fit is None:\n",
    "        return undistorted\n",
    "    plot_y = np.linspace(0, binary_warped.shape[0]-1, binary_warped.shape[0])\n",
    "    warp_zero = np.zeros_like(binary_warped).astype(np.uint8)\n",
    "    color_warp = np.dstack((warp_zero, warp_zero, warp_zero))\n",
    "    \n",
    "#     print (\"This is right before the error\")\n",
    "#     print (\"Left line fit size: \", left_line_fit.shape)\n",
    "#     print (\"Right line fit size: \", right_line_fit.shape)\n",
    "    left_fit_x = left_line_fit[0]*plot_y**2 + left_line_fit[1]*plot_y + left_line_fit[2]\n",
    "#     print (\"This is right after the error\")\n",
    "    right_fit_x = right_line_fit[0]*plot_y**2 + right_line_fit[1]*plot_y + right_line_fit[2]\n",
    "\n",
    "    # Recast the x, y points into usable format for cv2.fillPoly()\n",
    "    points_left = np.array([np.transpose(np.vstack([left_fit_x, plot_y]))])\n",
    "    points_right = np.array([np.flipud(np.transpose(np.vstack([right_fit_x, plot_y])))])\n",
    "    points = np.hstack((points_left, points_right))\n",
    "\n",
    "    # Draw the lane onto the warped blank image\n",
    "    cv2.fillPoly(color_warp, np.int_([points]), (0, 255, 0))\n",
    "\n",
    "    # Warp the blank back to original image space using inverse perspective matrix (Minv)\n",
    "    new_warp = cv2.warpPerspective(color_warp, Minv, (undistorted.shape[1], undistorted.shape[0]))\n",
    "\n",
    "    # Combine the result with the original image\n",
    "    result = cv2.addWeighted(undistorted, 1, new_warp, 0.3, 0)\n",
    "    \n",
    "    return result"
   ]
  },
  {
   "cell_type": "markdown",
   "metadata": {},
   "source": [
    "### Pipeline Utilities"
   ]
  },
  {
   "cell_type": "code",
   "execution_count": 126,
   "metadata": {
    "collapsed": true
   },
   "outputs": [],
   "source": [
    "# Apply this to each image when undistortion\n",
    "def undistort(image): \n",
    "    undistort = cv2.undistort(image, mtx, dist, None, mtx)\n",
    "    return undistort\n",
    "\n",
    "def threshold(image): \n",
    "    img_shape = image.shape\n",
    "    \n",
    "    # LAB\n",
    "    lab_binary_threshold = binary_color_threshold(image, cv2.COLOR_RGB2Lab, 2, (145, 255))\n",
    "    \n",
    "    # LUV\n",
    "    luv_binary_threshold = binary_color_threshold(image, cv2.COLOR_RGB2Luv, 0, (200, 255))\n",
    "\n",
    "    # Combine color thresholds\n",
    "    combined_color_binary = cv2.bitwise_or(lab_binary_threshold, luv_binary_threshold)\n",
    "    \n",
    "    # Gradient threshold\n",
    "    sobel_binary_y = abs_sobel_threshold(image, 'y', 3, (20, 100))\n",
    "\n",
    "    # Combine color and gradient thresholds\n",
    "    combined_binary = np.zeros_like(sobel_binary_y)\n",
    "    combined_binary[(sobel_binary_y == 1) | (combined_color_binary == 1)] = 1\n",
    "    \n",
    "    return combined_binary\n",
    "\n",
    "def warped(image, src, dest): \n",
    "    # Get the transform matrix and inverse\n",
    "    M = cv2.getPerspectiveTransform(src, dest)\n",
    "    Minv = cv2.getPerspectiveTransform(dest, src)\n",
    "\n",
    "    # Apply transform matrix to produce perspective-transformed image\n",
    "    warped_image = cv2.warpPerspective(image, M, (image.shape[1], image.shape[0]), flags=cv2.INTER_LINEAR)\n",
    "\n",
    "    return warped_image, M, Minv\n",
    "\n",
    "def process_image(image): \n",
    "    # 1. Undistort\n",
    "    undistorted = undistort(image)\n",
    "    \n",
    "    # 2. Color/Gradient thresholding\n",
    "    thresholded = threshold(image)\n",
    "    \n",
    "    # 3. Warp\n",
    "    src = np.float32([(580,450), (720,450), (200,680), (900,680)])\n",
    "    dest = np.float32([(100,200), (800,200), (100,900), (800,900)])\n",
    "    \n",
    "    warped_image, M, Minv = warped(thresholded, src, dest)\n",
    "    \n",
    "    return undistorted, thresholded, warped_image, M, Minv\n",
    "\n",
    "# COME BACK TO FIX THIS AND MODIFY OR GIVE PROPER CREDIT TO JEREMY SHANNON\n",
    "def draw_data(original_img, curv_rad, center_dist):\n",
    "    new_img = np.copy(original_img)\n",
    "    h = new_img.shape[0]\n",
    "    font = cv2.FONT_HERSHEY_DUPLEX\n",
    "    text = 'Curve radius: ' + '{:04.2f}'.format(curv_rad) + 'm'\n",
    "    cv2.putText(new_img, text, (40,70), font, 1.5, (200,255,155), 2, cv2.LINE_AA)\n",
    "    direction = ''\n",
    "    if center_dist > 0:\n",
    "        direction = 'right'\n",
    "    elif center_dist < 0:\n",
    "        direction = 'left'\n",
    "    abs_center_dist = abs(center_dist)\n",
    "    text = '{:04.3f}'.format(abs_center_dist) + 'm ' + direction + ' of center'\n",
    "    cv2.putText(new_img, text, (40,120), font, 1.5, (200,255,155), 2, cv2.LINE_AA)\n",
    "    return new_img"
   ]
  },
  {
   "cell_type": "markdown",
   "metadata": {},
   "source": [
    "####  Line Class for Lane Tracking"
   ]
  },
  {
   "cell_type": "code",
   "execution_count": 127,
   "metadata": {
    "collapsed": false
   },
   "outputs": [],
   "source": [
    "# Stores characteristics of each line detection\n",
    "# Create an instance for the left and right lanes\n",
    "class Line(): \n",
    "    def __init__(self): \n",
    "        # was the line detected in the last iteration\n",
    "        self.detected = False\n",
    "        \n",
    "        # x values of the last n fits of line\n",
    "        self.recent_xfitted = [] \n",
    "        \n",
    "        # average x values of the fitted line over the last n iterations\n",
    "        self.bestx = None\n",
    "        \n",
    "        # polynomial coefficients averaged over last n iterations\n",
    "        self.best_fit = None\n",
    "        \n",
    "        # polynomial coefficients for the most recent fit\n",
    "        self.current_fit = []\n",
    "        \n",
    "        # radius of curvature of the line in some units\n",
    "        self.radius_of_curvature = None\n",
    "        \n",
    "        # distance in meters of vehicle center from the line\n",
    "        self.line_base_pos = None\n",
    "        \n",
    "        # difference in fit coefficients between last and new fits\n",
    "        self.coefficient_diffs = np.array([0, 0, 0], dtype='float')\n",
    "        \n",
    "        self.px_count = None\n",
    "        \n",
    "    # COME BACK TO FIX THIS AND MODIFY\n",
    "    def add_fit(self, fit, inds):\n",
    "        # add a found fit to the line, up to n\n",
    "        if fit is not None:\n",
    "            if self.best_fit is not None:\n",
    "                # if we have a best fit, see how this new fit compares\n",
    "                self.diffs = abs(fit-self.best_fit)\n",
    "            if (self.coefficient_diffs[0] > 0.001 or \\\n",
    "               self.coefficient_diffs[1] > 1.0 or \\\n",
    "               self.coefficient_diffs[2] > 100.) and \\\n",
    "               len(self.current_fit) > 0:\n",
    "                # bad fit! abort! abort! ... well, unless there are no fits in the current_fit queue, then we'll take it\n",
    "                self.detected = False\n",
    "            else:\n",
    "                self.detected = True\n",
    "                self.px_count = np.count_nonzero(inds)\n",
    "                self.current_fit.append(fit)\n",
    "#                 print (\"Appending current fit\")\n",
    "#                 print (\"After appending new current fit: \", self.current_fit)\n",
    "                if len(self.current_fit) > 5:\n",
    "                    # throw out old fits, keep newest n\n",
    "                    self.current_fit = self.current_fit[len(self.current_fit)-5:]\n",
    "                self.best_fit = np.average(self.current_fit, axis=0)\n",
    "        # or remove one from the history, if not found\n",
    "        else:\n",
    "            self.detected = False\n",
    "            if len(self.current_fit) > 0:\n",
    "#                 print (\"Length of current fit is greater than 0\")\n",
    "                # throw out oldest fit\n",
    "                self.current_fit = self.current_fit[:len(self.current_fit)-1]\n",
    "#                 print (self.current_fit)\n",
    "            if len(self.current_fit) > 0:\n",
    "#                 print (\"Length of current fit is still greater than 0 after trimming fat\")\n",
    "                # if there are still any fits in the queue, best_fit is their average\n",
    "                self.best_fit = np.average(self.current_fit, axis=0)\n",
    "#                 print (self.best_fit)"
   ]
  },
  {
   "cell_type": "markdown",
   "metadata": {},
   "source": [
    "# Complete Pipeline"
   ]
  },
  {
   "cell_type": "markdown",
   "metadata": {},
   "source": [
    "* Undistort image\n",
    "* Apply color and gradient thresholding\n",
    "* Apply perspective transform\n",
    "* Identify lane lines using sliding window\n",
    "* Measure radius of curvature\n",
    "* Draw lane lines back onto original image\n",
    "* Return updated image"
   ]
  },
  {
   "cell_type": "code",
   "execution_count": 128,
   "metadata": {
    "collapsed": false
   },
   "outputs": [],
   "source": [
    "# 1. Calibrate camera\n",
    "calibration_images = glob.glob(\"camera_cal/calibration*.jpg\")\n",
    "objpoints, imgpoints = get_calibration_points(calibration_images)\n",
    "calibration_image = mpimg.imread(calibration_images[0])\n",
    "\n",
    "# 2. Get calibration matrices\n",
    "mtx, dist = get_camera_calibration_matrices(calibration_image, objpoints, imgpoints)\n",
    "    \n",
    "def pipeline(image): \n",
    "    # 1. Process the image (undistort, thresholding, perspective transform)\n",
    "    undistorted, thresholded, warped_image, M, Minv = process_image(image)\n",
    "    \n",
    "    # 2. Identify lane lines \n",
    "    if not left_line.detected and not right_line.detected: \n",
    "        # Use sliding window\n",
    "        left_line_fit, right_line_fit, left_lane_indices, right_lane_indices, extra = poly_fit_sliding_window(warped_image)\n",
    "    else: \n",
    "        left_line_fit, right_line_fit, left_lane_indices, right_lane_indices = poly_fit_on_next_frame(warped_image, left_line.best_fit, right_line.best_fit)\n",
    "        \n",
    "    # 3. Sanity-check the new lines\n",
    "    if left_line_fit is not None and right_line_fit is not None:\n",
    "        # We are defining lines in terms of f(y) because lanes are vertical\n",
    "        # y = np.linspace(0, image.shape[0]-1, image.shape[0])\n",
    "        y = image.shape[0]\n",
    "        # Measure radius of curvature / line effectiveness\n",
    "        left_fit_x = left_line_fit[0]*y**2 + left_line_fit[1]*y + left_line_fit[2]\n",
    "        right_fit_x = right_line_fit[0]*y**2 + right_line_fit[1]*y + right_line_fit[2]\n",
    "        diff = abs(left_fit_x - right_fit_x)\n",
    "        if abs(diff - 500) > 300:\n",
    "            left_line_fit = None\n",
    "            right_line_fit = None\n",
    "            \n",
    "    # 4. Add the new lines assuming they are reasonable\n",
    "    left_line.add_fit(left_line_fit, left_lane_indices)\n",
    "    right_line.add_fit(right_line_fit, right_lane_indices)\n",
    "            \n",
    "    # 5. Draw lane lines back onto original image\n",
    "    left_line_curvature, right_line_curvature = radius_of_curvature(warped_image, left_lane_indices, right_lane_indices)\n",
    "    distance = distance_from_center(warped_image, left_line_fit, right_line_fit)\n",
    "    \n",
    "    # 5. Return updated image\n",
    "    left_best_fit = left_line.best_fit\n",
    "    right_best_fit = right_line.best_fit\n",
    "    if left_line.best_fit is not None and right_line.best_fit is not None: \n",
    "        updated_image_with_lanes = draw_lanes(undistorted, warped_image, Minv, left_best_fit, right_best_fit)\n",
    "        left_rad, right_rad = radius_of_curvature(warped_image, left_lane_indices, right_lane_indices)\n",
    "        center_distance = distance_from_center(warped_image, left_best_fit, right_best_fit)\n",
    "        updated_image_with_lanes_and_data = draw_data(updated_image_with_lanes, (left_rad + right_rad)/2, center_distance)\n",
    "    else: \n",
    "        updated_image_with_lanes_and_data = image\n",
    "        \n",
    "    return updated_image_with_lanes_and_data"
   ]
  },
  {
   "cell_type": "markdown",
   "metadata": {},
   "source": [
    "# Video Playback"
   ]
  },
  {
   "cell_type": "markdown",
   "metadata": {},
   "source": [
    "### Project Video"
   ]
  },
  {
   "cell_type": "code",
   "execution_count": 129,
   "metadata": {
    "collapsed": false
   },
   "outputs": [
    {
     "name": "stdout",
     "output_type": "stream",
     "text": [
      "This is right after the error\n",
      "[MoviePy] >>>> Building video project_video_with_lanes.mp4\n",
      "[MoviePy] Writing video project_video_with_lanes.mp4\n"
     ]
    },
    {
     "name": "stderr",
     "output_type": "stream",
     "text": [
      "\n",
      "  0%|          | 0/1261 [00:00<?, ?it/s]\u001b[A\n",
      "  0%|          | 1/1261 [00:00<02:51,  7.34it/s]"
     ]
    },
    {
     "name": "stdout",
     "output_type": "stream",
     "text": [
      "This is right after the error\n"
     ]
    },
    {
     "name": "stderr",
     "output_type": "stream",
     "text": [
      "\u001b[A\n",
      "  0%|          | 2/1261 [00:00<02:51,  7.36it/s]"
     ]
    },
    {
     "name": "stdout",
     "output_type": "stream",
     "text": [
      "This is right after the error\n"
     ]
    },
    {
     "name": "stderr",
     "output_type": "stream",
     "text": [
      "\u001b[A\n",
      "  0%|          | 3/1261 [00:00<02:51,  7.35it/s]"
     ]
    },
    {
     "name": "stdout",
     "output_type": "stream",
     "text": [
      "This is right after the error\n"
     ]
    },
    {
     "name": "stderr",
     "output_type": "stream",
     "text": [
      "\u001b[A\n",
      "  0%|          | 4/1261 [00:00<02:50,  7.38it/s]"
     ]
    },
    {
     "name": "stdout",
     "output_type": "stream",
     "text": [
      "This is right after the error\n"
     ]
    },
    {
     "name": "stderr",
     "output_type": "stream",
     "text": [
      "\u001b[A\n",
      "  0%|          | 5/1261 [00:00<02:49,  7.40it/s]"
     ]
    },
    {
     "name": "stdout",
     "output_type": "stream",
     "text": [
      "This is right after the error\n"
     ]
    },
    {
     "name": "stderr",
     "output_type": "stream",
     "text": [
      "\u001b[A\n",
      "  0%|          | 6/1261 [00:00<02:49,  7.40it/s]"
     ]
    },
    {
     "name": "stdout",
     "output_type": "stream",
     "text": [
      "This is right after the error\n"
     ]
    },
    {
     "name": "stderr",
     "output_type": "stream",
     "text": [
      "\u001b[A\n",
      "  1%|          | 7/1261 [00:00<02:48,  7.44it/s]"
     ]
    },
    {
     "name": "stdout",
     "output_type": "stream",
     "text": [
      "This is right after the error\n"
     ]
    },
    {
     "name": "stderr",
     "output_type": "stream",
     "text": [
      "\u001b[A\n",
      "  1%|          | 8/1261 [00:01<02:49,  7.38it/s]"
     ]
    },
    {
     "name": "stdout",
     "output_type": "stream",
     "text": [
      "This is right after the error\n"
     ]
    },
    {
     "name": "stderr",
     "output_type": "stream",
     "text": [
      "\u001b[A\n",
      "  1%|          | 9/1261 [00:01<02:49,  7.37it/s]"
     ]
    },
    {
     "name": "stdout",
     "output_type": "stream",
     "text": [
      "This is right after the error\n"
     ]
    },
    {
     "name": "stderr",
     "output_type": "stream",
     "text": [
      "\u001b[A\n",
      "  1%|          | 10/1261 [00:01<02:51,  7.30it/s]"
     ]
    },
    {
     "name": "stdout",
     "output_type": "stream",
     "text": [
      "This is right after the error\n"
     ]
    },
    {
     "name": "stderr",
     "output_type": "stream",
     "text": [
      "\u001b[A\n",
      "  1%|          | 11/1261 [00:01<02:55,  7.12it/s]"
     ]
    },
    {
     "name": "stdout",
     "output_type": "stream",
     "text": [
      "This is right after the error\n"
     ]
    },
    {
     "name": "stderr",
     "output_type": "stream",
     "text": [
      "\u001b[A\n",
      "  1%|          | 12/1261 [00:01<02:53,  7.21it/s]"
     ]
    },
    {
     "name": "stdout",
     "output_type": "stream",
     "text": [
      "This is right after the error\n"
     ]
    },
    {
     "name": "stderr",
     "output_type": "stream",
     "text": [
      "\u001b[A\n",
      "  1%|          | 13/1261 [00:01<02:49,  7.35it/s]"
     ]
    },
    {
     "name": "stdout",
     "output_type": "stream",
     "text": [
      "This is right after the error\n"
     ]
    },
    {
     "name": "stderr",
     "output_type": "stream",
     "text": [
      "\u001b[A\n",
      "  1%|          | 14/1261 [00:01<02:46,  7.47it/s]"
     ]
    },
    {
     "name": "stdout",
     "output_type": "stream",
     "text": [
      "This is right after the error\n"
     ]
    },
    {
     "name": "stderr",
     "output_type": "stream",
     "text": [
      "\u001b[A\n",
      "  1%|          | 15/1261 [00:02<02:44,  7.58it/s]"
     ]
    },
    {
     "name": "stdout",
     "output_type": "stream",
     "text": [
      "This is right after the error\n"
     ]
    },
    {
     "name": "stderr",
     "output_type": "stream",
     "text": [
      "\u001b[A\n",
      "  1%|▏         | 16/1261 [00:02<02:44,  7.58it/s]"
     ]
    },
    {
     "name": "stdout",
     "output_type": "stream",
     "text": [
      "This is right after the error\n"
     ]
    },
    {
     "name": "stderr",
     "output_type": "stream",
     "text": [
      "\u001b[A\n",
      "  1%|▏         | 17/1261 [00:02<02:45,  7.51it/s]"
     ]
    },
    {
     "name": "stdout",
     "output_type": "stream",
     "text": [
      "This is right after the error\n"
     ]
    },
    {
     "name": "stderr",
     "output_type": "stream",
     "text": [
      "\u001b[A\n",
      "  1%|▏         | 18/1261 [00:02<02:43,  7.59it/s]"
     ]
    },
    {
     "name": "stdout",
     "output_type": "stream",
     "text": [
      "This is right after the error\n"
     ]
    },
    {
     "name": "stderr",
     "output_type": "stream",
     "text": [
      "\u001b[A\n",
      "  2%|▏         | 19/1261 [00:02<02:42,  7.65it/s]"
     ]
    },
    {
     "name": "stdout",
     "output_type": "stream",
     "text": [
      "This is right after the error\n"
     ]
    },
    {
     "name": "stderr",
     "output_type": "stream",
     "text": [
      "\u001b[A\n",
      "  2%|▏         | 20/1261 [00:02<02:42,  7.63it/s]"
     ]
    },
    {
     "name": "stdout",
     "output_type": "stream",
     "text": [
      "This is right after the error\n"
     ]
    },
    {
     "name": "stderr",
     "output_type": "stream",
     "text": [
      "\u001b[A\n",
      "  2%|▏         | 21/1261 [00:02<02:42,  7.61it/s]"
     ]
    },
    {
     "name": "stdout",
     "output_type": "stream",
     "text": [
      "This is right after the error\n"
     ]
    },
    {
     "name": "stderr",
     "output_type": "stream",
     "text": [
      "\u001b[A\n",
      "  2%|▏         | 22/1261 [00:02<02:41,  7.67it/s]"
     ]
    },
    {
     "name": "stdout",
     "output_type": "stream",
     "text": [
      "This is right after the error\n"
     ]
    },
    {
     "name": "stderr",
     "output_type": "stream",
     "text": [
      "\u001b[A\n",
      "  2%|▏         | 23/1261 [00:03<02:41,  7.65it/s]"
     ]
    },
    {
     "name": "stdout",
     "output_type": "stream",
     "text": [
      "This is right after the error\n"
     ]
    },
    {
     "name": "stderr",
     "output_type": "stream",
     "text": [
      "\u001b[A\n",
      "  2%|▏         | 24/1261 [00:03<02:40,  7.69it/s]"
     ]
    },
    {
     "name": "stdout",
     "output_type": "stream",
     "text": [
      "This is right after the error\n"
     ]
    },
    {
     "name": "stderr",
     "output_type": "stream",
     "text": [
      "\u001b[A\n",
      "  2%|▏         | 25/1261 [00:03<03:22,  6.09it/s]\u001b[A\n",
      "  2%|▏         | 26/1261 [00:03<03:12,  6.41it/s]"
     ]
    },
    {
     "name": "stdout",
     "output_type": "stream",
     "text": [
      "This is right after the error\n",
      "This is right after the error\n"
     ]
    },
    {
     "name": "stderr",
     "output_type": "stream",
     "text": [
      "\u001b[A\n",
      "  2%|▏         | 27/1261 [00:03<03:03,  6.71it/s]\u001b[A\n",
      "  2%|▏         | 28/1261 [00:03<02:56,  6.97it/s]"
     ]
    },
    {
     "name": "stdout",
     "output_type": "stream",
     "text": [
      "This is right after the error\n",
      "This is right after the error\n"
     ]
    },
    {
     "name": "stderr",
     "output_type": "stream",
     "text": [
      "\u001b[A\n",
      "  2%|▏         | 29/1261 [00:03<02:54,  7.06it/s]\u001b[A\n",
      "  2%|▏         | 30/1261 [00:04<02:51,  7.18it/s]"
     ]
    },
    {
     "name": "stdout",
     "output_type": "stream",
     "text": [
      "This is right after the error\n",
      "This is right after the error\n"
     ]
    },
    {
     "name": "stderr",
     "output_type": "stream",
     "text": [
      "\u001b[A\n",
      "  2%|▏         | 31/1261 [00:04<02:48,  7.31it/s]\u001b[A\n",
      "  3%|▎         | 32/1261 [00:04<02:45,  7.42it/s]"
     ]
    },
    {
     "name": "stdout",
     "output_type": "stream",
     "text": [
      "This is right after the error\n",
      "This is right after the error\n"
     ]
    },
    {
     "name": "stderr",
     "output_type": "stream",
     "text": [
      "\u001b[A\n",
      "  3%|▎         | 33/1261 [00:04<02:43,  7.49it/s]\u001b[A\n",
      "  3%|▎         | 34/1261 [00:04<02:41,  7.58it/s]"
     ]
    },
    {
     "name": "stdout",
     "output_type": "stream",
     "text": [
      "This is right after the error\n",
      "This is right after the error\n"
     ]
    },
    {
     "name": "stderr",
     "output_type": "stream",
     "text": [
      "\u001b[A\n",
      "  3%|▎         | 35/1261 [00:04<02:43,  7.51it/s]\u001b[A\n",
      "  3%|▎         | 36/1261 [00:04<02:43,  7.51it/s]"
     ]
    },
    {
     "name": "stdout",
     "output_type": "stream",
     "text": [
      "This is right after the error\n",
      "This is right after the error\n"
     ]
    },
    {
     "name": "stderr",
     "output_type": "stream",
     "text": [
      "\u001b[A\n",
      "  3%|▎         | 37/1261 [00:05<02:43,  7.50it/s]\u001b[A\n",
      "  3%|▎         | 38/1261 [00:05<02:43,  7.50it/s]"
     ]
    },
    {
     "name": "stdout",
     "output_type": "stream",
     "text": [
      "This is right after the error\n",
      "This is right after the error\n"
     ]
    },
    {
     "name": "stderr",
     "output_type": "stream",
     "text": [
      "\u001b[A\n",
      "  3%|▎         | 39/1261 [00:05<02:43,  7.46it/s]\u001b[A\n",
      "  3%|▎         | 40/1261 [00:05<02:43,  7.46it/s]"
     ]
    },
    {
     "name": "stdout",
     "output_type": "stream",
     "text": [
      "This is right after the error\n",
      "This is right after the error\n"
     ]
    },
    {
     "name": "stderr",
     "output_type": "stream",
     "text": [
      "\u001b[A\n",
      "  3%|▎         | 41/1261 [00:05<02:43,  7.46it/s]\u001b[A\n",
      "  3%|▎         | 42/1261 [00:05<02:43,  7.46it/s]"
     ]
    },
    {
     "name": "stdout",
     "output_type": "stream",
     "text": [
      "This is right after the error\n",
      "This is right after the error\n"
     ]
    },
    {
     "name": "stderr",
     "output_type": "stream",
     "text": [
      "\u001b[A\n",
      "  3%|▎         | 43/1261 [00:05<02:47,  7.28it/s]\u001b[A\n",
      "  3%|▎         | 44/1261 [00:05<02:47,  7.25it/s]"
     ]
    },
    {
     "name": "stdout",
     "output_type": "stream",
     "text": [
      "This is right after the error\n",
      "This is right after the error\n"
     ]
    },
    {
     "name": "stderr",
     "output_type": "stream",
     "text": [
      "\u001b[A\n",
      "  4%|▎         | 45/1261 [00:06<02:46,  7.30it/s]\u001b[A\n",
      "  4%|▎         | 46/1261 [00:06<02:47,  7.25it/s]"
     ]
    },
    {
     "name": "stdout",
     "output_type": "stream",
     "text": [
      "This is right after the error\n",
      "This is right after the error\n"
     ]
    },
    {
     "name": "stderr",
     "output_type": "stream",
     "text": [
      "\u001b[A\n",
      "  4%|▎         | 47/1261 [00:06<02:50,  7.14it/s]\u001b[A\n",
      "  4%|▍         | 48/1261 [00:06<02:53,  6.99it/s]"
     ]
    },
    {
     "name": "stdout",
     "output_type": "stream",
     "text": [
      "This is right after the error\n",
      "This is right after the error\n"
     ]
    },
    {
     "name": "stderr",
     "output_type": "stream",
     "text": [
      "\u001b[A\n",
      "  4%|▍         | 49/1261 [00:06<02:54,  6.95it/s]\u001b[A\n",
      "  4%|▍         | 50/1261 [00:06<02:55,  6.91it/s]"
     ]
    },
    {
     "name": "stdout",
     "output_type": "stream",
     "text": [
      "This is right after the error\n",
      "This is right after the error\n"
     ]
    },
    {
     "name": "stderr",
     "output_type": "stream",
     "text": [
      "\u001b[A\n",
      "  4%|▍         | 51/1261 [00:07<02:55,  6.88it/s]\u001b[A\n",
      "  4%|▍         | 52/1261 [00:07<02:54,  6.93it/s]"
     ]
    },
    {
     "name": "stdout",
     "output_type": "stream",
     "text": [
      "This is right after the error\n",
      "This is right after the error\n"
     ]
    },
    {
     "name": "stderr",
     "output_type": "stream",
     "text": [
      "\u001b[A\n",
      "  4%|▍         | 53/1261 [00:07<02:52,  6.99it/s]\u001b[A\n",
      "  4%|▍         | 54/1261 [00:07<02:50,  7.09it/s]"
     ]
    },
    {
     "name": "stdout",
     "output_type": "stream",
     "text": [
      "This is right after the error\n",
      "This is right after the error\n"
     ]
    },
    {
     "name": "stderr",
     "output_type": "stream",
     "text": [
      "\u001b[A\n",
      "  4%|▍         | 55/1261 [00:07<02:50,  7.08it/s]\u001b[A\n",
      "  4%|▍         | 56/1261 [00:07<02:53,  6.95it/s]"
     ]
    },
    {
     "name": "stdout",
     "output_type": "stream",
     "text": [
      "This is right after the error\n",
      "This is right after the error\n"
     ]
    },
    {
     "name": "stderr",
     "output_type": "stream",
     "text": [
      "\u001b[A\n",
      "  5%|▍         | 57/1261 [00:07<02:54,  6.89it/s]\u001b[A\n",
      "  5%|▍         | 58/1261 [00:08<02:54,  6.88it/s]"
     ]
    },
    {
     "name": "stdout",
     "output_type": "stream",
     "text": [
      "This is right after the error\n",
      "This is right after the error\n"
     ]
    },
    {
     "name": "stderr",
     "output_type": "stream",
     "text": [
      "\u001b[A\n",
      "  5%|▍         | 59/1261 [00:08<02:54,  6.91it/s]\u001b[A\n",
      "  5%|▍         | 60/1261 [00:08<02:55,  6.83it/s]"
     ]
    },
    {
     "name": "stdout",
     "output_type": "stream",
     "text": [
      "This is right after the error\n",
      "This is right after the error\n"
     ]
    },
    {
     "name": "stderr",
     "output_type": "stream",
     "text": [
      "\u001b[A\n",
      "  5%|▍         | 61/1261 [00:08<03:15,  6.15it/s]\u001b[A\n",
      "  5%|▍         | 62/1261 [00:08<03:07,  6.41it/s]"
     ]
    },
    {
     "name": "stdout",
     "output_type": "stream",
     "text": [
      "This is right after the error\n",
      "This is right after the error\n"
     ]
    },
    {
     "name": "stderr",
     "output_type": "stream",
     "text": [
      "\u001b[A\n",
      "  5%|▍         | 63/1261 [00:08<03:04,  6.51it/s]\u001b[A\n",
      "  5%|▌         | 64/1261 [00:08<03:03,  6.54it/s]"
     ]
    },
    {
     "name": "stdout",
     "output_type": "stream",
     "text": [
      "This is right after the error\n",
      "This is right after the error\n"
     ]
    },
    {
     "name": "stderr",
     "output_type": "stream",
     "text": [
      "\u001b[A\n",
      "  5%|▌         | 65/1261 [00:09<02:56,  6.76it/s]\u001b[A\n",
      "  5%|▌         | 66/1261 [00:09<02:56,  6.79it/s]"
     ]
    },
    {
     "name": "stdout",
     "output_type": "stream",
     "text": [
      "This is right after the error\n",
      "This is right after the error\n"
     ]
    },
    {
     "name": "stderr",
     "output_type": "stream",
     "text": [
      "\u001b[A\n",
      "  5%|▌         | 67/1261 [00:09<02:55,  6.81it/s]\u001b[A\n",
      "  5%|▌         | 68/1261 [00:09<02:54,  6.83it/s]"
     ]
    },
    {
     "name": "stdout",
     "output_type": "stream",
     "text": [
      "This is right after the error\n",
      "This is right after the error\n"
     ]
    },
    {
     "name": "stderr",
     "output_type": "stream",
     "text": [
      "\u001b[A\n",
      "  5%|▌         | 69/1261 [00:09<02:56,  6.74it/s]\u001b[A\n",
      "  6%|▌         | 70/1261 [00:09<02:55,  6.77it/s]"
     ]
    },
    {
     "name": "stdout",
     "output_type": "stream",
     "text": [
      "This is right after the error\n",
      "This is right after the error\n"
     ]
    },
    {
     "name": "stderr",
     "output_type": "stream",
     "text": [
      "\u001b[A\n",
      "  6%|▌         | 71/1261 [00:09<02:54,  6.83it/s]\u001b[A\n",
      "  6%|▌         | 72/1261 [00:10<02:53,  6.85it/s]"
     ]
    },
    {
     "name": "stdout",
     "output_type": "stream",
     "text": [
      "This is right after the error\n",
      "This is right after the error\n"
     ]
    },
    {
     "name": "stderr",
     "output_type": "stream",
     "text": [
      "\u001b[A\n",
      "  6%|▌         | 73/1261 [00:10<02:52,  6.89it/s]\u001b[A\n",
      "  6%|▌         | 74/1261 [00:10<02:52,  6.89it/s]"
     ]
    },
    {
     "name": "stdout",
     "output_type": "stream",
     "text": [
      "This is right after the error\n",
      "This is right after the error\n"
     ]
    },
    {
     "name": "stderr",
     "output_type": "stream",
     "text": [
      "\u001b[A\n",
      "  6%|▌         | 75/1261 [00:10<02:50,  6.95it/s]\u001b[A\n",
      "  6%|▌         | 76/1261 [00:10<02:49,  6.97it/s]"
     ]
    },
    {
     "name": "stdout",
     "output_type": "stream",
     "text": [
      "This is right after the error\n",
      "This is right after the error\n"
     ]
    },
    {
     "name": "stderr",
     "output_type": "stream",
     "text": [
      "\u001b[A\n",
      "  6%|▌         | 77/1261 [00:10<02:51,  6.92it/s]\u001b[A\n",
      "  6%|▌         | 78/1261 [00:10<02:50,  6.93it/s]"
     ]
    },
    {
     "name": "stdout",
     "output_type": "stream",
     "text": [
      "This is right after the error\n",
      "This is right after the error\n"
     ]
    },
    {
     "name": "stderr",
     "output_type": "stream",
     "text": [
      "\u001b[A\n",
      "  6%|▋         | 79/1261 [00:11<02:51,  6.90it/s]\u001b[A\n",
      "  6%|▋         | 80/1261 [00:11<02:50,  6.91it/s]"
     ]
    },
    {
     "name": "stdout",
     "output_type": "stream",
     "text": [
      "This is right after the error\n",
      "This is right after the error\n"
     ]
    },
    {
     "name": "stderr",
     "output_type": "stream",
     "text": [
      "\u001b[A\n",
      "  6%|▋         | 81/1261 [00:11<02:51,  6.88it/s]\u001b[A\n",
      "  7%|▋         | 82/1261 [00:11<02:53,  6.80it/s]"
     ]
    },
    {
     "name": "stdout",
     "output_type": "stream",
     "text": [
      "This is right after the error\n",
      "This is right after the error\n"
     ]
    },
    {
     "name": "stderr",
     "output_type": "stream",
     "text": [
      "\u001b[A\n",
      "  7%|▋         | 83/1261 [00:11<03:08,  6.23it/s]\u001b[A"
     ]
    },
    {
     "name": "stdout",
     "output_type": "stream",
     "text": [
      "This is right after the error\n"
     ]
    },
    {
     "name": "stderr",
     "output_type": "stream",
     "text": [
      "\n",
      "  7%|▋         | 84/1261 [00:11<03:21,  5.84it/s]\u001b[A\n",
      "  7%|▋         | 85/1261 [00:12<03:11,  6.15it/s]"
     ]
    },
    {
     "name": "stdout",
     "output_type": "stream",
     "text": [
      "This is right after the error\n",
      "This is right after the error\n"
     ]
    },
    {
     "name": "stderr",
     "output_type": "stream",
     "text": [
      "\u001b[A\n",
      "  7%|▋         | 86/1261 [00:12<03:06,  6.31it/s]\u001b[A\n",
      "  7%|▋         | 87/1261 [00:12<03:01,  6.48it/s]"
     ]
    },
    {
     "name": "stdout",
     "output_type": "stream",
     "text": [
      "This is right after the error\n",
      "This is right after the error\n"
     ]
    },
    {
     "name": "stderr",
     "output_type": "stream",
     "text": [
      "\u001b[A\n",
      "  7%|▋         | 88/1261 [00:12<02:58,  6.57it/s]\u001b[A\n",
      "  7%|▋         | 89/1261 [00:12<02:58,  6.56it/s]"
     ]
    },
    {
     "name": "stdout",
     "output_type": "stream",
     "text": [
      "This is right after the error\n",
      "This is right after the error\n"
     ]
    },
    {
     "name": "stderr",
     "output_type": "stream",
     "text": [
      "\u001b[A\n",
      "  7%|▋         | 90/1261 [00:12<03:28,  5.62it/s]\u001b[A\n",
      "  7%|▋         | 91/1261 [00:13<03:20,  5.85it/s]"
     ]
    },
    {
     "name": "stdout",
     "output_type": "stream",
     "text": [
      "This is right after the error\n",
      "This is right after the error\n"
     ]
    },
    {
     "name": "stderr",
     "output_type": "stream",
     "text": [
      "\u001b[A\n",
      "  7%|▋         | 92/1261 [00:13<03:09,  6.16it/s]\u001b[A\n",
      "  7%|▋         | 93/1261 [00:13<03:03,  6.36it/s]"
     ]
    },
    {
     "name": "stdout",
     "output_type": "stream",
     "text": [
      "This is right after the error\n",
      "This is right after the error\n"
     ]
    },
    {
     "name": "stderr",
     "output_type": "stream",
     "text": [
      "\u001b[A\n",
      "  7%|▋         | 94/1261 [00:13<03:00,  6.47it/s]\u001b[A\n",
      "  8%|▊         | 95/1261 [00:13<02:56,  6.59it/s]"
     ]
    },
    {
     "name": "stdout",
     "output_type": "stream",
     "text": [
      "This is right after the error\n",
      "This is right after the error\n"
     ]
    },
    {
     "name": "stderr",
     "output_type": "stream",
     "text": [
      "\u001b[A\n",
      "  8%|▊         | 96/1261 [00:13<02:54,  6.67it/s]\u001b[A\n",
      "  8%|▊         | 97/1261 [00:13<02:53,  6.72it/s]"
     ]
    },
    {
     "name": "stdout",
     "output_type": "stream",
     "text": [
      "This is right after the error\n",
      "This is right after the error\n"
     ]
    },
    {
     "name": "stderr",
     "output_type": "stream",
     "text": [
      "\u001b[A\n",
      "  8%|▊         | 98/1261 [00:14<02:58,  6.52it/s]\u001b[A\n",
      "  8%|▊         | 99/1261 [00:14<02:55,  6.62it/s]"
     ]
    },
    {
     "name": "stdout",
     "output_type": "stream",
     "text": [
      "This is right after the error\n",
      "This is right after the error\n"
     ]
    },
    {
     "name": "stderr",
     "output_type": "stream",
     "text": [
      "\u001b[A\n",
      "  8%|▊         | 100/1261 [00:14<02:53,  6.69it/s]\u001b[A\n",
      "  8%|▊         | 101/1261 [00:14<02:52,  6.72it/s]"
     ]
    },
    {
     "name": "stdout",
     "output_type": "stream",
     "text": [
      "This is right after the error\n",
      "This is right after the error\n"
     ]
    },
    {
     "name": "stderr",
     "output_type": "stream",
     "text": [
      "\u001b[A\n",
      "  8%|▊         | 102/1261 [00:14<02:52,  6.73it/s]\u001b[A\n",
      "  8%|▊         | 103/1261 [00:14<02:49,  6.83it/s]"
     ]
    },
    {
     "name": "stdout",
     "output_type": "stream",
     "text": [
      "This is right after the error\n",
      "This is right after the error\n"
     ]
    },
    {
     "name": "stderr",
     "output_type": "stream",
     "text": [
      "\u001b[A\n",
      "  8%|▊         | 104/1261 [00:14<02:51,  6.76it/s]\u001b[A\n",
      "  8%|▊         | 105/1261 [00:15<02:51,  6.73it/s]"
     ]
    },
    {
     "name": "stdout",
     "output_type": "stream",
     "text": [
      "This is right after the error\n",
      "This is right after the error\n"
     ]
    },
    {
     "name": "stderr",
     "output_type": "stream",
     "text": [
      "\u001b[A\n",
      "  8%|▊         | 106/1261 [00:15<02:51,  6.72it/s]\u001b[A\n",
      "  8%|▊         | 107/1261 [00:15<02:54,  6.62it/s]"
     ]
    },
    {
     "name": "stdout",
     "output_type": "stream",
     "text": [
      "This is right after the error\n",
      "This is right after the error\n"
     ]
    },
    {
     "name": "stderr",
     "output_type": "stream",
     "text": [
      "\u001b[A\n",
      "  9%|▊         | 108/1261 [00:15<02:56,  6.53it/s]\u001b[A\n",
      "  9%|▊         | 109/1261 [00:15<02:56,  6.54it/s]"
     ]
    },
    {
     "name": "stdout",
     "output_type": "stream",
     "text": [
      "This is right after the error\n",
      "This is right after the error\n"
     ]
    },
    {
     "name": "stderr",
     "output_type": "stream",
     "text": [
      "\u001b[A\n",
      "  9%|▊         | 110/1261 [00:15<02:53,  6.62it/s]\u001b[A\n",
      "  9%|▉         | 111/1261 [00:16<02:53,  6.63it/s]"
     ]
    },
    {
     "name": "stdout",
     "output_type": "stream",
     "text": [
      "This is right after the error\n",
      "This is right after the error\n"
     ]
    },
    {
     "name": "stderr",
     "output_type": "stream",
     "text": [
      "\u001b[A\n",
      "  9%|▉         | 112/1261 [00:16<02:53,  6.62it/s]\u001b[A\n",
      "  9%|▉         | 113/1261 [00:16<02:52,  6.65it/s]"
     ]
    },
    {
     "name": "stdout",
     "output_type": "stream",
     "text": [
      "This is right after the error\n",
      "This is right after the error\n"
     ]
    },
    {
     "name": "stderr",
     "output_type": "stream",
     "text": [
      "\u001b[A\n",
      "  9%|▉         | 114/1261 [00:16<02:51,  6.69it/s]\u001b[A\n",
      "  9%|▉         | 115/1261 [00:16<02:50,  6.71it/s]"
     ]
    },
    {
     "name": "stdout",
     "output_type": "stream",
     "text": [
      "This is right after the error\n",
      "This is right after the error\n"
     ]
    },
    {
     "name": "stderr",
     "output_type": "stream",
     "text": [
      "\u001b[A\n",
      "  9%|▉         | 116/1261 [00:16<02:50,  6.72it/s]\u001b[A\n",
      "  9%|▉         | 117/1261 [00:16<02:52,  6.64it/s]"
     ]
    },
    {
     "name": "stdout",
     "output_type": "stream",
     "text": [
      "This is right after the error\n",
      "This is right after the error\n"
     ]
    },
    {
     "name": "stderr",
     "output_type": "stream",
     "text": [
      "\u001b[A\n",
      "  9%|▉         | 118/1261 [00:17<02:52,  6.62it/s]\u001b[A"
     ]
    },
    {
     "name": "stdout",
     "output_type": "stream",
     "text": [
      "This is right after the error\n"
     ]
    },
    {
     "name": "stderr",
     "output_type": "stream",
     "text": [
      "\n",
      "  9%|▉         | 119/1261 [00:17<03:22,  5.63it/s]\u001b[A\n",
      " 10%|▉         | 120/1261 [00:17<03:17,  5.77it/s]\u001b[A\n",
      " 10%|▉         | 121/1261 [00:17<03:09,  6.01it/s]"
     ]
    },
    {
     "name": "stdout",
     "output_type": "stream",
     "text": [
      "This is right after the error\n",
      "This is right after the error\n",
      "This is right after the error\n"
     ]
    },
    {
     "name": "stderr",
     "output_type": "stream",
     "text": [
      "\u001b[A\n",
      " 10%|▉         | 122/1261 [00:17<03:03,  6.22it/s]\u001b[A\n",
      " 10%|▉         | 123/1261 [00:17<03:01,  6.28it/s]"
     ]
    },
    {
     "name": "stdout",
     "output_type": "stream",
     "text": [
      "This is right after the error\n",
      "This is right after the error\n"
     ]
    },
    {
     "name": "stderr",
     "output_type": "stream",
     "text": [
      "\u001b[A\n",
      " 10%|▉         | 124/1261 [00:18<02:59,  6.32it/s]\u001b[A"
     ]
    },
    {
     "name": "stdout",
     "output_type": "stream",
     "text": [
      "This is right after the error\n",
      "This is right after the error\n"
     ]
    },
    {
     "name": "stderr",
     "output_type": "stream",
     "text": [
      "\n",
      " 10%|▉         | 125/1261 [00:18<03:15,  5.82it/s]\u001b[A\n",
      " 10%|▉         | 126/1261 [00:18<03:20,  5.66it/s]\u001b[A\n",
      " 10%|█         | 127/1261 [00:18<03:08,  6.01it/s]"
     ]
    },
    {
     "name": "stdout",
     "output_type": "stream",
     "text": [
      "This is right after the error\n",
      "This is right after the error\n"
     ]
    },
    {
     "name": "stderr",
     "output_type": "stream",
     "text": [
      "\u001b[A\n",
      " 10%|█         | 128/1261 [00:18<03:02,  6.20it/s]\u001b[A\n",
      " 10%|█         | 129/1261 [00:18<02:58,  6.34it/s]"
     ]
    },
    {
     "name": "stdout",
     "output_type": "stream",
     "text": [
      "This is right after the error\n",
      "This is right after the error\n"
     ]
    },
    {
     "name": "stderr",
     "output_type": "stream",
     "text": [
      "\u001b[A\n",
      " 10%|█         | 130/1261 [00:19<02:56,  6.40it/s]\u001b[A\n",
      " 10%|█         | 131/1261 [00:19<02:54,  6.47it/s]"
     ]
    },
    {
     "name": "stdout",
     "output_type": "stream",
     "text": [
      "This is right after the error\n",
      "This is right after the error\n"
     ]
    },
    {
     "name": "stderr",
     "output_type": "stream",
     "text": [
      "\u001b[A\n",
      " 10%|█         | 132/1261 [00:19<03:00,  6.24it/s]\u001b[A"
     ]
    },
    {
     "name": "stdout",
     "output_type": "stream",
     "text": [
      "This is right after the error\n"
     ]
    },
    {
     "name": "stderr",
     "output_type": "stream",
     "text": [
      "\n",
      " 11%|█         | 133/1261 [00:19<03:09,  5.96it/s]\u001b[A\n",
      " 11%|█         | 134/1261 [00:19<03:03,  6.13it/s]"
     ]
    },
    {
     "name": "stdout",
     "output_type": "stream",
     "text": [
      "This is right after the error\n",
      "This is right after the error\n"
     ]
    },
    {
     "name": "stderr",
     "output_type": "stream",
     "text": [
      "\u001b[A\n",
      " 11%|█         | 135/1261 [00:19<02:57,  6.34it/s]\u001b[A\n",
      " 11%|█         | 136/1261 [00:20<02:53,  6.48it/s]"
     ]
    },
    {
     "name": "stdout",
     "output_type": "stream",
     "text": [
      "This is right after the error\n",
      "This is right after the error\n"
     ]
    },
    {
     "name": "stderr",
     "output_type": "stream",
     "text": [
      "\u001b[A\n",
      " 11%|█         | 137/1261 [00:20<02:53,  6.47it/s]\u001b[A\n",
      " 11%|█         | 138/1261 [00:20<02:53,  6.49it/s]"
     ]
    },
    {
     "name": "stdout",
     "output_type": "stream",
     "text": [
      "This is right after the error\n",
      "This is right after the error\n"
     ]
    },
    {
     "name": "stderr",
     "output_type": "stream",
     "text": [
      "\u001b[A\n",
      " 11%|█         | 139/1261 [00:20<02:52,  6.51it/s]\u001b[A\n",
      " 11%|█         | 140/1261 [00:20<02:50,  6.58it/s]"
     ]
    },
    {
     "name": "stdout",
     "output_type": "stream",
     "text": [
      "This is right after the error\n",
      "This is right after the error\n"
     ]
    },
    {
     "name": "stderr",
     "output_type": "stream",
     "text": [
      "\u001b[A\n",
      " 11%|█         | 141/1261 [00:20<02:51,  6.55it/s]\u001b[A\n",
      " 11%|█▏        | 142/1261 [00:20<02:52,  6.49it/s]"
     ]
    },
    {
     "name": "stdout",
     "output_type": "stream",
     "text": [
      "This is right after the error\n",
      "This is right after the error\n"
     ]
    },
    {
     "name": "stderr",
     "output_type": "stream",
     "text": [
      "\u001b[A\n",
      " 11%|█▏        | 143/1261 [00:21<02:51,  6.53it/s]\u001b[A\n",
      " 11%|█▏        | 144/1261 [00:21<02:50,  6.54it/s]"
     ]
    },
    {
     "name": "stdout",
     "output_type": "stream",
     "text": [
      "This is right after the error\n",
      "This is right after the error\n"
     ]
    },
    {
     "name": "stderr",
     "output_type": "stream",
     "text": [
      "\u001b[A\n",
      " 11%|█▏        | 145/1261 [00:21<03:22,  5.50it/s]"
     ]
    },
    {
     "name": "stdout",
     "output_type": "stream",
     "text": [
      "This is right after the error\n"
     ]
    },
    {
     "name": "stderr",
     "output_type": "stream",
     "text": [
      "\u001b[A\n",
      " 12%|█▏        | 146/1261 [00:21<03:42,  5.01it/s]"
     ]
    },
    {
     "name": "stdout",
     "output_type": "stream",
     "text": [
      "This is right after the error\n",
      "This is right after the error\n"
     ]
    },
    {
     "name": "stderr",
     "output_type": "stream",
     "text": [
      "\u001b[A\n",
      " 12%|█▏        | 147/1261 [00:21<03:27,  5.38it/s]\u001b[A\n",
      " 12%|█▏        | 148/1261 [00:22<03:21,  5.53it/s]\u001b[A\n",
      " 12%|█▏        | 149/1261 [00:22<03:12,  5.77it/s]"
     ]
    },
    {
     "name": "stdout",
     "output_type": "stream",
     "text": [
      "This is right after the error\n",
      "This is right after the error\n"
     ]
    },
    {
     "name": "stderr",
     "output_type": "stream",
     "text": [
      "\u001b[A\n",
      " 12%|█▏        | 150/1261 [00:22<03:02,  6.10it/s]\u001b[A\n",
      " 12%|█▏        | 151/1261 [00:22<02:54,  6.37it/s]"
     ]
    },
    {
     "name": "stdout",
     "output_type": "stream",
     "text": [
      "This is right after the error\n",
      "This is right after the error\n"
     ]
    },
    {
     "name": "stderr",
     "output_type": "stream",
     "text": [
      "\u001b[A\n",
      " 12%|█▏        | 152/1261 [00:22<02:53,  6.38it/s]\u001b[A\n",
      " 12%|█▏        | 153/1261 [00:22<02:52,  6.42it/s]"
     ]
    },
    {
     "name": "stdout",
     "output_type": "stream",
     "text": [
      "This is right after the error\n",
      "This is right after the error\n"
     ]
    },
    {
     "name": "stderr",
     "output_type": "stream",
     "text": [
      "\u001b[A\n",
      " 12%|█▏        | 154/1261 [00:22<02:52,  6.40it/s]\u001b[A\n",
      " 12%|█▏        | 155/1261 [00:23<02:53,  6.37it/s]"
     ]
    },
    {
     "name": "stdout",
     "output_type": "stream",
     "text": [
      "This is right after the error\n",
      "This is right after the error\n"
     ]
    },
    {
     "name": "stderr",
     "output_type": "stream",
     "text": [
      "\u001b[A\n",
      " 12%|█▏        | 156/1261 [00:23<02:55,  6.31it/s]\u001b[A\n",
      " 12%|█▏        | 157/1261 [00:23<02:58,  6.19it/s]"
     ]
    },
    {
     "name": "stdout",
     "output_type": "stream",
     "text": [
      "This is right after the error\n",
      "This is right after the error\n"
     ]
    },
    {
     "name": "stderr",
     "output_type": "stream",
     "text": [
      "\u001b[A\n",
      " 13%|█▎        | 158/1261 [00:23<03:01,  6.06it/s]\u001b[A\n",
      " 13%|█▎        | 159/1261 [00:23<03:00,  6.12it/s]"
     ]
    },
    {
     "name": "stdout",
     "output_type": "stream",
     "text": [
      "This is right after the error\n",
      "This is right after the error\n"
     ]
    },
    {
     "name": "stderr",
     "output_type": "stream",
     "text": [
      "\u001b[A\n",
      " 13%|█▎        | 160/1261 [00:23<02:58,  6.17it/s]\u001b[A\n",
      " 13%|█▎        | 161/1261 [00:24<02:50,  6.43it/s]"
     ]
    },
    {
     "name": "stdout",
     "output_type": "stream",
     "text": [
      "This is right after the error\n",
      "This is right after the error\n"
     ]
    },
    {
     "name": "stderr",
     "output_type": "stream",
     "text": [
      "\u001b[A\n",
      " 13%|█▎        | 162/1261 [00:24<02:50,  6.46it/s]\u001b[A\n",
      " 13%|█▎        | 163/1261 [00:24<02:50,  6.42it/s]"
     ]
    },
    {
     "name": "stdout",
     "output_type": "stream",
     "text": [
      "This is right after the error\n",
      "This is right after the error\n"
     ]
    },
    {
     "name": "stderr",
     "output_type": "stream",
     "text": [
      "\u001b[A\n",
      " 13%|█▎        | 164/1261 [00:24<02:46,  6.58it/s]\u001b[A\n",
      " 13%|█▎        | 165/1261 [00:24<02:45,  6.63it/s]"
     ]
    },
    {
     "name": "stdout",
     "output_type": "stream",
     "text": [
      "This is right after the error\n",
      "This is right after the error\n"
     ]
    },
    {
     "name": "stderr",
     "output_type": "stream",
     "text": [
      "\u001b[A\n",
      " 13%|█▎        | 166/1261 [00:24<02:45,  6.63it/s]\u001b[A\n",
      " 13%|█▎        | 167/1261 [00:25<02:46,  6.58it/s]"
     ]
    },
    {
     "name": "stdout",
     "output_type": "stream",
     "text": [
      "This is right after the error\n",
      "This is right after the error\n"
     ]
    },
    {
     "name": "stderr",
     "output_type": "stream",
     "text": [
      "\u001b[A\n",
      " 13%|█▎        | 168/1261 [00:25<02:46,  6.58it/s]\u001b[A\n",
      " 13%|█▎        | 169/1261 [00:25<02:44,  6.65it/s]"
     ]
    },
    {
     "name": "stdout",
     "output_type": "stream",
     "text": [
      "This is right after the error\n",
      "This is right after the error\n"
     ]
    },
    {
     "name": "stderr",
     "output_type": "stream",
     "text": [
      "\u001b[A\n",
      " 13%|█▎        | 170/1261 [00:25<02:42,  6.70it/s]\u001b[A\n",
      " 14%|█▎        | 171/1261 [00:25<02:44,  6.61it/s]"
     ]
    },
    {
     "name": "stdout",
     "output_type": "stream",
     "text": [
      "This is right after the error\n",
      "This is right after the error\n"
     ]
    },
    {
     "name": "stderr",
     "output_type": "stream",
     "text": [
      "\u001b[A\n",
      " 14%|█▎        | 172/1261 [00:25<02:45,  6.58it/s]\u001b[A"
     ]
    },
    {
     "name": "stdout",
     "output_type": "stream",
     "text": [
      "This is right after the error\n",
      "This is right after the error\n"
     ]
    },
    {
     "name": "stderr",
     "output_type": "stream",
     "text": [
      "\n",
      " 14%|█▎        | 173/1261 [00:25<02:58,  6.11it/s]\u001b[A\n",
      " 14%|█▍        | 174/1261 [00:26<02:59,  6.07it/s]\u001b[A\n",
      " 14%|█▍        | 175/1261 [00:26<02:55,  6.19it/s]"
     ]
    },
    {
     "name": "stdout",
     "output_type": "stream",
     "text": [
      "This is right after the error\n",
      "This is right after the error\n"
     ]
    },
    {
     "name": "stderr",
     "output_type": "stream",
     "text": [
      "\u001b[A\n",
      " 14%|█▍        | 176/1261 [00:26<02:51,  6.34it/s]\u001b[A\n",
      " 14%|█▍        | 177/1261 [00:26<02:47,  6.47it/s]"
     ]
    },
    {
     "name": "stdout",
     "output_type": "stream",
     "text": [
      "This is right after the error\n",
      "This is right after the error\n"
     ]
    },
    {
     "name": "stderr",
     "output_type": "stream",
     "text": [
      "\u001b[A\n",
      " 14%|█▍        | 178/1261 [00:26<02:45,  6.53it/s]\u001b[A\n",
      " 14%|█▍        | 179/1261 [00:26<02:42,  6.64it/s]"
     ]
    },
    {
     "name": "stdout",
     "output_type": "stream",
     "text": [
      "This is right after the error\n",
      "This is right after the error\n"
     ]
    },
    {
     "name": "stderr",
     "output_type": "stream",
     "text": [
      "\u001b[A\n",
      " 14%|█▍        | 180/1261 [00:27<02:42,  6.65it/s]\u001b[A\n",
      " 14%|█▍        | 181/1261 [00:27<02:43,  6.62it/s]"
     ]
    },
    {
     "name": "stdout",
     "output_type": "stream",
     "text": [
      "This is right after the error\n",
      "This is right after the error\n"
     ]
    },
    {
     "name": "stderr",
     "output_type": "stream",
     "text": [
      "\u001b[A\n",
      " 14%|█▍        | 182/1261 [00:27<02:43,  6.62it/s]\u001b[A\n",
      " 15%|█▍        | 183/1261 [00:27<02:40,  6.71it/s]"
     ]
    },
    {
     "name": "stdout",
     "output_type": "stream",
     "text": [
      "This is right after the error\n",
      "This is right after the error\n"
     ]
    },
    {
     "name": "stderr",
     "output_type": "stream",
     "text": [
      "\u001b[A\n",
      " 15%|█▍        | 184/1261 [00:27<03:12,  5.59it/s]\u001b[A\n",
      " 15%|█▍        | 185/1261 [00:27<03:02,  5.88it/s]"
     ]
    },
    {
     "name": "stdout",
     "output_type": "stream",
     "text": [
      "This is right after the error\n",
      "This is right after the error\n"
     ]
    },
    {
     "name": "stderr",
     "output_type": "stream",
     "text": [
      "\u001b[A\n",
      " 15%|█▍        | 186/1261 [00:28<02:54,  6.15it/s]\u001b[A\n",
      " 15%|█▍        | 187/1261 [00:28<02:49,  6.32it/s]"
     ]
    },
    {
     "name": "stdout",
     "output_type": "stream",
     "text": [
      "This is right after the error\n",
      "This is right after the error\n"
     ]
    },
    {
     "name": "stderr",
     "output_type": "stream",
     "text": [
      "\u001b[A\n",
      " 15%|█▍        | 188/1261 [00:28<03:21,  5.34it/s]\u001b[A\n",
      " 15%|█▍        | 189/1261 [00:28<03:08,  5.69it/s]"
     ]
    },
    {
     "name": "stdout",
     "output_type": "stream",
     "text": [
      "This is right after the error\n",
      "This is right after the error\n"
     ]
    },
    {
     "name": "stderr",
     "output_type": "stream",
     "text": [
      "\u001b[A\n",
      " 15%|█▌        | 190/1261 [00:28<03:01,  5.91it/s]\u001b[A\n",
      " 15%|█▌        | 191/1261 [00:28<02:56,  6.05it/s]"
     ]
    },
    {
     "name": "stdout",
     "output_type": "stream",
     "text": [
      "This is right after the error\n",
      "This is right after the error\n"
     ]
    },
    {
     "name": "stderr",
     "output_type": "stream",
     "text": [
      "\u001b[A\n",
      " 15%|█▌        | 192/1261 [00:29<02:53,  6.16it/s]\u001b[A\n",
      " 15%|█▌        | 193/1261 [00:29<02:51,  6.22it/s]"
     ]
    },
    {
     "name": "stdout",
     "output_type": "stream",
     "text": [
      "This is right after the error\n",
      "This is right after the error\n"
     ]
    },
    {
     "name": "stderr",
     "output_type": "stream",
     "text": [
      "\u001b[A\n",
      " 15%|█▌        | 194/1261 [00:29<02:51,  6.23it/s]\u001b[A\n",
      " 15%|█▌        | 195/1261 [00:29<02:48,  6.33it/s]"
     ]
    },
    {
     "name": "stdout",
     "output_type": "stream",
     "text": [
      "This is right after the error\n",
      "This is right after the error\n"
     ]
    },
    {
     "name": "stderr",
     "output_type": "stream",
     "text": [
      "\u001b[A\n",
      " 16%|█▌        | 196/1261 [00:29<02:44,  6.48it/s]\u001b[A\n",
      " 16%|█▌        | 197/1261 [00:29<02:43,  6.49it/s]"
     ]
    },
    {
     "name": "stdout",
     "output_type": "stream",
     "text": [
      "This is right after the error\n",
      "This is right after the error\n"
     ]
    },
    {
     "name": "stderr",
     "output_type": "stream",
     "text": [
      "\u001b[A\n",
      " 16%|█▌        | 198/1261 [00:29<02:43,  6.52it/s]\u001b[A\n",
      " 16%|█▌        | 199/1261 [00:30<02:38,  6.69it/s]"
     ]
    },
    {
     "name": "stdout",
     "output_type": "stream",
     "text": [
      "This is right after the error\n",
      "This is right after the error\n"
     ]
    },
    {
     "name": "stderr",
     "output_type": "stream",
     "text": [
      "\u001b[A\n",
      " 16%|█▌        | 200/1261 [00:30<02:38,  6.69it/s]\u001b[A\n",
      " 16%|█▌        | 201/1261 [00:30<02:38,  6.68it/s]"
     ]
    },
    {
     "name": "stdout",
     "output_type": "stream",
     "text": [
      "This is right after the error\n",
      "This is right after the error\n"
     ]
    },
    {
     "name": "stderr",
     "output_type": "stream",
     "text": [
      "\u001b[A\n",
      " 16%|█▌        | 202/1261 [00:30<02:38,  6.68it/s]\u001b[A\n",
      " 16%|█▌        | 203/1261 [00:30<02:35,  6.79it/s]"
     ]
    },
    {
     "name": "stdout",
     "output_type": "stream",
     "text": [
      "This is right after the error\n",
      "This is right after the error\n"
     ]
    },
    {
     "name": "stderr",
     "output_type": "stream",
     "text": [
      "\u001b[A\n",
      " 16%|█▌        | 204/1261 [00:30<02:39,  6.64it/s]\u001b[A\n",
      " 16%|█▋        | 205/1261 [00:31<02:43,  6.45it/s]"
     ]
    },
    {
     "name": "stdout",
     "output_type": "stream",
     "text": [
      "This is right after the error\n",
      "This is right after the error\n"
     ]
    },
    {
     "name": "stderr",
     "output_type": "stream",
     "text": [
      "\u001b[A\n",
      " 16%|█▋        | 206/1261 [00:31<02:41,  6.52it/s]\u001b[A\n",
      " 16%|█▋        | 207/1261 [00:31<02:39,  6.61it/s]"
     ]
    },
    {
     "name": "stdout",
     "output_type": "stream",
     "text": [
      "This is right after the error\n",
      "This is right after the error\n"
     ]
    },
    {
     "name": "stderr",
     "output_type": "stream",
     "text": [
      "\u001b[A\n",
      " 16%|█▋        | 208/1261 [00:31<02:40,  6.56it/s]\u001b[A\n",
      " 17%|█▋        | 209/1261 [00:31<02:37,  6.67it/s]"
     ]
    },
    {
     "name": "stdout",
     "output_type": "stream",
     "text": [
      "This is right after the error\n",
      "This is right after the error\n"
     ]
    },
    {
     "name": "stderr",
     "output_type": "stream",
     "text": [
      "\u001b[A\n",
      " 17%|█▋        | 210/1261 [00:31<02:37,  6.69it/s]\u001b[A\n",
      " 17%|█▋        | 211/1261 [00:31<02:37,  6.68it/s]"
     ]
    },
    {
     "name": "stdout",
     "output_type": "stream",
     "text": [
      "This is right after the error\n",
      "This is right after the error\n"
     ]
    },
    {
     "name": "stderr",
     "output_type": "stream",
     "text": [
      "\u001b[A\n",
      " 17%|█▋        | 212/1261 [00:32<02:39,  6.57it/s]\u001b[A\n",
      " 17%|█▋        | 213/1261 [00:32<02:38,  6.62it/s]"
     ]
    },
    {
     "name": "stdout",
     "output_type": "stream",
     "text": [
      "This is right after the error\n",
      "This is right after the error\n"
     ]
    },
    {
     "name": "stderr",
     "output_type": "stream",
     "text": [
      "\u001b[A\n",
      " 17%|█▋        | 214/1261 [00:32<03:01,  5.76it/s]"
     ]
    },
    {
     "name": "stdout",
     "output_type": "stream",
     "text": [
      "This is right after the error\n"
     ]
    },
    {
     "name": "stderr",
     "output_type": "stream",
     "text": [
      "\u001b[A\n",
      " 17%|█▋        | 215/1261 [00:32<03:05,  5.65it/s]\u001b[A\n",
      " 17%|█▋        | 216/1261 [00:32<02:55,  5.95it/s]"
     ]
    },
    {
     "name": "stdout",
     "output_type": "stream",
     "text": [
      "This is right after the error\n",
      "This is right after the error\n"
     ]
    },
    {
     "name": "stderr",
     "output_type": "stream",
     "text": [
      "\u001b[A\n",
      " 17%|█▋        | 217/1261 [00:32<02:47,  6.22it/s]\u001b[A\n",
      " 17%|█▋        | 218/1261 [00:33<02:44,  6.33it/s]"
     ]
    },
    {
     "name": "stdout",
     "output_type": "stream",
     "text": [
      "This is right after the error\n",
      "This is right after the error\n"
     ]
    },
    {
     "name": "stderr",
     "output_type": "stream",
     "text": [
      "\u001b[A\n",
      " 17%|█▋        | 219/1261 [00:33<02:43,  6.37it/s]\u001b[A\n",
      " 17%|█▋        | 220/1261 [00:33<02:42,  6.42it/s]"
     ]
    },
    {
     "name": "stdout",
     "output_type": "stream",
     "text": [
      "This is right after the error\n",
      "This is right after the error\n"
     ]
    },
    {
     "name": "stderr",
     "output_type": "stream",
     "text": [
      "\u001b[A\n",
      " 18%|█▊        | 221/1261 [00:33<02:40,  6.48it/s]\u001b[A\n",
      " 18%|█▊        | 222/1261 [00:33<02:41,  6.42it/s]"
     ]
    },
    {
     "name": "stdout",
     "output_type": "stream",
     "text": [
      "This is right after the error\n",
      "This is right after the error\n"
     ]
    },
    {
     "name": "stderr",
     "output_type": "stream",
     "text": [
      "\u001b[A\n",
      " 18%|█▊        | 223/1261 [00:33<02:39,  6.50it/s]\u001b[A\n",
      " 18%|█▊        | 224/1261 [00:33<02:38,  6.53it/s]"
     ]
    },
    {
     "name": "stdout",
     "output_type": "stream",
     "text": [
      "This is right after the error\n",
      "This is right after the error\n"
     ]
    },
    {
     "name": "stderr",
     "output_type": "stream",
     "text": [
      "\u001b[A\n",
      " 18%|█▊        | 225/1261 [00:34<02:41,  6.43it/s]\u001b[A"
     ]
    },
    {
     "name": "stdout",
     "output_type": "stream",
     "text": [
      "This is right after the error\n"
     ]
    },
    {
     "name": "stderr",
     "output_type": "stream",
     "text": [
      "\n",
      "\r",
      " 18%|█▊        | 226/1261 [00:34<03:10,  5.44it/s]"
     ]
    },
    {
     "name": "stdout",
     "output_type": "stream",
     "text": [
      "This is right after the error\n",
      "This is right after the error\n"
     ]
    },
    {
     "name": "stderr",
     "output_type": "stream",
     "text": [
      "\u001b[A\n",
      " 18%|█▊        | 227/1261 [00:34<03:03,  5.65it/s]\u001b[A\n",
      " 18%|█▊        | 228/1261 [00:34<02:53,  5.94it/s]\u001b[A\n",
      " 18%|█▊        | 229/1261 [00:34<02:50,  6.05it/s]"
     ]
    },
    {
     "name": "stdout",
     "output_type": "stream",
     "text": [
      "This is right after the error\n",
      "This is right after the error\n"
     ]
    },
    {
     "name": "stderr",
     "output_type": "stream",
     "text": [
      "\u001b[A\n",
      " 18%|█▊        | 230/1261 [00:35<02:46,  6.20it/s]\u001b[A\n",
      " 18%|█▊        | 231/1261 [00:35<02:43,  6.29it/s]"
     ]
    },
    {
     "name": "stdout",
     "output_type": "stream",
     "text": [
      "This is right after the error\n",
      "This is right after the error\n"
     ]
    },
    {
     "name": "stderr",
     "output_type": "stream",
     "text": [
      "\u001b[A\n",
      " 18%|█▊        | 232/1261 [00:35<02:42,  6.31it/s]\u001b[A\n",
      " 18%|█▊        | 233/1261 [00:35<02:40,  6.42it/s]"
     ]
    },
    {
     "name": "stdout",
     "output_type": "stream",
     "text": [
      "This is right after the error\n",
      "This is right after the error\n"
     ]
    },
    {
     "name": "stderr",
     "output_type": "stream",
     "text": [
      "\u001b[A\n",
      " 19%|█▊        | 234/1261 [00:35<02:39,  6.45it/s]\u001b[A\n",
      " 19%|█▊        | 235/1261 [00:35<02:37,  6.51it/s]"
     ]
    },
    {
     "name": "stdout",
     "output_type": "stream",
     "text": [
      "This is right after the error\n",
      "This is right after the error\n"
     ]
    },
    {
     "name": "stderr",
     "output_type": "stream",
     "text": [
      "\u001b[A\n",
      " 19%|█▊        | 236/1261 [00:35<02:38,  6.47it/s]\u001b[A"
     ]
    },
    {
     "name": "stdout",
     "output_type": "stream",
     "text": [
      "This is right after the error\n"
     ]
    },
    {
     "name": "stderr",
     "output_type": "stream",
     "text": [
      "\n",
      " 19%|█▉        | 237/1261 [00:36<03:08,  5.45it/s]\u001b[A\n",
      " 19%|█▉        | 238/1261 [00:36<02:55,  5.81it/s]"
     ]
    },
    {
     "name": "stdout",
     "output_type": "stream",
     "text": [
      "This is right after the error\n",
      "This is right after the error\n"
     ]
    },
    {
     "name": "stderr",
     "output_type": "stream",
     "text": [
      "\u001b[A\n",
      " 19%|█▉        | 239/1261 [00:36<02:51,  5.97it/s]\u001b[A\n",
      " 19%|█▉        | 240/1261 [00:36<02:49,  6.03it/s]"
     ]
    },
    {
     "name": "stdout",
     "output_type": "stream",
     "text": [
      "This is right after the error\n",
      "This is right after the error\n"
     ]
    },
    {
     "name": "stderr",
     "output_type": "stream",
     "text": [
      "\u001b[A\n",
      " 19%|█▉        | 241/1261 [00:36<02:46,  6.14it/s]\u001b[A\n",
      " 19%|█▉        | 242/1261 [00:36<02:43,  6.24it/s]"
     ]
    },
    {
     "name": "stdout",
     "output_type": "stream",
     "text": [
      "This is right after the error\n",
      "This is right after the error\n"
     ]
    },
    {
     "name": "stderr",
     "output_type": "stream",
     "text": [
      "\u001b[A\n",
      " 19%|█▉        | 243/1261 [00:37<02:41,  6.32it/s]\u001b[A\n",
      " 19%|█▉        | 244/1261 [00:37<02:41,  6.28it/s]"
     ]
    },
    {
     "name": "stdout",
     "output_type": "stream",
     "text": [
      "This is right after the error\n",
      "This is right after the error\n"
     ]
    },
    {
     "name": "stderr",
     "output_type": "stream",
     "text": [
      "\u001b[A\n",
      " 19%|█▉        | 245/1261 [00:37<02:43,  6.22it/s]\u001b[A\n",
      " 20%|█▉        | 246/1261 [00:37<02:42,  6.23it/s]"
     ]
    },
    {
     "name": "stdout",
     "output_type": "stream",
     "text": [
      "This is right after the error\n",
      "This is right after the error\n"
     ]
    },
    {
     "name": "stderr",
     "output_type": "stream",
     "text": [
      "\u001b[A\n",
      " 20%|█▉        | 247/1261 [00:37<02:44,  6.18it/s]\u001b[A\n",
      " 20%|█▉        | 248/1261 [00:37<02:42,  6.24it/s]"
     ]
    },
    {
     "name": "stdout",
     "output_type": "stream",
     "text": [
      "This is right after the error\n",
      "This is right after the error\n"
     ]
    },
    {
     "name": "stderr",
     "output_type": "stream",
     "text": [
      "\u001b[A\n",
      " 20%|█▉        | 249/1261 [00:38<02:43,  6.18it/s]\u001b[A\n",
      " 20%|█▉        | 250/1261 [00:38<02:43,  6.18it/s]"
     ]
    },
    {
     "name": "stdout",
     "output_type": "stream",
     "text": [
      "This is right after the error\n",
      "This is right after the error\n"
     ]
    },
    {
     "name": "stderr",
     "output_type": "stream",
     "text": [
      "\u001b[A\n",
      " 20%|█▉        | 251/1261 [00:38<02:44,  6.15it/s]\u001b[A\n",
      " 20%|█▉        | 252/1261 [00:38<02:43,  6.18it/s]"
     ]
    },
    {
     "name": "stdout",
     "output_type": "stream",
     "text": [
      "This is right after the error\n",
      "This is right after the error\n"
     ]
    },
    {
     "name": "stderr",
     "output_type": "stream",
     "text": [
      "\u001b[A\n",
      " 20%|██        | 253/1261 [00:38<02:43,  6.15it/s]\u001b[A\n",
      " 20%|██        | 254/1261 [00:38<02:43,  6.15it/s]"
     ]
    },
    {
     "name": "stdout",
     "output_type": "stream",
     "text": [
      "This is right after the error\n",
      "This is right after the error\n"
     ]
    },
    {
     "name": "stderr",
     "output_type": "stream",
     "text": [
      "\u001b[A\n",
      " 20%|██        | 255/1261 [00:39<02:45,  6.07it/s]\u001b[A"
     ]
    },
    {
     "name": "stdout",
     "output_type": "stream",
     "text": [
      "This is right after the error\n",
      "This is right after the error\n"
     ]
    },
    {
     "name": "stderr",
     "output_type": "stream",
     "text": [
      "\n",
      " 20%|██        | 256/1261 [00:39<03:05,  5.43it/s]\u001b[A\n",
      " 20%|██        | 257/1261 [00:39<03:09,  5.30it/s]\u001b[A\n",
      " 20%|██        | 258/1261 [00:39<03:00,  5.56it/s]"
     ]
    },
    {
     "name": "stdout",
     "output_type": "stream",
     "text": [
      "This is right after the error\n",
      "This is right after the error\n"
     ]
    },
    {
     "name": "stderr",
     "output_type": "stream",
     "text": [
      "\u001b[A\n",
      " 21%|██        | 259/1261 [00:39<02:55,  5.71it/s]\u001b[A\n",
      " 21%|██        | 260/1261 [00:39<02:49,  5.90it/s]"
     ]
    },
    {
     "name": "stdout",
     "output_type": "stream",
     "text": [
      "This is right after the error\n",
      "This is right after the error\n"
     ]
    },
    {
     "name": "stderr",
     "output_type": "stream",
     "text": [
      "\u001b[A\n",
      " 21%|██        | 261/1261 [00:40<02:48,  5.94it/s]\u001b[A\n",
      " 21%|██        | 262/1261 [00:40<02:45,  6.04it/s]"
     ]
    },
    {
     "name": "stdout",
     "output_type": "stream",
     "text": [
      "This is right after the error\n",
      "This is right after the error\n"
     ]
    },
    {
     "name": "stderr",
     "output_type": "stream",
     "text": [
      "\u001b[A\n",
      " 21%|██        | 263/1261 [00:40<02:43,  6.09it/s]\u001b[A\n",
      " 21%|██        | 264/1261 [00:40<02:38,  6.27it/s]"
     ]
    },
    {
     "name": "stdout",
     "output_type": "stream",
     "text": [
      "This is right after the error\n",
      "This is right after the error\n"
     ]
    },
    {
     "name": "stderr",
     "output_type": "stream",
     "text": [
      "\u001b[A\n",
      " 21%|██        | 265/1261 [00:40<02:37,  6.32it/s]\u001b[A\n",
      " 21%|██        | 266/1261 [00:40<02:34,  6.44it/s]"
     ]
    },
    {
     "name": "stdout",
     "output_type": "stream",
     "text": [
      "This is right after the error\n",
      "This is right after the error\n"
     ]
    },
    {
     "name": "stderr",
     "output_type": "stream",
     "text": [
      "\u001b[A\n",
      " 21%|██        | 267/1261 [00:41<02:33,  6.47it/s]\u001b[A\n",
      " 21%|██▏       | 268/1261 [00:41<02:31,  6.55it/s]"
     ]
    },
    {
     "name": "stdout",
     "output_type": "stream",
     "text": [
      "This is right after the error\n",
      "This is right after the error\n"
     ]
    },
    {
     "name": "stderr",
     "output_type": "stream",
     "text": [
      "\u001b[A\n",
      " 21%|██▏       | 269/1261 [00:41<02:32,  6.49it/s]\u001b[A\n",
      " 21%|██▏       | 270/1261 [00:41<02:31,  6.53it/s]"
     ]
    },
    {
     "name": "stdout",
     "output_type": "stream",
     "text": [
      "This is right after the error\n",
      "This is right after the error\n"
     ]
    },
    {
     "name": "stderr",
     "output_type": "stream",
     "text": [
      "\u001b[A\n",
      " 21%|██▏       | 271/1261 [00:41<02:33,  6.45it/s]\u001b[A\n",
      " 22%|██▏       | 272/1261 [00:41<02:34,  6.39it/s]"
     ]
    },
    {
     "name": "stdout",
     "output_type": "stream",
     "text": [
      "This is right after the error\n",
      "This is right after the error\n"
     ]
    },
    {
     "name": "stderr",
     "output_type": "stream",
     "text": [
      "\u001b[A\n",
      " 22%|██▏       | 273/1261 [00:42<02:37,  6.27it/s]\u001b[A\n",
      " 22%|██▏       | 274/1261 [00:42<02:38,  6.24it/s]"
     ]
    },
    {
     "name": "stdout",
     "output_type": "stream",
     "text": [
      "This is right after the error\n",
      "This is right after the error\n"
     ]
    },
    {
     "name": "stderr",
     "output_type": "stream",
     "text": [
      "\u001b[A\n",
      " 22%|██▏       | 275/1261 [00:42<03:07,  5.25it/s]\u001b[A\n",
      " 22%|██▏       | 276/1261 [00:42<02:56,  5.59it/s]"
     ]
    },
    {
     "name": "stdout",
     "output_type": "stream",
     "text": [
      "This is right after the error\n",
      "This is right after the error\n"
     ]
    },
    {
     "name": "stderr",
     "output_type": "stream",
     "text": [
      "\u001b[A\n",
      " 22%|██▏       | 277/1261 [00:42<02:51,  5.74it/s]\u001b[A"
     ]
    },
    {
     "name": "stdout",
     "output_type": "stream",
     "text": [
      "This is right after the error\n",
      "This is right after the error\n"
     ]
    },
    {
     "name": "stderr",
     "output_type": "stream",
     "text": [
      "\n",
      " 22%|██▏       | 278/1261 [00:42<02:51,  5.72it/s]\u001b[A\n",
      " 22%|██▏       | 279/1261 [00:43<02:45,  5.92it/s]\u001b[A\n",
      " 22%|██▏       | 280/1261 [00:43<02:42,  6.02it/s]"
     ]
    },
    {
     "name": "stdout",
     "output_type": "stream",
     "text": [
      "This is right after the error\n",
      "This is right after the error\n"
     ]
    },
    {
     "name": "stderr",
     "output_type": "stream",
     "text": [
      "\u001b[A\n",
      " 22%|██▏       | 281/1261 [00:43<02:41,  6.07it/s]\u001b[A\n",
      " 22%|██▏       | 282/1261 [00:43<02:36,  6.26it/s]"
     ]
    },
    {
     "name": "stdout",
     "output_type": "stream",
     "text": [
      "This is right after the error\n",
      "This is right after the error\n"
     ]
    },
    {
     "name": "stderr",
     "output_type": "stream",
     "text": [
      "\u001b[A\n",
      " 22%|██▏       | 283/1261 [00:43<02:37,  6.20it/s]\u001b[A\n",
      " 23%|██▎       | 284/1261 [00:43<02:36,  6.25it/s]"
     ]
    },
    {
     "name": "stdout",
     "output_type": "stream",
     "text": [
      "This is right after the error\n",
      "This is right after the error\n"
     ]
    },
    {
     "name": "stderr",
     "output_type": "stream",
     "text": [
      "\u001b[A\n",
      " 23%|██▎       | 285/1261 [00:44<02:36,  6.24it/s]\u001b[A\n",
      " 23%|██▎       | 286/1261 [00:44<02:36,  6.25it/s]"
     ]
    },
    {
     "name": "stdout",
     "output_type": "stream",
     "text": [
      "This is right after the error\n",
      "This is right after the error\n"
     ]
    },
    {
     "name": "stderr",
     "output_type": "stream",
     "text": [
      "\u001b[A\n",
      " 23%|██▎       | 287/1261 [00:44<02:37,  6.19it/s]\u001b[A\n",
      " 23%|██▎       | 288/1261 [00:44<02:35,  6.27it/s]"
     ]
    },
    {
     "name": "stdout",
     "output_type": "stream",
     "text": [
      "This is right after the error\n",
      "This is right after the error\n"
     ]
    },
    {
     "name": "stderr",
     "output_type": "stream",
     "text": [
      "\u001b[A\n",
      " 23%|██▎       | 289/1261 [00:44<02:35,  6.24it/s]\u001b[A\n",
      " 23%|██▎       | 290/1261 [00:44<02:35,  6.25it/s]"
     ]
    },
    {
     "name": "stdout",
     "output_type": "stream",
     "text": [
      "This is right after the error\n",
      "This is right after the error\n"
     ]
    },
    {
     "name": "stderr",
     "output_type": "stream",
     "text": [
      "\u001b[A\n",
      " 23%|██▎       | 291/1261 [00:45<02:35,  6.22it/s]\u001b[A\n",
      " 23%|██▎       | 292/1261 [00:45<02:35,  6.25it/s]"
     ]
    },
    {
     "name": "stdout",
     "output_type": "stream",
     "text": [
      "This is right after the error\n",
      "This is right after the error\n"
     ]
    },
    {
     "name": "stderr",
     "output_type": "stream",
     "text": [
      "\u001b[A\n",
      " 23%|██▎       | 293/1261 [00:45<02:34,  6.25it/s]\u001b[A"
     ]
    },
    {
     "name": "stdout",
     "output_type": "stream",
     "text": [
      "This is right after the error\n",
      "This is right after the error\n"
     ]
    },
    {
     "name": "stderr",
     "output_type": "stream",
     "text": [
      "\n",
      " 23%|██▎       | 294/1261 [00:45<02:41,  5.98it/s]\u001b[A\n",
      " 23%|██▎       | 295/1261 [00:45<02:40,  6.03it/s]\u001b[A\n",
      " 23%|██▎       | 296/1261 [00:45<02:36,  6.17it/s]"
     ]
    },
    {
     "name": "stdout",
     "output_type": "stream",
     "text": [
      "This is right after the error\n",
      "This is right after the error\n"
     ]
    },
    {
     "name": "stderr",
     "output_type": "stream",
     "text": [
      "\u001b[A\n",
      " 24%|██▎       | 297/1261 [00:45<02:33,  6.27it/s]\u001b[A\n",
      " 24%|██▎       | 298/1261 [00:46<02:33,  6.28it/s]"
     ]
    },
    {
     "name": "stdout",
     "output_type": "stream",
     "text": [
      "This is right after the error\n",
      "This is right after the error\n"
     ]
    },
    {
     "name": "stderr",
     "output_type": "stream",
     "text": [
      "\u001b[A\n",
      " 24%|██▎       | 299/1261 [00:46<02:32,  6.33it/s]\u001b[A\n",
      " 24%|██▍       | 300/1261 [00:46<02:29,  6.42it/s]"
     ]
    },
    {
     "name": "stdout",
     "output_type": "stream",
     "text": [
      "This is right after the error\n",
      "This is right after the error\n"
     ]
    },
    {
     "name": "stderr",
     "output_type": "stream",
     "text": [
      "\u001b[A\n",
      " 24%|██▍       | 301/1261 [00:46<02:30,  6.39it/s]\u001b[A\n",
      " 24%|██▍       | 302/1261 [00:46<02:30,  6.35it/s]"
     ]
    },
    {
     "name": "stdout",
     "output_type": "stream",
     "text": [
      "This is right after the error\n",
      "This is right after the error\n"
     ]
    },
    {
     "name": "stderr",
     "output_type": "stream",
     "text": [
      "\u001b[A\n",
      " 24%|██▍       | 303/1261 [00:46<02:35,  6.16it/s]\u001b[A\n",
      " 24%|██▍       | 304/1261 [00:47<02:35,  6.16it/s]"
     ]
    },
    {
     "name": "stdout",
     "output_type": "stream",
     "text": [
      "This is right after the error\n",
      "This is right after the error\n"
     ]
    },
    {
     "name": "stderr",
     "output_type": "stream",
     "text": [
      "\u001b[A\n",
      " 24%|██▍       | 305/1261 [00:47<02:35,  6.15it/s]\u001b[A\n",
      " 24%|██▍       | 306/1261 [00:47<02:34,  6.18it/s]"
     ]
    },
    {
     "name": "stdout",
     "output_type": "stream",
     "text": [
      "This is right after the error\n",
      "This is right after the error\n"
     ]
    },
    {
     "name": "stderr",
     "output_type": "stream",
     "text": [
      "\u001b[A\n",
      " 24%|██▍       | 307/1261 [00:47<02:35,  6.14it/s]\u001b[A\n",
      " 24%|██▍       | 308/1261 [00:47<02:33,  6.20it/s]"
     ]
    },
    {
     "name": "stdout",
     "output_type": "stream",
     "text": [
      "This is right after the error\n",
      "This is right after the error\n"
     ]
    },
    {
     "name": "stderr",
     "output_type": "stream",
     "text": [
      "\u001b[A\n",
      " 25%|██▍       | 309/1261 [00:47<02:34,  6.17it/s]\u001b[A\n",
      " 25%|██▍       | 310/1261 [00:48<02:32,  6.22it/s]"
     ]
    },
    {
     "name": "stdout",
     "output_type": "stream",
     "text": [
      "This is right after the error\n",
      "This is right after the error\n"
     ]
    },
    {
     "name": "stderr",
     "output_type": "stream",
     "text": [
      "\u001b[A\n",
      " 25%|██▍       | 311/1261 [00:48<02:34,  6.14it/s]\u001b[A\n",
      " 25%|██▍       | 312/1261 [00:48<02:35,  6.11it/s]"
     ]
    },
    {
     "name": "stdout",
     "output_type": "stream",
     "text": [
      "This is right after the error\n",
      "This is right after the error\n"
     ]
    },
    {
     "name": "stderr",
     "output_type": "stream",
     "text": [
      "\u001b[A\n",
      " 25%|██▍       | 313/1261 [00:48<02:34,  6.14it/s]\u001b[A\n",
      " 25%|██▍       | 314/1261 [00:48<02:32,  6.22it/s]"
     ]
    },
    {
     "name": "stdout",
     "output_type": "stream",
     "text": [
      "This is right after the error\n",
      "This is right after the error\n"
     ]
    },
    {
     "name": "stderr",
     "output_type": "stream",
     "text": [
      "\u001b[A\n",
      " 25%|██▍       | 315/1261 [00:48<02:32,  6.21it/s]\u001b[A\n",
      " 25%|██▌       | 316/1261 [00:49<02:32,  6.21it/s]"
     ]
    },
    {
     "name": "stdout",
     "output_type": "stream",
     "text": [
      "This is right after the error\n",
      "This is right after the error\n"
     ]
    },
    {
     "name": "stderr",
     "output_type": "stream",
     "text": [
      "\u001b[A\n",
      " 25%|██▌       | 317/1261 [00:49<02:31,  6.23it/s]\u001b[A\n",
      " 25%|██▌       | 318/1261 [00:49<02:30,  6.25it/s]"
     ]
    },
    {
     "name": "stdout",
     "output_type": "stream",
     "text": [
      "This is right after the error\n",
      "This is right after the error\n"
     ]
    },
    {
     "name": "stderr",
     "output_type": "stream",
     "text": [
      "\u001b[A\n",
      " 25%|██▌       | 319/1261 [00:49<03:00,  5.23it/s]\u001b[A\n",
      " 25%|██▌       | 320/1261 [00:49<02:48,  5.59it/s]"
     ]
    },
    {
     "name": "stdout",
     "output_type": "stream",
     "text": [
      "This is right after the error\n",
      "This is right after the error\n"
     ]
    },
    {
     "name": "stderr",
     "output_type": "stream",
     "text": [
      "\u001b[A\n",
      " 25%|██▌       | 321/1261 [00:49<02:43,  5.75it/s]\u001b[A\n",
      " 26%|██▌       | 322/1261 [00:50<02:39,  5.89it/s]"
     ]
    },
    {
     "name": "stdout",
     "output_type": "stream",
     "text": [
      "This is right after the error\n",
      "This is right after the error\n"
     ]
    },
    {
     "name": "stderr",
     "output_type": "stream",
     "text": [
      "\u001b[A\n",
      " 26%|██▌       | 323/1261 [00:50<02:37,  5.96it/s]\u001b[A\n",
      " 26%|██▌       | 324/1261 [00:50<02:34,  6.05it/s]"
     ]
    },
    {
     "name": "stdout",
     "output_type": "stream",
     "text": [
      "This is right after the error\n",
      "This is right after the error\n"
     ]
    },
    {
     "name": "stderr",
     "output_type": "stream",
     "text": [
      "\u001b[A\n",
      " 26%|██▌       | 325/1261 [00:50<02:35,  6.00it/s]\u001b[A\n",
      " 26%|██▌       | 326/1261 [00:50<02:33,  6.10it/s]"
     ]
    },
    {
     "name": "stdout",
     "output_type": "stream",
     "text": [
      "This is right after the error\n",
      "This is right after the error\n"
     ]
    },
    {
     "name": "stderr",
     "output_type": "stream",
     "text": [
      "\u001b[A\n",
      " 26%|██▌       | 327/1261 [00:50<02:32,  6.11it/s]\u001b[A\n",
      " 26%|██▌       | 328/1261 [00:51<02:28,  6.27it/s]"
     ]
    },
    {
     "name": "stdout",
     "output_type": "stream",
     "text": [
      "This is right after the error\n",
      "This is right after the error\n"
     ]
    },
    {
     "name": "stderr",
     "output_type": "stream",
     "text": [
      "\u001b[A\n",
      " 26%|██▌       | 329/1261 [00:51<02:28,  6.26it/s]\u001b[A\n",
      " 26%|██▌       | 330/1261 [00:51<02:28,  6.27it/s]"
     ]
    },
    {
     "name": "stdout",
     "output_type": "stream",
     "text": [
      "This is right after the error\n",
      "This is right after the error\n"
     ]
    },
    {
     "name": "stderr",
     "output_type": "stream",
     "text": [
      "\u001b[A\n",
      " 26%|██▌       | 331/1261 [00:51<02:28,  6.26it/s]\u001b[A\n",
      " 26%|██▋       | 332/1261 [00:51<02:27,  6.31it/s]"
     ]
    },
    {
     "name": "stdout",
     "output_type": "stream",
     "text": [
      "This is right after the error\n",
      "This is right after the error\n"
     ]
    },
    {
     "name": "stderr",
     "output_type": "stream",
     "text": [
      "\u001b[A\n",
      " 26%|██▋       | 333/1261 [00:51<02:26,  6.31it/s]\u001b[A\n",
      " 26%|██▋       | 334/1261 [00:51<02:23,  6.46it/s]"
     ]
    },
    {
     "name": "stdout",
     "output_type": "stream",
     "text": [
      "This is right after the error\n",
      "This is right after the error\n"
     ]
    },
    {
     "name": "stderr",
     "output_type": "stream",
     "text": [
      "\u001b[A\n",
      " 27%|██▋       | 335/1261 [00:52<02:25,  6.37it/s]\u001b[A\n",
      " 27%|██▋       | 336/1261 [00:52<02:25,  6.34it/s]"
     ]
    },
    {
     "name": "stdout",
     "output_type": "stream",
     "text": [
      "This is right after the error\n",
      "This is right after the error\n"
     ]
    },
    {
     "name": "stderr",
     "output_type": "stream",
     "text": [
      "\u001b[A\n",
      " 27%|██▋       | 337/1261 [00:52<02:24,  6.38it/s]\u001b[A\n",
      " 27%|██▋       | 338/1261 [00:52<02:24,  6.40it/s]"
     ]
    },
    {
     "name": "stdout",
     "output_type": "stream",
     "text": [
      "This is right after the error\n",
      "This is right after the error\n"
     ]
    },
    {
     "name": "stderr",
     "output_type": "stream",
     "text": [
      "\u001b[A\n",
      " 27%|██▋       | 339/1261 [00:52<02:23,  6.44it/s]\u001b[A"
     ]
    },
    {
     "name": "stdout",
     "output_type": "stream",
     "text": [
      "This is right after the error\n",
      "This is right after the error"
     ]
    },
    {
     "name": "stderr",
     "output_type": "stream",
     "text": [
      "\n",
      " 27%|██▋       | 340/1261 [00:53<02:46,  5.53it/s]\u001b[A\n",
      " 27%|██▋       | 341/1261 [00:53<02:44,  5.61it/s]\u001b[A\n",
      " 27%|██▋       | 342/1261 [00:53<02:37,  5.84it/s]"
     ]
    },
    {
     "name": "stdout",
     "output_type": "stream",
     "text": [
      "\n",
      "This is right after the error\n",
      "This is right after the error\n"
     ]
    },
    {
     "name": "stderr",
     "output_type": "stream",
     "text": [
      "\u001b[A\n",
      " 27%|██▋       | 343/1261 [00:53<02:40,  5.72it/s]\u001b[A\n",
      " 27%|██▋       | 344/1261 [00:53<02:34,  5.95it/s]"
     ]
    },
    {
     "name": "stdout",
     "output_type": "stream",
     "text": [
      "This is right after the error\n",
      "This is right after the error\n"
     ]
    },
    {
     "name": "stderr",
     "output_type": "stream",
     "text": [
      "\u001b[A\n",
      " 27%|██▋       | 345/1261 [00:53<02:27,  6.20it/s]\u001b[A\n",
      " 27%|██▋       | 346/1261 [00:53<02:25,  6.30it/s]"
     ]
    },
    {
     "name": "stdout",
     "output_type": "stream",
     "text": [
      "This is right after the error\n",
      "This is right after the error\n"
     ]
    },
    {
     "name": "stderr",
     "output_type": "stream",
     "text": [
      "\u001b[A\n",
      " 28%|██▊       | 347/1261 [00:54<02:24,  6.31it/s]\u001b[A\n",
      " 28%|██▊       | 348/1261 [00:54<02:23,  6.38it/s]"
     ]
    },
    {
     "name": "stdout",
     "output_type": "stream",
     "text": [
      "This is right after the error\n",
      "This is right after the error\n"
     ]
    },
    {
     "name": "stderr",
     "output_type": "stream",
     "text": [
      "\u001b[A\n",
      " 28%|██▊       | 349/1261 [00:54<02:24,  6.33it/s]\u001b[A\n",
      " 28%|██▊       | 350/1261 [00:54<02:23,  6.36it/s]"
     ]
    },
    {
     "name": "stdout",
     "output_type": "stream",
     "text": [
      "This is right after the error\n",
      "This is right after the error\n"
     ]
    },
    {
     "name": "stderr",
     "output_type": "stream",
     "text": [
      "\u001b[A\n",
      " 28%|██▊       | 351/1261 [00:54<02:23,  6.33it/s]\u001b[A\n",
      " 28%|██▊       | 352/1261 [00:54<02:20,  6.46it/s]"
     ]
    },
    {
     "name": "stdout",
     "output_type": "stream",
     "text": [
      "This is right after the error\n",
      "This is right after the error\n"
     ]
    },
    {
     "name": "stderr",
     "output_type": "stream",
     "text": [
      "\u001b[A\n",
      " 28%|██▊       | 353/1261 [00:55<02:21,  6.40it/s]\u001b[A\n",
      " 28%|██▊       | 354/1261 [00:55<02:21,  6.41it/s]"
     ]
    },
    {
     "name": "stdout",
     "output_type": "stream",
     "text": [
      "This is right after the error\n",
      "This is right after the error\n"
     ]
    },
    {
     "name": "stderr",
     "output_type": "stream",
     "text": [
      "\u001b[A\n",
      " 28%|██▊       | 355/1261 [00:55<02:21,  6.39it/s]\u001b[A\n",
      " 28%|██▊       | 356/1261 [00:55<02:18,  6.55it/s]"
     ]
    },
    {
     "name": "stdout",
     "output_type": "stream",
     "text": [
      "This is right after the error\n",
      "This is right after the error\n"
     ]
    },
    {
     "name": "stderr",
     "output_type": "stream",
     "text": [
      "\u001b[A\n",
      " 28%|██▊       | 357/1261 [00:55<02:16,  6.61it/s]\u001b[A\n",
      " 28%|██▊       | 358/1261 [00:55<02:15,  6.66it/s]"
     ]
    },
    {
     "name": "stdout",
     "output_type": "stream",
     "text": [
      "This is right after the error\n",
      "This is right after the error\n"
     ]
    },
    {
     "name": "stderr",
     "output_type": "stream",
     "text": [
      "\u001b[A\n",
      " 28%|██▊       | 359/1261 [00:55<02:15,  6.67it/s]\u001b[A\n",
      " 29%|██▊       | 360/1261 [00:56<02:19,  6.48it/s]"
     ]
    },
    {
     "name": "stdout",
     "output_type": "stream",
     "text": [
      "This is right after the error\n",
      "This is right after the error\n"
     ]
    },
    {
     "name": "stderr",
     "output_type": "stream",
     "text": [
      "\u001b[A\n",
      " 29%|██▊       | 361/1261 [00:56<02:19,  6.46it/s]\u001b[A\n",
      " 29%|██▊       | 362/1261 [00:56<02:16,  6.57it/s]"
     ]
    },
    {
     "name": "stdout",
     "output_type": "stream",
     "text": [
      "This is right after the error\n",
      "This is right after the error\n"
     ]
    },
    {
     "name": "stderr",
     "output_type": "stream",
     "text": [
      "\u001b[A\n",
      " 29%|██▉       | 363/1261 [00:56<02:19,  6.46it/s]\u001b[A\n",
      " 29%|██▉       | 364/1261 [00:56<02:19,  6.44it/s]"
     ]
    },
    {
     "name": "stdout",
     "output_type": "stream",
     "text": [
      "This is right after the error\n",
      "This is right after the error\n"
     ]
    },
    {
     "name": "stderr",
     "output_type": "stream",
     "text": [
      "\u001b[A\n",
      " 29%|██▉       | 365/1261 [00:56<02:19,  6.43it/s]\u001b[A\n",
      " 29%|██▉       | 366/1261 [00:57<02:18,  6.48it/s]"
     ]
    },
    {
     "name": "stdout",
     "output_type": "stream",
     "text": [
      "This is right after the error\n",
      "This is right after the error\n"
     ]
    },
    {
     "name": "stderr",
     "output_type": "stream",
     "text": [
      "\u001b[A\n",
      " 29%|██▉       | 367/1261 [00:57<02:17,  6.49it/s]\u001b[A\n",
      " 29%|██▉       | 368/1261 [00:57<02:16,  6.52it/s]"
     ]
    },
    {
     "name": "stdout",
     "output_type": "stream",
     "text": [
      "This is right after the error\n",
      "This is right after the error\n"
     ]
    },
    {
     "name": "stderr",
     "output_type": "stream",
     "text": [
      "\u001b[A\n",
      " 29%|██▉       | 369/1261 [00:57<02:17,  6.49it/s]\u001b[A\n",
      " 29%|██▉       | 370/1261 [00:57<02:15,  6.56it/s]"
     ]
    },
    {
     "name": "stdout",
     "output_type": "stream",
     "text": [
      "This is right after the error\n",
      "This is right after the error\n"
     ]
    },
    {
     "name": "stderr",
     "output_type": "stream",
     "text": [
      "\u001b[A\n",
      " 29%|██▉       | 371/1261 [00:57<02:17,  6.46it/s]\u001b[A\n",
      " 30%|██▉       | 372/1261 [00:57<02:17,  6.49it/s]"
     ]
    },
    {
     "name": "stdout",
     "output_type": "stream",
     "text": [
      "This is right after the error\n",
      "This is right after the error\n"
     ]
    },
    {
     "name": "stderr",
     "output_type": "stream",
     "text": [
      "\u001b[A\n",
      " 30%|██▉       | 373/1261 [00:58<02:16,  6.52it/s]\u001b[A\n",
      " 30%|██▉       | 374/1261 [00:58<02:14,  6.59it/s]"
     ]
    },
    {
     "name": "stdout",
     "output_type": "stream",
     "text": [
      "This is right after the error\n",
      "This is right after the error\n"
     ]
    },
    {
     "name": "stderr",
     "output_type": "stream",
     "text": [
      "\u001b[A\n",
      " 30%|██▉       | 375/1261 [00:58<02:14,  6.58it/s]\u001b[A\n",
      " 30%|██▉       | 376/1261 [00:58<02:14,  6.59it/s]"
     ]
    },
    {
     "name": "stdout",
     "output_type": "stream",
     "text": [
      "This is right after the error\n",
      "This is right after the error\n"
     ]
    },
    {
     "name": "stderr",
     "output_type": "stream",
     "text": [
      "\u001b[A\n",
      " 30%|██▉       | 377/1261 [00:58<02:14,  6.56it/s]\u001b[A\n",
      " 30%|██▉       | 378/1261 [00:58<02:13,  6.60it/s]"
     ]
    },
    {
     "name": "stdout",
     "output_type": "stream",
     "text": [
      "This is right after the error\n",
      "This is right after the error\n"
     ]
    },
    {
     "name": "stderr",
     "output_type": "stream",
     "text": [
      "\u001b[A\n",
      " 30%|███       | 379/1261 [00:59<02:14,  6.55it/s]\u001b[A\n",
      " 30%|███       | 380/1261 [00:59<02:15,  6.52it/s]"
     ]
    },
    {
     "name": "stdout",
     "output_type": "stream",
     "text": [
      "This is right after the error\n",
      "This is right after the error\n"
     ]
    },
    {
     "name": "stderr",
     "output_type": "stream",
     "text": [
      "\u001b[A\n",
      " 30%|███       | 381/1261 [00:59<02:13,  6.58it/s]\u001b[A\n",
      " 30%|███       | 382/1261 [00:59<02:13,  6.56it/s]"
     ]
    },
    {
     "name": "stdout",
     "output_type": "stream",
     "text": [
      "This is right after the error\n",
      "This is right after the error\n"
     ]
    },
    {
     "name": "stderr",
     "output_type": "stream",
     "text": [
      "\u001b[A\n",
      " 30%|███       | 383/1261 [00:59<02:26,  5.97it/s]"
     ]
    },
    {
     "name": "stdout",
     "output_type": "stream",
     "text": [
      "This is right after the error\n"
     ]
    },
    {
     "name": "stderr",
     "output_type": "stream",
     "text": [
      "\u001b[A\n",
      " 30%|███       | 384/1261 [00:59<02:34,  5.68it/s]\u001b[A\n",
      " 31%|███       | 385/1261 [01:00<02:26,  5.98it/s]"
     ]
    },
    {
     "name": "stdout",
     "output_type": "stream",
     "text": [
      "This is right after the error\n",
      "This is right after the error\n"
     ]
    },
    {
     "name": "stderr",
     "output_type": "stream",
     "text": [
      "\u001b[A\n",
      " 31%|███       | 386/1261 [01:00<02:23,  6.11it/s]\u001b[A\n",
      " 31%|███       | 387/1261 [01:00<02:19,  6.28it/s]"
     ]
    },
    {
     "name": "stdout",
     "output_type": "stream",
     "text": [
      "This is right after the error\n",
      "This is right after the error\n"
     ]
    },
    {
     "name": "stderr",
     "output_type": "stream",
     "text": [
      "\u001b[A\n",
      " 31%|███       | 388/1261 [01:00<02:16,  6.38it/s]\u001b[A\n",
      " 31%|███       | 389/1261 [01:00<02:15,  6.46it/s]"
     ]
    },
    {
     "name": "stdout",
     "output_type": "stream",
     "text": [
      "This is right after the error\n",
      "This is right after the error\n"
     ]
    },
    {
     "name": "stderr",
     "output_type": "stream",
     "text": [
      "\u001b[A\n",
      " 31%|███       | 390/1261 [01:00<02:14,  6.48it/s]\u001b[A\n",
      " 31%|███       | 391/1261 [01:00<02:13,  6.51it/s]"
     ]
    },
    {
     "name": "stdout",
     "output_type": "stream",
     "text": [
      "This is right after the error\n",
      "This is right after the error\n"
     ]
    },
    {
     "name": "stderr",
     "output_type": "stream",
     "text": [
      "\u001b[A\n",
      " 31%|███       | 392/1261 [01:01<02:13,  6.49it/s]\u001b[A\n",
      " 31%|███       | 393/1261 [01:01<02:10,  6.67it/s]"
     ]
    },
    {
     "name": "stdout",
     "output_type": "stream",
     "text": [
      "This is right after the error\n",
      "This is right after the error\n"
     ]
    },
    {
     "name": "stderr",
     "output_type": "stream",
     "text": [
      "\u001b[A\n",
      " 31%|███       | 394/1261 [01:01<02:10,  6.62it/s]\u001b[A\n",
      " 31%|███▏      | 395/1261 [01:01<02:07,  6.77it/s]"
     ]
    },
    {
     "name": "stdout",
     "output_type": "stream",
     "text": [
      "This is right after the error\n",
      "This is right after the error\n"
     ]
    },
    {
     "name": "stderr",
     "output_type": "stream",
     "text": [
      "\u001b[A\n",
      " 31%|███▏      | 396/1261 [01:01<02:08,  6.71it/s]\u001b[A\n",
      " 31%|███▏      | 397/1261 [01:01<02:08,  6.71it/s]"
     ]
    },
    {
     "name": "stdout",
     "output_type": "stream",
     "text": [
      "This is right after the error\n",
      "This is right after the error\n"
     ]
    },
    {
     "name": "stderr",
     "output_type": "stream",
     "text": [
      "\u001b[A\n",
      " 32%|███▏      | 398/1261 [01:02<02:09,  6.66it/s]\u001b[A\n",
      " 32%|███▏      | 399/1261 [01:02<02:09,  6.64it/s]"
     ]
    },
    {
     "name": "stdout",
     "output_type": "stream",
     "text": [
      "This is right after the error\n",
      "This is right after the error\n"
     ]
    },
    {
     "name": "stderr",
     "output_type": "stream",
     "text": [
      "\u001b[A\n",
      " 32%|███▏      | 400/1261 [01:02<02:10,  6.61it/s]\u001b[A\n",
      " 32%|███▏      | 401/1261 [01:02<02:09,  6.63it/s]"
     ]
    },
    {
     "name": "stdout",
     "output_type": "stream",
     "text": [
      "This is right after the error\n",
      "This is right after the error\n"
     ]
    },
    {
     "name": "stderr",
     "output_type": "stream",
     "text": [
      "\u001b[A\n",
      " 32%|███▏      | 402/1261 [01:02<02:09,  6.63it/s]\u001b[A\n",
      " 32%|███▏      | 403/1261 [01:02<02:09,  6.65it/s]"
     ]
    },
    {
     "name": "stdout",
     "output_type": "stream",
     "text": [
      "This is right after the error\n",
      "This is right after the error\n"
     ]
    },
    {
     "name": "stderr",
     "output_type": "stream",
     "text": [
      "\u001b[A\n",
      " 32%|███▏      | 404/1261 [01:02<02:09,  6.62it/s]\u001b[A\n",
      " 32%|███▏      | 405/1261 [01:03<02:09,  6.63it/s]"
     ]
    },
    {
     "name": "stdout",
     "output_type": "stream",
     "text": [
      "This is right after the error\n",
      "This is right after the error\n"
     ]
    },
    {
     "name": "stderr",
     "output_type": "stream",
     "text": [
      "\u001b[A\n",
      " 32%|███▏      | 406/1261 [01:03<02:08,  6.65it/s]\u001b[A\n",
      " 32%|███▏      | 407/1261 [01:03<02:06,  6.76it/s]"
     ]
    },
    {
     "name": "stdout",
     "output_type": "stream",
     "text": [
      "This is right after the error\n",
      "This is right after the error\n"
     ]
    },
    {
     "name": "stderr",
     "output_type": "stream",
     "text": [
      "\u001b[A\n",
      " 32%|███▏      | 408/1261 [01:03<02:07,  6.68it/s]\u001b[A\n",
      " 32%|███▏      | 409/1261 [01:03<02:06,  6.73it/s]"
     ]
    },
    {
     "name": "stdout",
     "output_type": "stream",
     "text": [
      "This is right after the error\n",
      "This is right after the error\n"
     ]
    },
    {
     "name": "stderr",
     "output_type": "stream",
     "text": [
      "\u001b[A\n",
      " 33%|███▎      | 410/1261 [01:03<02:08,  6.63it/s]\u001b[A\n",
      " 33%|███▎      | 411/1261 [01:03<02:08,  6.64it/s]"
     ]
    },
    {
     "name": "stdout",
     "output_type": "stream",
     "text": [
      "This is right after the error\n",
      "This is right after the error\n"
     ]
    },
    {
     "name": "stderr",
     "output_type": "stream",
     "text": [
      "\u001b[A\n",
      " 33%|███▎      | 412/1261 [01:04<02:10,  6.52it/s]\u001b[A\n",
      " 33%|███▎      | 413/1261 [01:04<02:09,  6.56it/s]"
     ]
    },
    {
     "name": "stdout",
     "output_type": "stream",
     "text": [
      "This is right after the error\n",
      "This is right after the error\n"
     ]
    },
    {
     "name": "stderr",
     "output_type": "stream",
     "text": [
      "\u001b[A\n",
      " 33%|███▎      | 414/1261 [01:04<02:09,  6.53it/s]\u001b[A\n",
      " 33%|███▎      | 415/1261 [01:04<02:08,  6.56it/s]"
     ]
    },
    {
     "name": "stdout",
     "output_type": "stream",
     "text": [
      "This is right after the error\n",
      "This is right after the error\n"
     ]
    },
    {
     "name": "stderr",
     "output_type": "stream",
     "text": [
      "\u001b[A\n",
      " 33%|███▎      | 416/1261 [01:04<02:09,  6.52it/s]\u001b[A\n",
      " 33%|███▎      | 417/1261 [01:04<02:10,  6.46it/s]"
     ]
    },
    {
     "name": "stdout",
     "output_type": "stream",
     "text": [
      "This is right after the error\n",
      "This is right after the error\n"
     ]
    },
    {
     "name": "stderr",
     "output_type": "stream",
     "text": [
      "\u001b[A\n",
      " 33%|███▎      | 418/1261 [01:05<02:11,  6.41it/s]\u001b[A\n",
      " 33%|███▎      | 419/1261 [01:05<02:11,  6.42it/s]"
     ]
    },
    {
     "name": "stdout",
     "output_type": "stream",
     "text": [
      "This is right after the error\n",
      "This is right after the error\n"
     ]
    },
    {
     "name": "stderr",
     "output_type": "stream",
     "text": [
      "\u001b[A\n",
      " 33%|███▎      | 420/1261 [01:05<02:10,  6.46it/s]\u001b[A\n",
      " 33%|███▎      | 421/1261 [01:05<02:07,  6.58it/s]"
     ]
    },
    {
     "name": "stdout",
     "output_type": "stream",
     "text": [
      "This is right after the error\n",
      "This is right after the error\n"
     ]
    },
    {
     "name": "stderr",
     "output_type": "stream",
     "text": [
      "\u001b[A\n",
      " 33%|███▎      | 422/1261 [01:05<02:23,  5.86it/s]\u001b[A\n",
      " 34%|███▎      | 423/1261 [01:05<02:16,  6.14it/s]"
     ]
    },
    {
     "name": "stdout",
     "output_type": "stream",
     "text": [
      "This is right after the error\n",
      "This is right after the error\n"
     ]
    },
    {
     "name": "stderr",
     "output_type": "stream",
     "text": [
      "\u001b[A\n",
      " 34%|███▎      | 424/1261 [01:06<02:13,  6.27it/s]\u001b[A\n",
      " 34%|███▎      | 425/1261 [01:06<02:11,  6.38it/s]"
     ]
    },
    {
     "name": "stdout",
     "output_type": "stream",
     "text": [
      "This is right after the error\n",
      "This is right after the error\n"
     ]
    },
    {
     "name": "stderr",
     "output_type": "stream",
     "text": [
      "\u001b[A\n",
      " 34%|███▍      | 426/1261 [01:06<02:10,  6.42it/s]\u001b[A\n",
      " 34%|███▍      | 427/1261 [01:06<02:08,  6.47it/s]"
     ]
    },
    {
     "name": "stdout",
     "output_type": "stream",
     "text": [
      "This is right after the error\n",
      "This is right after the error\n"
     ]
    },
    {
     "name": "stderr",
     "output_type": "stream",
     "text": [
      "\u001b[A\n",
      " 34%|███▍      | 428/1261 [01:06<02:08,  6.48it/s]\u001b[A\n",
      " 34%|███▍      | 429/1261 [01:06<02:07,  6.54it/s]"
     ]
    },
    {
     "name": "stdout",
     "output_type": "stream",
     "text": [
      "This is right after the error\n",
      "This is right after the error\n"
     ]
    },
    {
     "name": "stderr",
     "output_type": "stream",
     "text": [
      "\u001b[A\n",
      " 34%|███▍      | 430/1261 [01:06<02:06,  6.55it/s]\u001b[A\n",
      " 34%|███▍      | 431/1261 [01:07<02:05,  6.61it/s]"
     ]
    },
    {
     "name": "stdout",
     "output_type": "stream",
     "text": [
      "This is right after the error\n",
      "This is right after the error\n"
     ]
    },
    {
     "name": "stderr",
     "output_type": "stream",
     "text": [
      "\u001b[A\n",
      " 34%|███▍      | 432/1261 [01:07<02:05,  6.59it/s]\u001b[A\n",
      " 34%|███▍      | 433/1261 [01:07<02:04,  6.65it/s]"
     ]
    },
    {
     "name": "stdout",
     "output_type": "stream",
     "text": [
      "This is right after the error\n",
      "This is right after the error\n"
     ]
    },
    {
     "name": "stderr",
     "output_type": "stream",
     "text": [
      "\u001b[A\n",
      " 34%|███▍      | 434/1261 [01:07<02:06,  6.56it/s]\u001b[A\n",
      " 34%|███▍      | 435/1261 [01:07<02:06,  6.54it/s]"
     ]
    },
    {
     "name": "stdout",
     "output_type": "stream",
     "text": [
      "This is right after the error\n",
      "This is right after the error\n"
     ]
    },
    {
     "name": "stderr",
     "output_type": "stream",
     "text": [
      "\u001b[A\n",
      " 35%|███▍      | 436/1261 [01:07<02:05,  6.56it/s]\u001b[A\n",
      " 35%|███▍      | 437/1261 [01:07<02:04,  6.60it/s]"
     ]
    },
    {
     "name": "stdout",
     "output_type": "stream",
     "text": [
      "This is right after the error\n",
      "This is right after the error\n"
     ]
    },
    {
     "name": "stderr",
     "output_type": "stream",
     "text": [
      "\u001b[A\n",
      " 35%|███▍      | 438/1261 [01:08<02:05,  6.57it/s]\u001b[A\n",
      " 35%|███▍      | 439/1261 [01:08<02:03,  6.65it/s]"
     ]
    },
    {
     "name": "stdout",
     "output_type": "stream",
     "text": [
      "This is right after the error\n",
      "This is right after the error\n"
     ]
    },
    {
     "name": "stderr",
     "output_type": "stream",
     "text": [
      "\u001b[A\n",
      " 35%|███▍      | 440/1261 [01:08<02:03,  6.63it/s]\u001b[A\n",
      " 35%|███▍      | 441/1261 [01:08<02:01,  6.74it/s]"
     ]
    },
    {
     "name": "stdout",
     "output_type": "stream",
     "text": [
      "This is right after the error\n",
      "This is right after the error\n"
     ]
    },
    {
     "name": "stderr",
     "output_type": "stream",
     "text": [
      "\u001b[A\n",
      " 35%|███▌      | 442/1261 [01:08<02:02,  6.66it/s]\u001b[A\n",
      " 35%|███▌      | 443/1261 [01:08<02:02,  6.67it/s]"
     ]
    },
    {
     "name": "stdout",
     "output_type": "stream",
     "text": [
      "This is right after the error\n",
      "This is right after the error\n"
     ]
    },
    {
     "name": "stderr",
     "output_type": "stream",
     "text": [
      "\u001b[A\n",
      " 35%|███▌      | 444/1261 [01:09<02:04,  6.54it/s]\u001b[A\n",
      " 35%|███▌      | 445/1261 [01:09<02:05,  6.52it/s]"
     ]
    },
    {
     "name": "stdout",
     "output_type": "stream",
     "text": [
      "This is right after the error\n",
      "This is right after the error\n"
     ]
    },
    {
     "name": "stderr",
     "output_type": "stream",
     "text": [
      "\u001b[A\n",
      " 35%|███▌      | 446/1261 [01:09<02:06,  6.46it/s]\u001b[A\n",
      " 35%|███▌      | 447/1261 [01:09<02:04,  6.53it/s]"
     ]
    },
    {
     "name": "stdout",
     "output_type": "stream",
     "text": [
      "This is right after the error\n",
      "This is right after the error\n"
     ]
    },
    {
     "name": "stderr",
     "output_type": "stream",
     "text": [
      "\u001b[A\n",
      " 36%|███▌      | 448/1261 [01:09<02:05,  6.48it/s]\u001b[A\n",
      " 36%|███▌      | 449/1261 [01:09<02:04,  6.50it/s]"
     ]
    },
    {
     "name": "stdout",
     "output_type": "stream",
     "text": [
      "This is right after the error\n",
      "This is right after the error\n"
     ]
    },
    {
     "name": "stderr",
     "output_type": "stream",
     "text": [
      "\u001b[A\n",
      " 36%|███▌      | 450/1261 [01:09<02:04,  6.49it/s]\u001b[A\n",
      " 36%|███▌      | 451/1261 [01:10<02:02,  6.61it/s]"
     ]
    },
    {
     "name": "stdout",
     "output_type": "stream",
     "text": [
      "This is right after the error\n",
      "This is right after the error\n"
     ]
    },
    {
     "name": "stderr",
     "output_type": "stream",
     "text": [
      "\u001b[A\n",
      " 36%|███▌      | 452/1261 [01:10<02:03,  6.54it/s]\u001b[A\n",
      " 36%|███▌      | 453/1261 [01:10<02:01,  6.65it/s]"
     ]
    },
    {
     "name": "stdout",
     "output_type": "stream",
     "text": [
      "This is right after the error\n",
      "This is right after the error\n"
     ]
    },
    {
     "name": "stderr",
     "output_type": "stream",
     "text": [
      "\u001b[A\n",
      " 36%|███▌      | 454/1261 [01:10<02:02,  6.58it/s]\u001b[A\n",
      " 36%|███▌      | 455/1261 [01:10<02:01,  6.62it/s]"
     ]
    },
    {
     "name": "stdout",
     "output_type": "stream",
     "text": [
      "This is right after the error\n",
      "This is right after the error\n"
     ]
    },
    {
     "name": "stderr",
     "output_type": "stream",
     "text": [
      "\u001b[A\n",
      " 36%|███▌      | 456/1261 [01:10<02:02,  6.59it/s]\u001b[A\n",
      " 36%|███▌      | 457/1261 [01:11<02:01,  6.60it/s]"
     ]
    },
    {
     "name": "stdout",
     "output_type": "stream",
     "text": [
      "This is right after the error\n",
      "This is right after the error\n"
     ]
    },
    {
     "name": "stderr",
     "output_type": "stream",
     "text": [
      "\u001b[A\n",
      " 36%|███▋      | 458/1261 [01:11<02:02,  6.55it/s]\u001b[A\n",
      " 36%|███▋      | 459/1261 [01:11<02:03,  6.47it/s]"
     ]
    },
    {
     "name": "stdout",
     "output_type": "stream",
     "text": [
      "This is right after the error\n",
      "This is right after the error\n"
     ]
    },
    {
     "name": "stderr",
     "output_type": "stream",
     "text": [
      "\u001b[A\n",
      " 36%|███▋      | 460/1261 [01:11<02:03,  6.50it/s]\u001b[A\n",
      " 37%|███▋      | 461/1261 [01:11<02:01,  6.58it/s]"
     ]
    },
    {
     "name": "stdout",
     "output_type": "stream",
     "text": [
      "This is right after the error\n",
      "This is right after the error\n"
     ]
    },
    {
     "name": "stderr",
     "output_type": "stream",
     "text": [
      "\u001b[A\n",
      " 37%|███▋      | 462/1261 [01:11<02:00,  6.63it/s]\u001b[A\n",
      " 37%|███▋      | 463/1261 [01:11<02:01,  6.59it/s]"
     ]
    },
    {
     "name": "stdout",
     "output_type": "stream",
     "text": [
      "This is right after the error\n",
      "This is right after the error\n"
     ]
    },
    {
     "name": "stderr",
     "output_type": "stream",
     "text": [
      "\u001b[A\n",
      " 37%|███▋      | 464/1261 [01:12<02:00,  6.60it/s]\u001b[A\n",
      " 37%|███▋      | 465/1261 [01:12<02:00,  6.59it/s]"
     ]
    },
    {
     "name": "stdout",
     "output_type": "stream",
     "text": [
      "This is right after the error\n",
      "This is right after the error\n"
     ]
    },
    {
     "name": "stderr",
     "output_type": "stream",
     "text": [
      "\u001b[A\n",
      " 37%|███▋      | 466/1261 [01:12<01:59,  6.67it/s]\u001b[A\n",
      " 37%|███▋      | 467/1261 [01:12<01:58,  6.68it/s]"
     ]
    },
    {
     "name": "stdout",
     "output_type": "stream",
     "text": [
      "This is right after the error\n",
      "This is right after the error\n"
     ]
    },
    {
     "name": "stderr",
     "output_type": "stream",
     "text": [
      "\u001b[A\n",
      " 37%|███▋      | 468/1261 [01:12<01:57,  6.74it/s]\u001b[A\n",
      " 37%|███▋      | 469/1261 [01:12<01:59,  6.65it/s]"
     ]
    },
    {
     "name": "stdout",
     "output_type": "stream",
     "text": [
      "This is right after the error\n",
      "This is right after the error\n"
     ]
    },
    {
     "name": "stderr",
     "output_type": "stream",
     "text": [
      "\u001b[A\n",
      " 37%|███▋      | 470/1261 [01:12<01:58,  6.68it/s]\u001b[A\n",
      " 37%|███▋      | 471/1261 [01:13<01:58,  6.66it/s]"
     ]
    },
    {
     "name": "stdout",
     "output_type": "stream",
     "text": [
      "This is right after the error\n",
      "This is right after the error\n"
     ]
    },
    {
     "name": "stderr",
     "output_type": "stream",
     "text": [
      "\u001b[A\n",
      " 37%|███▋      | 472/1261 [01:13<02:00,  6.56it/s]\u001b[A\n",
      " 38%|███▊      | 473/1261 [01:13<01:59,  6.61it/s]"
     ]
    },
    {
     "name": "stdout",
     "output_type": "stream",
     "text": [
      "This is right after the error\n",
      "This is right after the error\n"
     ]
    },
    {
     "name": "stderr",
     "output_type": "stream",
     "text": [
      "\u001b[A\n",
      " 38%|███▊      | 474/1261 [01:13<01:59,  6.57it/s]\u001b[A\n",
      " 38%|███▊      | 475/1261 [01:13<02:00,  6.52it/s]"
     ]
    },
    {
     "name": "stdout",
     "output_type": "stream",
     "text": [
      "This is right after the error\n",
      "This is right after the error\n"
     ]
    },
    {
     "name": "stderr",
     "output_type": "stream",
     "text": [
      "\u001b[A\n",
      " 38%|███▊      | 476/1261 [01:13<02:00,  6.52it/s]\u001b[A\n",
      " 38%|███▊      | 477/1261 [01:14<02:00,  6.48it/s]"
     ]
    },
    {
     "name": "stdout",
     "output_type": "stream",
     "text": [
      "This is right after the error\n",
      "This is right after the error\n"
     ]
    },
    {
     "name": "stderr",
     "output_type": "stream",
     "text": [
      "\u001b[A\n",
      " 38%|███▊      | 478/1261 [01:14<01:59,  6.57it/s]\u001b[A\n",
      " 38%|███▊      | 479/1261 [01:14<01:58,  6.58it/s]"
     ]
    },
    {
     "name": "stdout",
     "output_type": "stream",
     "text": [
      "This is right after the error\n",
      "This is right after the error\n"
     ]
    },
    {
     "name": "stderr",
     "output_type": "stream",
     "text": [
      "\u001b[A\n",
      " 38%|███▊      | 480/1261 [01:14<01:57,  6.62it/s]\u001b[A\n",
      " 38%|███▊      | 481/1261 [01:14<01:57,  6.64it/s]"
     ]
    },
    {
     "name": "stdout",
     "output_type": "stream",
     "text": [
      "This is right after the error\n",
      "This is right after the error\n"
     ]
    },
    {
     "name": "stderr",
     "output_type": "stream",
     "text": [
      "\u001b[A\n",
      " 38%|███▊      | 482/1261 [01:14<01:56,  6.67it/s]\u001b[A\n",
      " 38%|███▊      | 483/1261 [01:14<01:58,  6.58it/s]"
     ]
    },
    {
     "name": "stdout",
     "output_type": "stream",
     "text": [
      "This is right after the error\n",
      "This is right after the error\n"
     ]
    },
    {
     "name": "stderr",
     "output_type": "stream",
     "text": [
      "\u001b[A\n",
      " 38%|███▊      | 484/1261 [01:15<01:58,  6.58it/s]\u001b[A\n",
      " 38%|███▊      | 485/1261 [01:15<01:58,  6.57it/s]"
     ]
    },
    {
     "name": "stdout",
     "output_type": "stream",
     "text": [
      "This is right after the error\n",
      "This is right after the error\n"
     ]
    },
    {
     "name": "stderr",
     "output_type": "stream",
     "text": [
      "\u001b[A\n",
      " 39%|███▊      | 486/1261 [01:15<01:59,  6.48it/s]\u001b[A\n",
      " 39%|███▊      | 487/1261 [01:15<01:59,  6.46it/s]"
     ]
    },
    {
     "name": "stdout",
     "output_type": "stream",
     "text": [
      "This is right after the error\n",
      "This is right after the error\n"
     ]
    },
    {
     "name": "stderr",
     "output_type": "stream",
     "text": [
      "\u001b[A\n",
      " 39%|███▊      | 488/1261 [01:15<01:59,  6.45it/s]\u001b[A\n",
      " 39%|███▉      | 489/1261 [01:15<02:00,  6.42it/s]"
     ]
    },
    {
     "name": "stdout",
     "output_type": "stream",
     "text": [
      "This is right after the error\n",
      "This is right after the error\n"
     ]
    },
    {
     "name": "stderr",
     "output_type": "stream",
     "text": [
      "\u001b[A\n",
      " 39%|███▉      | 490/1261 [01:16<02:00,  6.41it/s]\u001b[A"
     ]
    },
    {
     "name": "stdout",
     "output_type": "stream",
     "text": [
      "This is right after the error\n",
      "This is right after the error\n"
     ]
    },
    {
     "name": "stderr",
     "output_type": "stream",
     "text": [
      "\n",
      " 39%|███▉      | 491/1261 [01:16<02:03,  6.24it/s]\u001b[A\n",
      " 39%|███▉      | 492/1261 [01:16<02:03,  6.22it/s]\u001b[A\n",
      " 39%|███▉      | 493/1261 [01:16<02:04,  6.17it/s]"
     ]
    },
    {
     "name": "stdout",
     "output_type": "stream",
     "text": [
      "This is right after the error\n",
      "This is right after the error\n"
     ]
    },
    {
     "name": "stderr",
     "output_type": "stream",
     "text": [
      "\u001b[A\n",
      " 39%|███▉      | 494/1261 [01:16<02:02,  6.24it/s]\u001b[A\n",
      " 39%|███▉      | 495/1261 [01:16<02:02,  6.24it/s]"
     ]
    },
    {
     "name": "stdout",
     "output_type": "stream",
     "text": [
      "This is right after the error\n",
      "This is right after the error\n"
     ]
    },
    {
     "name": "stderr",
     "output_type": "stream",
     "text": [
      "\u001b[A\n",
      " 39%|███▉      | 496/1261 [01:17<02:03,  6.20it/s]\u001b[A\n",
      " 39%|███▉      | 497/1261 [01:17<02:04,  6.15it/s]"
     ]
    },
    {
     "name": "stdout",
     "output_type": "stream",
     "text": [
      "This is right after the error\n",
      "This is right after the error\n"
     ]
    },
    {
     "name": "stderr",
     "output_type": "stream",
     "text": [
      "\u001b[A\n",
      " 39%|███▉      | 498/1261 [01:17<02:04,  6.14it/s]\u001b[A"
     ]
    },
    {
     "name": "stdout",
     "output_type": "stream",
     "text": [
      "This is right after the error\n",
      "This is right after the error\n"
     ]
    },
    {
     "name": "stderr",
     "output_type": "stream",
     "text": [
      "\n",
      " 40%|███▉      | 499/1261 [01:17<02:05,  6.08it/s]\u001b[A\n",
      " 40%|███▉      | 500/1261 [01:17<02:05,  6.07it/s]\u001b[A\n",
      " 40%|███▉      | 501/1261 [01:17<02:04,  6.10it/s]"
     ]
    },
    {
     "name": "stdout",
     "output_type": "stream",
     "text": [
      "This is right after the error\n",
      "This is right after the error\n"
     ]
    },
    {
     "name": "stderr",
     "output_type": "stream",
     "text": [
      "\u001b[A\n",
      " 40%|███▉      | 502/1261 [01:18<02:02,  6.21it/s]\u001b[A\n",
      " 40%|███▉      | 503/1261 [01:18<02:02,  6.20it/s]"
     ]
    },
    {
     "name": "stdout",
     "output_type": "stream",
     "text": [
      "This is right after the error\n",
      "This is right after the error\n"
     ]
    },
    {
     "name": "stderr",
     "output_type": "stream",
     "text": [
      "\u001b[A\n",
      " 40%|███▉      | 504/1261 [01:18<02:03,  6.13it/s]\u001b[A"
     ]
    },
    {
     "name": "stdout",
     "output_type": "stream",
     "text": [
      "This is right after the error\n",
      "This is right after the error\n"
     ]
    },
    {
     "name": "stderr",
     "output_type": "stream",
     "text": [
      "\n",
      " 40%|████      | 505/1261 [01:18<02:04,  6.07it/s]\u001b[A\n",
      " 40%|████      | 506/1261 [01:18<02:04,  6.04it/s]\u001b[A\n",
      " 40%|████      | 507/1261 [01:18<02:02,  6.14it/s]"
     ]
    },
    {
     "name": "stdout",
     "output_type": "stream",
     "text": [
      "This is right after the error\n",
      "This is right after the error\n"
     ]
    },
    {
     "name": "stderr",
     "output_type": "stream",
     "text": [
      "\u001b[A\n",
      " 40%|████      | 508/1261 [01:19<02:04,  6.07it/s]\u001b[A"
     ]
    },
    {
     "name": "stdout",
     "output_type": "stream",
     "text": [
      "This is right after the error\n",
      "This is right after the error\n"
     ]
    },
    {
     "name": "stderr",
     "output_type": "stream",
     "text": [
      "\n",
      " 40%|████      | 509/1261 [01:19<02:04,  6.02it/s]\u001b[A\n",
      " 40%|████      | 510/1261 [01:19<02:04,  6.01it/s]\u001b[A"
     ]
    },
    {
     "name": "stdout",
     "output_type": "stream",
     "text": [
      "This is right after the error\n",
      "This is right after the error\n"
     ]
    },
    {
     "name": "stderr",
     "output_type": "stream",
     "text": [
      "\n",
      " 41%|████      | 511/1261 [01:19<02:05,  5.96it/s]\u001b[A\n",
      " 41%|████      | 512/1261 [01:19<02:06,  5.91it/s]\u001b[A"
     ]
    },
    {
     "name": "stdout",
     "output_type": "stream",
     "text": [
      "This is right after the error\n",
      "This is right after the error\n"
     ]
    },
    {
     "name": "stderr",
     "output_type": "stream",
     "text": [
      "\n",
      " 41%|████      | 513/1261 [01:19<02:08,  5.82it/s]\u001b[A\n",
      " 41%|████      | 514/1261 [01:20<02:08,  5.84it/s]\u001b[A\n",
      " 41%|████      | 515/1261 [01:20<02:05,  5.93it/s]"
     ]
    },
    {
     "name": "stdout",
     "output_type": "stream",
     "text": [
      "This is right after the error\n",
      "This is right after the error\n"
     ]
    },
    {
     "name": "stderr",
     "output_type": "stream",
     "text": [
      "\u001b[A\n",
      " 41%|████      | 516/1261 [01:20<02:05,  5.91it/s]\u001b[A"
     ]
    },
    {
     "name": "stdout",
     "output_type": "stream",
     "text": [
      "This is right after the error\n",
      "This is right after the error\n"
     ]
    },
    {
     "name": "stderr",
     "output_type": "stream",
     "text": [
      "\n",
      " 41%|████      | 517/1261 [01:20<02:06,  5.90it/s]\u001b[A\n",
      " 41%|████      | 518/1261 [01:20<02:05,  5.90it/s]\u001b[A"
     ]
    },
    {
     "name": "stdout",
     "output_type": "stream",
     "text": [
      "This is right after the error\n",
      "This is right after the error\n"
     ]
    },
    {
     "name": "stderr",
     "output_type": "stream",
     "text": [
      "\n",
      " 41%|████      | 519/1261 [01:20<02:06,  5.85it/s]\u001b[A\n",
      " 41%|████      | 520/1261 [01:21<02:05,  5.90it/s]\u001b[A"
     ]
    },
    {
     "name": "stdout",
     "output_type": "stream",
     "text": [
      "This is right after the error\n",
      "This is right after the error\n"
     ]
    },
    {
     "name": "stderr",
     "output_type": "stream",
     "text": [
      "\n",
      " 41%|████▏     | 521/1261 [01:21<02:06,  5.84it/s]\u001b[A\n",
      " 41%|████▏     | 522/1261 [01:21<02:06,  5.85it/s]\u001b[A"
     ]
    },
    {
     "name": "stdout",
     "output_type": "stream",
     "text": [
      "This is right after the error\n",
      "This is right after the error\n"
     ]
    },
    {
     "name": "stderr",
     "output_type": "stream",
     "text": [
      "\n",
      " 41%|████▏     | 523/1261 [01:21<02:06,  5.82it/s]\u001b[A\n",
      " 42%|████▏     | 524/1261 [01:21<02:06,  5.82it/s]\u001b[A"
     ]
    },
    {
     "name": "stdout",
     "output_type": "stream",
     "text": [
      "This is right after the error\n",
      "This is right after the error\n"
     ]
    },
    {
     "name": "stderr",
     "output_type": "stream",
     "text": [
      "\n",
      " 42%|████▏     | 525/1261 [01:21<02:05,  5.85it/s]\u001b[A\n",
      " 42%|████▏     | 526/1261 [01:22<02:04,  5.92it/s]\u001b[A"
     ]
    },
    {
     "name": "stdout",
     "output_type": "stream",
     "text": [
      "This is right after the error\n",
      "This is right after the error\n"
     ]
    },
    {
     "name": "stderr",
     "output_type": "stream",
     "text": [
      "\n",
      " 42%|████▏     | 527/1261 [01:22<02:04,  5.89it/s]\u001b[A\n",
      " 42%|████▏     | 528/1261 [01:22<02:03,  5.96it/s]\u001b[A"
     ]
    },
    {
     "name": "stdout",
     "output_type": "stream",
     "text": [
      "This is right after the error\n",
      "This is right after the error\n"
     ]
    },
    {
     "name": "stderr",
     "output_type": "stream",
     "text": [
      "\n",
      " 42%|████▏     | 529/1261 [01:22<02:03,  5.90it/s]\u001b[A\n",
      " 42%|████▏     | 530/1261 [01:22<02:03,  5.91it/s]\u001b[A"
     ]
    },
    {
     "name": "stdout",
     "output_type": "stream",
     "text": [
      "This is right after the error\n",
      "This is right after the error\n"
     ]
    },
    {
     "name": "stderr",
     "output_type": "stream",
     "text": [
      "\n",
      " 42%|████▏     | 531/1261 [01:22<02:02,  5.94it/s]\u001b[A\n",
      " 42%|████▏     | 532/1261 [01:23<02:03,  5.92it/s]\u001b[A"
     ]
    },
    {
     "name": "stdout",
     "output_type": "stream",
     "text": [
      "This is right after the error\n",
      "This is right after the error\n"
     ]
    },
    {
     "name": "stderr",
     "output_type": "stream",
     "text": [
      "\n",
      " 42%|████▏     | 533/1261 [01:23<02:03,  5.89it/s]\u001b[A\n",
      " 42%|████▏     | 534/1261 [01:23<02:02,  5.93it/s]\u001b[A"
     ]
    },
    {
     "name": "stdout",
     "output_type": "stream",
     "text": [
      "This is right after the error\n",
      "This is right after the error\n"
     ]
    },
    {
     "name": "stderr",
     "output_type": "stream",
     "text": [
      "\n",
      " 42%|████▏     | 535/1261 [01:23<02:02,  5.94it/s]\u001b[A\n",
      " 43%|████▎     | 536/1261 [01:23<02:00,  6.03it/s]\u001b[A\n",
      " 43%|████▎     | 537/1261 [01:23<01:58,  6.09it/s]"
     ]
    },
    {
     "name": "stdout",
     "output_type": "stream",
     "text": [
      "This is right after the error\n",
      "This is right after the error\n"
     ]
    },
    {
     "name": "stderr",
     "output_type": "stream",
     "text": [
      "\u001b[A\n",
      " 43%|████▎     | 538/1261 [01:24<01:59,  6.04it/s]\u001b[A"
     ]
    },
    {
     "name": "stdout",
     "output_type": "stream",
     "text": [
      "This is right after the error\n",
      "This is right after the error\n"
     ]
    },
    {
     "name": "stderr",
     "output_type": "stream",
     "text": [
      "\n",
      " 43%|████▎     | 539/1261 [01:24<02:08,  5.61it/s]\u001b[A\n",
      " 43%|████▎     | 540/1261 [01:24<02:12,  5.45it/s]\u001b[A\n",
      " 43%|████▎     | 541/1261 [01:24<02:07,  5.65it/s]"
     ]
    },
    {
     "name": "stdout",
     "output_type": "stream",
     "text": [
      "This is right after the error\n",
      "This is right after the error\n"
     ]
    },
    {
     "name": "stderr",
     "output_type": "stream",
     "text": [
      "\u001b[A\n",
      " 43%|████▎     | 542/1261 [01:24<02:03,  5.81it/s]\u001b[A"
     ]
    },
    {
     "name": "stdout",
     "output_type": "stream",
     "text": [
      "This is right after the error\n",
      "This is right after the error\n"
     ]
    },
    {
     "name": "stderr",
     "output_type": "stream",
     "text": [
      "\n",
      " 43%|████▎     | 543/1261 [01:24<02:03,  5.80it/s]\u001b[A\n",
      " 43%|████▎     | 544/1261 [01:25<02:01,  5.88it/s]\u001b[A\n",
      " 43%|████▎     | 545/1261 [01:25<01:59,  6.00it/s]"
     ]
    },
    {
     "name": "stdout",
     "output_type": "stream",
     "text": [
      "This is right after the error\n",
      "This is right after the error\n"
     ]
    },
    {
     "name": "stderr",
     "output_type": "stream",
     "text": [
      "\u001b[A\n",
      " 43%|████▎     | 546/1261 [01:25<01:58,  6.02it/s]\u001b[A\n",
      " 43%|████▎     | 547/1261 [01:25<01:57,  6.10it/s]"
     ]
    },
    {
     "name": "stdout",
     "output_type": "stream",
     "text": [
      "This is right after the error\n",
      "This is right after the error\n"
     ]
    },
    {
     "name": "stderr",
     "output_type": "stream",
     "text": [
      "\u001b[A\n",
      " 43%|████▎     | 548/1261 [01:25<01:57,  6.08it/s]\u001b[A"
     ]
    },
    {
     "name": "stdout",
     "output_type": "stream",
     "text": [
      "This is right after the error\n",
      "This is right after the error\n"
     ]
    },
    {
     "name": "stderr",
     "output_type": "stream",
     "text": [
      "\n",
      " 44%|████▎     | 549/1261 [01:25<01:57,  6.05it/s]\u001b[A\n",
      " 44%|████▎     | 550/1261 [01:26<01:57,  6.04it/s]\u001b[A\n",
      " 44%|████▎     | 551/1261 [01:26<01:55,  6.15it/s]"
     ]
    },
    {
     "name": "stdout",
     "output_type": "stream",
     "text": [
      "This is right after the error\n",
      "This is right after the error\n"
     ]
    },
    {
     "name": "stderr",
     "output_type": "stream",
     "text": [
      "\u001b[A\n",
      " 44%|████▍     | 552/1261 [01:26<01:54,  6.20it/s]\u001b[A\n",
      " 44%|████▍     | 553/1261 [01:26<01:54,  6.19it/s]"
     ]
    },
    {
     "name": "stdout",
     "output_type": "stream",
     "text": [
      "This is right after the error\n",
      "This is right after the error\n"
     ]
    },
    {
     "name": "stderr",
     "output_type": "stream",
     "text": [
      "\u001b[A\n",
      " 44%|████▍     | 554/1261 [01:26<01:54,  6.19it/s]\u001b[A\n",
      " 44%|████▍     | 555/1261 [01:26<01:54,  6.18it/s]"
     ]
    },
    {
     "name": "stdout",
     "output_type": "stream",
     "text": [
      "This is right after the error\n",
      "This is right after the error\n"
     ]
    },
    {
     "name": "stderr",
     "output_type": "stream",
     "text": [
      "\u001b[A\n",
      " 44%|████▍     | 556/1261 [01:27<01:52,  6.25it/s]\u001b[A\n",
      " 44%|████▍     | 557/1261 [01:27<01:52,  6.28it/s]"
     ]
    },
    {
     "name": "stdout",
     "output_type": "stream",
     "text": [
      "This is right after the error\n",
      "This is right after the error\n"
     ]
    },
    {
     "name": "stderr",
     "output_type": "stream",
     "text": [
      "\u001b[A\n",
      " 44%|████▍     | 558/1261 [01:27<01:50,  6.38it/s]\u001b[A\n",
      " 44%|████▍     | 559/1261 [01:27<01:49,  6.43it/s]"
     ]
    },
    {
     "name": "stdout",
     "output_type": "stream",
     "text": [
      "This is right after the error\n",
      "This is right after the error\n"
     ]
    },
    {
     "name": "stderr",
     "output_type": "stream",
     "text": [
      "\u001b[A\n",
      " 44%|████▍     | 560/1261 [01:27<01:47,  6.51it/s]\u001b[A\n",
      " 44%|████▍     | 561/1261 [01:27<01:46,  6.59it/s]"
     ]
    },
    {
     "name": "stdout",
     "output_type": "stream",
     "text": [
      "This is right after the error\n",
      "This is right after the error\n"
     ]
    },
    {
     "name": "stderr",
     "output_type": "stream",
     "text": [
      "\u001b[A\n",
      " 45%|████▍     | 562/1261 [01:27<01:45,  6.61it/s]\u001b[A\n",
      " 45%|████▍     | 563/1261 [01:28<01:45,  6.59it/s]"
     ]
    },
    {
     "name": "stdout",
     "output_type": "stream",
     "text": [
      "This is right after the error\n",
      "This is right after the error\n"
     ]
    },
    {
     "name": "stderr",
     "output_type": "stream",
     "text": [
      "\u001b[A\n",
      " 45%|████▍     | 564/1261 [01:28<01:44,  6.66it/s]\u001b[A\n",
      " 45%|████▍     | 565/1261 [01:28<01:45,  6.62it/s]"
     ]
    },
    {
     "name": "stdout",
     "output_type": "stream",
     "text": [
      "This is right after the error\n",
      "This is right after the error\n"
     ]
    },
    {
     "name": "stderr",
     "output_type": "stream",
     "text": [
      "\u001b[A\n",
      " 45%|████▍     | 566/1261 [01:28<01:45,  6.57it/s]\u001b[A\n",
      " 45%|████▍     | 567/1261 [01:28<01:46,  6.51it/s]"
     ]
    },
    {
     "name": "stdout",
     "output_type": "stream",
     "text": [
      "This is right after the error\n",
      "This is right after the error\n"
     ]
    },
    {
     "name": "stderr",
     "output_type": "stream",
     "text": [
      "\u001b[A\n",
      " 45%|████▌     | 568/1261 [01:28<01:46,  6.48it/s]\u001b[A\n",
      " 45%|████▌     | 569/1261 [01:29<01:47,  6.44it/s]"
     ]
    },
    {
     "name": "stdout",
     "output_type": "stream",
     "text": [
      "This is right after the error\n",
      "This is right after the error\n"
     ]
    },
    {
     "name": "stderr",
     "output_type": "stream",
     "text": [
      "\u001b[A\n",
      " 45%|████▌     | 570/1261 [01:29<01:46,  6.50it/s]\u001b[A\n",
      " 45%|████▌     | 571/1261 [01:29<01:45,  6.57it/s]"
     ]
    },
    {
     "name": "stdout",
     "output_type": "stream",
     "text": [
      "This is right after the error\n",
      "This is right after the error\n"
     ]
    },
    {
     "name": "stderr",
     "output_type": "stream",
     "text": [
      "\u001b[A\n",
      " 45%|████▌     | 572/1261 [01:29<01:43,  6.65it/s]\u001b[A\n",
      " 45%|████▌     | 573/1261 [01:29<01:42,  6.74it/s]"
     ]
    },
    {
     "name": "stdout",
     "output_type": "stream",
     "text": [
      "This is right after the error\n",
      "This is right after the error\n"
     ]
    },
    {
     "name": "stderr",
     "output_type": "stream",
     "text": [
      "\u001b[A\n",
      " 46%|████▌     | 574/1261 [01:29<01:42,  6.71it/s]\u001b[A\n",
      " 46%|████▌     | 575/1261 [01:29<01:42,  6.69it/s]"
     ]
    },
    {
     "name": "stdout",
     "output_type": "stream",
     "text": [
      "This is right after the error\n",
      "This is right after the error\n"
     ]
    },
    {
     "name": "stderr",
     "output_type": "stream",
     "text": [
      "\u001b[A\n",
      " 46%|████▌     | 576/1261 [01:30<01:42,  6.70it/s]\u001b[A\n",
      " 46%|████▌     | 577/1261 [01:30<01:41,  6.71it/s]"
     ]
    },
    {
     "name": "stdout",
     "output_type": "stream",
     "text": [
      "This is right after the error\n",
      "This is right after the error\n"
     ]
    },
    {
     "name": "stderr",
     "output_type": "stream",
     "text": [
      "\u001b[A\n",
      " 46%|████▌     | 578/1261 [01:30<01:41,  6.74it/s]\u001b[A\n",
      " 46%|████▌     | 579/1261 [01:30<01:42,  6.63it/s]"
     ]
    },
    {
     "name": "stdout",
     "output_type": "stream",
     "text": [
      "This is right after the error\n",
      "This is right after the error\n"
     ]
    },
    {
     "name": "stderr",
     "output_type": "stream",
     "text": [
      "\u001b[A\n",
      " 46%|████▌     | 580/1261 [01:30<01:41,  6.72it/s]\u001b[A\n",
      " 46%|████▌     | 581/1261 [01:30<01:42,  6.64it/s]"
     ]
    },
    {
     "name": "stdout",
     "output_type": "stream",
     "text": [
      "This is right after the error\n",
      "This is right after the error\n"
     ]
    },
    {
     "name": "stderr",
     "output_type": "stream",
     "text": [
      "\u001b[A\n",
      " 46%|████▌     | 582/1261 [01:30<01:41,  6.67it/s]\u001b[A\n",
      " 46%|████▌     | 583/1261 [01:31<01:41,  6.67it/s]"
     ]
    },
    {
     "name": "stdout",
     "output_type": "stream",
     "text": [
      "This is right after the error\n",
      "This is right after the error\n"
     ]
    },
    {
     "name": "stderr",
     "output_type": "stream",
     "text": [
      "\u001b[A\n",
      " 46%|████▋     | 584/1261 [01:31<01:43,  6.52it/s]\u001b[A\n",
      " 46%|████▋     | 585/1261 [01:31<01:44,  6.46it/s]"
     ]
    },
    {
     "name": "stdout",
     "output_type": "stream",
     "text": [
      "This is right after the error\n",
      "This is right after the error\n"
     ]
    },
    {
     "name": "stderr",
     "output_type": "stream",
     "text": [
      "\u001b[A\n",
      " 46%|████▋     | 586/1261 [01:31<01:54,  5.87it/s]"
     ]
    },
    {
     "name": "stdout",
     "output_type": "stream",
     "text": [
      "This is right after the error\n"
     ]
    },
    {
     "name": "stderr",
     "output_type": "stream",
     "text": [
      "\u001b[A\n",
      " 47%|████▋     | 587/1261 [01:31<02:00,  5.60it/s]\u001b[A\n",
      " 47%|████▋     | 588/1261 [01:32<01:54,  5.89it/s]"
     ]
    },
    {
     "name": "stdout",
     "output_type": "stream",
     "text": [
      "This is right after the error\n",
      "This is right after the error\n"
     ]
    },
    {
     "name": "stderr",
     "output_type": "stream",
     "text": [
      "\u001b[A\n",
      " 47%|████▋     | 589/1261 [01:32<01:48,  6.18it/s]\u001b[A\n",
      " 47%|████▋     | 590/1261 [01:32<01:46,  6.29it/s]"
     ]
    },
    {
     "name": "stdout",
     "output_type": "stream",
     "text": [
      "This is right after the error\n",
      "This is right after the error\n"
     ]
    },
    {
     "name": "stderr",
     "output_type": "stream",
     "text": [
      "\u001b[A\n",
      " 47%|████▋     | 591/1261 [01:32<01:44,  6.43it/s]\u001b[A\n",
      " 47%|████▋     | 592/1261 [01:32<01:42,  6.54it/s]"
     ]
    },
    {
     "name": "stdout",
     "output_type": "stream",
     "text": [
      "This is right after the error\n",
      "This is right after the error\n"
     ]
    },
    {
     "name": "stderr",
     "output_type": "stream",
     "text": [
      "\u001b[A\n",
      " 47%|████▋     | 593/1261 [01:32<01:41,  6.57it/s]\u001b[A\n",
      " 47%|████▋     | 594/1261 [01:32<01:40,  6.62it/s]"
     ]
    },
    {
     "name": "stdout",
     "output_type": "stream",
     "text": [
      "This is right after the error\n",
      "This is right after the error\n"
     ]
    },
    {
     "name": "stderr",
     "output_type": "stream",
     "text": [
      "\u001b[A\n",
      " 47%|████▋     | 595/1261 [01:33<01:42,  6.53it/s]\u001b[A\n",
      " 47%|████▋     | 596/1261 [01:33<01:43,  6.41it/s]"
     ]
    },
    {
     "name": "stdout",
     "output_type": "stream",
     "text": [
      "This is right after the error\n",
      "This is right after the error\n"
     ]
    },
    {
     "name": "stderr",
     "output_type": "stream",
     "text": [
      "\u001b[A\n",
      " 47%|████▋     | 597/1261 [01:33<01:45,  6.29it/s]\u001b[A\n",
      " 47%|████▋     | 598/1261 [01:33<01:46,  6.24it/s]"
     ]
    },
    {
     "name": "stdout",
     "output_type": "stream",
     "text": [
      "This is right after the error\n",
      "This is right after the error\n"
     ]
    },
    {
     "name": "stderr",
     "output_type": "stream",
     "text": [
      "\u001b[A\n",
      " 48%|████▊     | 599/1261 [01:33<01:44,  6.36it/s]\u001b[A\n",
      " 48%|████▊     | 600/1261 [01:33<01:44,  6.33it/s]"
     ]
    },
    {
     "name": "stdout",
     "output_type": "stream",
     "text": [
      "This is right after the error\n",
      "This is right after the error\n"
     ]
    },
    {
     "name": "stderr",
     "output_type": "stream",
     "text": [
      "\u001b[A\n",
      " 48%|████▊     | 601/1261 [01:34<01:55,  5.74it/s]"
     ]
    },
    {
     "name": "stdout",
     "output_type": "stream",
     "text": [
      "This is right after the error\n"
     ]
    },
    {
     "name": "stderr",
     "output_type": "stream",
     "text": [
      "\u001b[A\n",
      " 48%|████▊     | 602/1261 [01:34<02:00,  5.45it/s]\u001b[A\n",
      " 48%|████▊     | 603/1261 [01:34<01:54,  5.76it/s]"
     ]
    },
    {
     "name": "stdout",
     "output_type": "stream",
     "text": [
      "This is right after the error\n",
      "This is right after the error\n"
     ]
    },
    {
     "name": "stderr",
     "output_type": "stream",
     "text": [
      "\u001b[A\n",
      " 48%|████▊     | 604/1261 [01:34<01:51,  5.88it/s]\u001b[A\n",
      " 48%|████▊     | 605/1261 [01:34<01:49,  5.98it/s]"
     ]
    },
    {
     "name": "stdout",
     "output_type": "stream",
     "text": [
      "This is right after the error\n",
      "This is right after the error\n"
     ]
    },
    {
     "name": "stderr",
     "output_type": "stream",
     "text": [
      "\u001b[A\n",
      " 48%|████▊     | 606/1261 [01:34<01:49,  5.97it/s]\u001b[A\n",
      " 48%|████▊     | 607/1261 [01:35<01:47,  6.10it/s]"
     ]
    },
    {
     "name": "stdout",
     "output_type": "stream",
     "text": [
      "This is right after the error\n",
      "This is right after the error\n"
     ]
    },
    {
     "name": "stderr",
     "output_type": "stream",
     "text": [
      "\u001b[A\n",
      " 48%|████▊     | 608/1261 [01:35<01:47,  6.10it/s]\u001b[A\n",
      " 48%|████▊     | 609/1261 [01:35<01:45,  6.16it/s]"
     ]
    },
    {
     "name": "stdout",
     "output_type": "stream",
     "text": [
      "This is right after the error\n",
      "This is right after the error\n"
     ]
    },
    {
     "name": "stderr",
     "output_type": "stream",
     "text": [
      "\u001b[A\n",
      " 48%|████▊     | 610/1261 [01:35<01:45,  6.19it/s]\u001b[A\n",
      " 48%|████▊     | 611/1261 [01:35<01:44,  6.21it/s]"
     ]
    },
    {
     "name": "stdout",
     "output_type": "stream",
     "text": [
      "This is right after the error\n",
      "This is right after the error\n"
     ]
    },
    {
     "name": "stderr",
     "output_type": "stream",
     "text": [
      "\u001b[A\n",
      " 49%|████▊     | 612/1261 [01:35<01:43,  6.26it/s]\u001b[A\n",
      " 49%|████▊     | 613/1261 [01:36<01:43,  6.27it/s]"
     ]
    },
    {
     "name": "stdout",
     "output_type": "stream",
     "text": [
      "This is right after the error\n",
      "This is right after the error\n"
     ]
    },
    {
     "name": "stderr",
     "output_type": "stream",
     "text": [
      "\u001b[A\n",
      " 49%|████▊     | 614/1261 [01:36<01:42,  6.30it/s]\u001b[A\n",
      " 49%|████▉     | 615/1261 [01:36<01:41,  6.36it/s]"
     ]
    },
    {
     "name": "stdout",
     "output_type": "stream",
     "text": [
      "This is right after the error\n",
      "This is right after the error\n"
     ]
    },
    {
     "name": "stderr",
     "output_type": "stream",
     "text": [
      "\u001b[A\n",
      " 49%|████▉     | 616/1261 [01:36<01:41,  6.37it/s]\u001b[A\n",
      " 49%|████▉     | 617/1261 [01:36<01:39,  6.46it/s]"
     ]
    },
    {
     "name": "stdout",
     "output_type": "stream",
     "text": [
      "This is right after the error\n",
      "This is right after the error\n"
     ]
    },
    {
     "name": "stderr",
     "output_type": "stream",
     "text": [
      "\u001b[A\n",
      " 49%|████▉     | 618/1261 [01:36<01:39,  6.46it/s]\u001b[A\n",
      " 49%|████▉     | 619/1261 [01:36<01:39,  6.46it/s]"
     ]
    },
    {
     "name": "stdout",
     "output_type": "stream",
     "text": [
      "This is right after the error\n",
      "This is right after the error\n"
     ]
    },
    {
     "name": "stderr",
     "output_type": "stream",
     "text": [
      "\u001b[A\n",
      " 49%|████▉     | 620/1261 [01:37<01:40,  6.40it/s]\u001b[A\n",
      " 49%|████▉     | 621/1261 [01:37<01:38,  6.47it/s]"
     ]
    },
    {
     "name": "stdout",
     "output_type": "stream",
     "text": [
      "This is right after the error\n",
      "This is right after the error\n"
     ]
    },
    {
     "name": "stderr",
     "output_type": "stream",
     "text": [
      "\u001b[A\n",
      " 49%|████▉     | 622/1261 [01:37<01:38,  6.46it/s]\u001b[A\n",
      " 49%|████▉     | 623/1261 [01:37<01:38,  6.46it/s]"
     ]
    },
    {
     "name": "stdout",
     "output_type": "stream",
     "text": [
      "This is right after the error\n",
      "This is right after the error\n"
     ]
    },
    {
     "name": "stderr",
     "output_type": "stream",
     "text": [
      "\u001b[A\n",
      " 49%|████▉     | 624/1261 [01:37<01:37,  6.53it/s]\u001b[A\n",
      " 50%|████▉     | 625/1261 [01:37<01:39,  6.42it/s]"
     ]
    },
    {
     "name": "stdout",
     "output_type": "stream",
     "text": [
      "This is right after the error\n",
      "This is right after the error\n"
     ]
    },
    {
     "name": "stderr",
     "output_type": "stream",
     "text": [
      "\u001b[A\n",
      " 50%|████▉     | 626/1261 [01:38<01:38,  6.45it/s]\u001b[A\n",
      " 50%|████▉     | 627/1261 [01:38<01:38,  6.41it/s]"
     ]
    },
    {
     "name": "stdout",
     "output_type": "stream",
     "text": [
      "This is right after the error\n",
      "This is right after the error\n"
     ]
    },
    {
     "name": "stderr",
     "output_type": "stream",
     "text": [
      "\u001b[A\n",
      " 50%|████▉     | 628/1261 [01:38<01:38,  6.42it/s]\u001b[A"
     ]
    },
    {
     "name": "stdout",
     "output_type": "stream",
     "text": [
      "This is right after the error\n"
     ]
    },
    {
     "name": "stderr",
     "output_type": "stream",
     "text": [
      "\n",
      " 50%|████▉     | 629/1261 [01:38<01:56,  5.45it/s]\u001b[A\n",
      " 50%|████▉     | 630/1261 [01:38<01:50,  5.72it/s]"
     ]
    },
    {
     "name": "stdout",
     "output_type": "stream",
     "text": [
      "This is right after the error\n",
      "This is right after the error\n"
     ]
    },
    {
     "name": "stderr",
     "output_type": "stream",
     "text": [
      "\u001b[A\n",
      " 50%|█████     | 631/1261 [01:38<01:46,  5.91it/s]\u001b[A\n",
      " 50%|█████     | 632/1261 [01:39<01:44,  5.99it/s]"
     ]
    },
    {
     "name": "stdout",
     "output_type": "stream",
     "text": [
      "This is right after the error\n",
      "This is right after the error\n"
     ]
    },
    {
     "name": "stderr",
     "output_type": "stream",
     "text": [
      "\u001b[A\n",
      " 50%|█████     | 633/1261 [01:39<01:42,  6.12it/s]\u001b[A"
     ]
    },
    {
     "name": "stdout",
     "output_type": "stream",
     "text": [
      "This is right after the error\n"
     ]
    },
    {
     "name": "stderr",
     "output_type": "stream",
     "text": [
      "\n",
      " 50%|█████     | 634/1261 [01:39<01:59,  5.23it/s]\u001b[A\n",
      " 50%|█████     | 635/1261 [01:39<01:54,  5.47it/s]"
     ]
    },
    {
     "name": "stdout",
     "output_type": "stream",
     "text": [
      "This is right after the error\n",
      "This is right after the error\n"
     ]
    },
    {
     "name": "stderr",
     "output_type": "stream",
     "text": [
      "\u001b[A\n",
      " 50%|█████     | 636/1261 [01:39<01:56,  5.35it/s]\u001b[A\n",
      " 51%|█████     | 637/1261 [01:40<01:48,  5.74it/s]"
     ]
    },
    {
     "name": "stdout",
     "output_type": "stream",
     "text": [
      "This is right after the error\n",
      "This is right after the error\n"
     ]
    },
    {
     "name": "stderr",
     "output_type": "stream",
     "text": [
      "\u001b[A\n",
      " 51%|█████     | 638/1261 [01:40<01:45,  5.93it/s]\u001b[A\n",
      " 51%|█████     | 639/1261 [01:40<01:42,  6.10it/s]"
     ]
    },
    {
     "name": "stdout",
     "output_type": "stream",
     "text": [
      "This is right after the error\n",
      "This is right after the error\n"
     ]
    },
    {
     "name": "stderr",
     "output_type": "stream",
     "text": [
      "\u001b[A\n",
      " 51%|█████     | 640/1261 [01:40<01:39,  6.24it/s]\u001b[A\n",
      " 51%|█████     | 641/1261 [01:40<01:38,  6.29it/s]"
     ]
    },
    {
     "name": "stdout",
     "output_type": "stream",
     "text": [
      "This is right after the error\n",
      "This is right after the error\n"
     ]
    },
    {
     "name": "stderr",
     "output_type": "stream",
     "text": [
      "\u001b[A\n",
      " 51%|█████     | 642/1261 [01:40<01:37,  6.36it/s]\u001b[A\n",
      " 51%|█████     | 643/1261 [01:40<01:36,  6.40it/s]"
     ]
    },
    {
     "name": "stdout",
     "output_type": "stream",
     "text": [
      "This is right after the error\n",
      "This is right after the error\n"
     ]
    },
    {
     "name": "stderr",
     "output_type": "stream",
     "text": [
      "\u001b[A\n",
      " 51%|█████     | 644/1261 [01:41<01:34,  6.51it/s]\u001b[A\n",
      " 51%|█████     | 645/1261 [01:41<01:33,  6.59it/s]"
     ]
    },
    {
     "name": "stdout",
     "output_type": "stream",
     "text": [
      "This is right after the error\n",
      "This is right after the error\n"
     ]
    },
    {
     "name": "stderr",
     "output_type": "stream",
     "text": [
      "\u001b[A\n",
      " 51%|█████     | 646/1261 [01:41<01:35,  6.47it/s]\u001b[A\n",
      " 51%|█████▏    | 647/1261 [01:41<01:35,  6.43it/s]"
     ]
    },
    {
     "name": "stdout",
     "output_type": "stream",
     "text": [
      "This is right after the error\n",
      "This is right after the error\n"
     ]
    },
    {
     "name": "stderr",
     "output_type": "stream",
     "text": [
      "\u001b[A\n",
      " 51%|█████▏    | 648/1261 [01:41<01:36,  6.38it/s]\u001b[A\n",
      " 51%|█████▏    | 649/1261 [01:41<01:34,  6.46it/s]"
     ]
    },
    {
     "name": "stdout",
     "output_type": "stream",
     "text": [
      "This is right after the error\n",
      "This is right after the error\n"
     ]
    },
    {
     "name": "stderr",
     "output_type": "stream",
     "text": [
      "\u001b[A\n",
      " 52%|█████▏    | 650/1261 [01:42<01:36,  6.35it/s]\u001b[A\n",
      " 52%|█████▏    | 651/1261 [01:42<01:33,  6.49it/s]"
     ]
    },
    {
     "name": "stdout",
     "output_type": "stream",
     "text": [
      "This is right after the error\n",
      "This is right after the error\n"
     ]
    },
    {
     "name": "stderr",
     "output_type": "stream",
     "text": [
      "\u001b[A\n",
      " 52%|█████▏    | 652/1261 [01:42<01:33,  6.49it/s]\u001b[A\n",
      " 52%|█████▏    | 653/1261 [01:42<01:34,  6.46it/s]"
     ]
    },
    {
     "name": "stdout",
     "output_type": "stream",
     "text": [
      "This is right after the error\n",
      "This is right after the error\n"
     ]
    },
    {
     "name": "stderr",
     "output_type": "stream",
     "text": [
      "\u001b[A\n",
      " 52%|█████▏    | 654/1261 [01:42<01:33,  6.47it/s]\u001b[A\n",
      " 52%|█████▏    | 655/1261 [01:42<01:32,  6.58it/s]"
     ]
    },
    {
     "name": "stdout",
     "output_type": "stream",
     "text": [
      "This is right after the error\n",
      "This is right after the error\n"
     ]
    },
    {
     "name": "stderr",
     "output_type": "stream",
     "text": [
      "\u001b[A\n",
      " 52%|█████▏    | 656/1261 [01:42<01:31,  6.62it/s]\u001b[A\n",
      " 52%|█████▏    | 657/1261 [01:43<01:31,  6.63it/s]"
     ]
    },
    {
     "name": "stdout",
     "output_type": "stream",
     "text": [
      "This is right after the error\n",
      "This is right after the error\n"
     ]
    },
    {
     "name": "stderr",
     "output_type": "stream",
     "text": [
      "\u001b[A\n",
      " 52%|█████▏    | 658/1261 [01:43<01:30,  6.65it/s]\u001b[A\n",
      " 52%|█████▏    | 659/1261 [01:43<01:31,  6.56it/s]"
     ]
    },
    {
     "name": "stdout",
     "output_type": "stream",
     "text": [
      "This is right after the error\n",
      "This is right after the error\n"
     ]
    },
    {
     "name": "stderr",
     "output_type": "stream",
     "text": [
      "\u001b[A\n",
      " 52%|█████▏    | 660/1261 [01:43<01:30,  6.64it/s]\u001b[A\n",
      " 52%|█████▏    | 661/1261 [01:43<01:29,  6.71it/s]"
     ]
    },
    {
     "name": "stdout",
     "output_type": "stream",
     "text": [
      "This is right after the error\n",
      "This is right after the error\n"
     ]
    },
    {
     "name": "stderr",
     "output_type": "stream",
     "text": [
      "\u001b[A\n",
      " 52%|█████▏    | 662/1261 [01:43<01:30,  6.65it/s]\u001b[A\n",
      " 53%|█████▎    | 663/1261 [01:43<01:30,  6.59it/s]"
     ]
    },
    {
     "name": "stdout",
     "output_type": "stream",
     "text": [
      "This is right after the error\n",
      "This is right after the error\n"
     ]
    },
    {
     "name": "stderr",
     "output_type": "stream",
     "text": [
      "\u001b[A\n",
      " 53%|█████▎    | 664/1261 [01:44<01:31,  6.55it/s]\u001b[A\n",
      " 53%|█████▎    | 665/1261 [01:44<01:31,  6.55it/s]"
     ]
    },
    {
     "name": "stdout",
     "output_type": "stream",
     "text": [
      "This is right after the error\n",
      "This is right after the error\n"
     ]
    },
    {
     "name": "stderr",
     "output_type": "stream",
     "text": [
      "\u001b[A\n",
      " 53%|█████▎    | 666/1261 [01:44<01:31,  6.49it/s]\u001b[A\n",
      " 53%|█████▎    | 667/1261 [01:44<01:29,  6.60it/s]"
     ]
    },
    {
     "name": "stdout",
     "output_type": "stream",
     "text": [
      "This is right after the error\n",
      "This is right after the error\n"
     ]
    },
    {
     "name": "stderr",
     "output_type": "stream",
     "text": [
      "\u001b[A\n",
      " 53%|█████▎    | 668/1261 [01:44<01:29,  6.62it/s]\u001b[A\n",
      " 53%|█████▎    | 669/1261 [01:44<01:32,  6.43it/s]"
     ]
    },
    {
     "name": "stdout",
     "output_type": "stream",
     "text": [
      "This is right after the error\n",
      "This is right after the error\n"
     ]
    },
    {
     "name": "stderr",
     "output_type": "stream",
     "text": [
      "\u001b[A\n",
      " 53%|█████▎    | 670/1261 [01:45<01:50,  5.37it/s]\u001b[A\n",
      " 53%|█████▎    | 671/1261 [01:45<01:43,  5.70it/s]"
     ]
    },
    {
     "name": "stdout",
     "output_type": "stream",
     "text": [
      "This is right after the error\n",
      "This is right after the error\n"
     ]
    },
    {
     "name": "stderr",
     "output_type": "stream",
     "text": [
      "\u001b[A\n",
      " 53%|█████▎    | 672/1261 [01:45<01:39,  5.94it/s]\u001b[A\n",
      " 53%|█████▎    | 673/1261 [01:45<01:37,  6.06it/s]"
     ]
    },
    {
     "name": "stdout",
     "output_type": "stream",
     "text": [
      "This is right after the error\n",
      "This is right after the error\n"
     ]
    },
    {
     "name": "stderr",
     "output_type": "stream",
     "text": [
      "\u001b[A\n",
      " 53%|█████▎    | 674/1261 [01:45<01:35,  6.15it/s]\u001b[A\n",
      " 54%|█████▎    | 675/1261 [01:45<01:34,  6.17it/s]"
     ]
    },
    {
     "name": "stdout",
     "output_type": "stream",
     "text": [
      "This is right after the error\n",
      "This is right after the error\n"
     ]
    },
    {
     "name": "stderr",
     "output_type": "stream",
     "text": [
      "\u001b[A\n",
      " 54%|█████▎    | 676/1261 [01:46<01:33,  6.26it/s]\u001b[A\n",
      " 54%|█████▎    | 677/1261 [01:46<01:33,  6.27it/s]"
     ]
    },
    {
     "name": "stdout",
     "output_type": "stream",
     "text": [
      "This is right after the error\n",
      "This is right after the error\n"
     ]
    },
    {
     "name": "stderr",
     "output_type": "stream",
     "text": [
      "\u001b[A\n",
      " 54%|█████▍    | 678/1261 [01:46<01:31,  6.35it/s]\u001b[A\n",
      " 54%|█████▍    | 679/1261 [01:46<01:30,  6.41it/s]"
     ]
    },
    {
     "name": "stdout",
     "output_type": "stream",
     "text": [
      "This is right after the error\n",
      "This is right after the error\n"
     ]
    },
    {
     "name": "stderr",
     "output_type": "stream",
     "text": [
      "\u001b[A\n",
      " 54%|█████▍    | 680/1261 [01:46<01:31,  6.33it/s]\u001b[A\n",
      " 54%|█████▍    | 681/1261 [01:46<01:30,  6.44it/s]"
     ]
    },
    {
     "name": "stdout",
     "output_type": "stream",
     "text": [
      "This is right after the error\n",
      "This is right after the error\n"
     ]
    },
    {
     "name": "stderr",
     "output_type": "stream",
     "text": [
      "\u001b[A\n",
      " 54%|█████▍    | 682/1261 [01:47<01:49,  5.28it/s]\u001b[A\n",
      " 54%|█████▍    | 683/1261 [01:47<01:42,  5.66it/s]"
     ]
    },
    {
     "name": "stdout",
     "output_type": "stream",
     "text": [
      "This is right after the error\n",
      "This is right after the error\n"
     ]
    },
    {
     "name": "stderr",
     "output_type": "stream",
     "text": [
      "\u001b[A\n",
      " 54%|█████▍    | 684/1261 [01:47<01:37,  5.89it/s]\u001b[A\n",
      " 54%|█████▍    | 685/1261 [01:47<01:37,  5.92it/s]"
     ]
    },
    {
     "name": "stdout",
     "output_type": "stream",
     "text": [
      "This is right after the error\n",
      "This is right after the error\n"
     ]
    },
    {
     "name": "stderr",
     "output_type": "stream",
     "text": [
      "\u001b[A\n",
      " 54%|█████▍    | 686/1261 [01:47<01:33,  6.12it/s]\u001b[A\n",
      " 54%|█████▍    | 687/1261 [01:47<01:31,  6.29it/s]"
     ]
    },
    {
     "name": "stdout",
     "output_type": "stream",
     "text": [
      "This is right after the error\n",
      "This is right after the error\n"
     ]
    },
    {
     "name": "stderr",
     "output_type": "stream",
     "text": [
      "\u001b[A\n",
      " 55%|█████▍    | 688/1261 [01:48<01:29,  6.42it/s]\u001b[A\n",
      " 55%|█████▍    | 689/1261 [01:48<01:30,  6.34it/s]"
     ]
    },
    {
     "name": "stdout",
     "output_type": "stream",
     "text": [
      "This is right after the error\n",
      "This is right after the error\n"
     ]
    },
    {
     "name": "stderr",
     "output_type": "stream",
     "text": [
      "\u001b[A\n",
      " 55%|█████▍    | 690/1261 [01:48<01:29,  6.35it/s]\u001b[A\n",
      " 55%|█████▍    | 691/1261 [01:48<01:30,  6.32it/s]"
     ]
    },
    {
     "name": "stdout",
     "output_type": "stream",
     "text": [
      "This is right after the error\n",
      "This is right after the error\n"
     ]
    },
    {
     "name": "stderr",
     "output_type": "stream",
     "text": [
      "\u001b[A\n",
      " 55%|█████▍    | 692/1261 [01:48<01:30,  6.30it/s]\u001b[A\n",
      " 55%|█████▍    | 693/1261 [01:48<01:29,  6.33it/s]"
     ]
    },
    {
     "name": "stdout",
     "output_type": "stream",
     "text": [
      "This is right after the error\n",
      "This is right after the error\n"
     ]
    },
    {
     "name": "stderr",
     "output_type": "stream",
     "text": [
      "\u001b[A\n",
      " 55%|█████▌    | 694/1261 [01:49<01:29,  6.32it/s]\u001b[A\n",
      " 55%|█████▌    | 695/1261 [01:49<01:28,  6.37it/s]"
     ]
    },
    {
     "name": "stdout",
     "output_type": "stream",
     "text": [
      "This is right after the error\n",
      "This is right after the error\n"
     ]
    },
    {
     "name": "stderr",
     "output_type": "stream",
     "text": [
      "\u001b[A\n",
      " 55%|█████▌    | 696/1261 [01:49<01:27,  6.42it/s]\u001b[A\n",
      " 55%|█████▌    | 697/1261 [01:49<01:25,  6.59it/s]"
     ]
    },
    {
     "name": "stdout",
     "output_type": "stream",
     "text": [
      "This is right after the error\n",
      "This is right after the error\n"
     ]
    },
    {
     "name": "stderr",
     "output_type": "stream",
     "text": [
      "\u001b[A\n",
      " 55%|█████▌    | 698/1261 [01:49<01:25,  6.55it/s]\u001b[A\n",
      " 55%|█████▌    | 699/1261 [01:49<01:25,  6.57it/s]"
     ]
    },
    {
     "name": "stdout",
     "output_type": "stream",
     "text": [
      "This is right after the error\n",
      "This is right after the error\n"
     ]
    },
    {
     "name": "stderr",
     "output_type": "stream",
     "text": [
      "\u001b[A\n",
      " 56%|█████▌    | 700/1261 [01:49<01:27,  6.43it/s]\u001b[A\n",
      " 56%|█████▌    | 701/1261 [01:50<01:25,  6.52it/s]"
     ]
    },
    {
     "name": "stdout",
     "output_type": "stream",
     "text": [
      "This is right after the error\n",
      "This is right after the error\n"
     ]
    },
    {
     "name": "stderr",
     "output_type": "stream",
     "text": [
      "\u001b[A\n",
      " 56%|█████▌    | 702/1261 [01:50<01:25,  6.55it/s]\u001b[A\n",
      " 56%|█████▌    | 703/1261 [01:50<01:25,  6.49it/s]"
     ]
    },
    {
     "name": "stdout",
     "output_type": "stream",
     "text": [
      "This is right after the error\n",
      "This is right after the error\n"
     ]
    },
    {
     "name": "stderr",
     "output_type": "stream",
     "text": [
      "\u001b[A\n",
      " 56%|█████▌    | 704/1261 [01:50<01:25,  6.48it/s]\u001b[A\n",
      " 56%|█████▌    | 705/1261 [01:50<01:24,  6.57it/s]"
     ]
    },
    {
     "name": "stdout",
     "output_type": "stream",
     "text": [
      "This is right after the error\n",
      "This is right after the error\n"
     ]
    },
    {
     "name": "stderr",
     "output_type": "stream",
     "text": [
      "\u001b[A\n",
      " 56%|█████▌    | 706/1261 [01:50<01:25,  6.48it/s]\u001b[A\n",
      " 56%|█████▌    | 707/1261 [01:50<01:25,  6.51it/s]"
     ]
    },
    {
     "name": "stdout",
     "output_type": "stream",
     "text": [
      "This is right after the error\n",
      "This is right after the error\n"
     ]
    },
    {
     "name": "stderr",
     "output_type": "stream",
     "text": [
      "\u001b[A\n",
      " 56%|█████▌    | 708/1261 [01:51<01:27,  6.30it/s]\u001b[A\n",
      " 56%|█████▌    | 709/1261 [01:51<01:26,  6.38it/s]"
     ]
    },
    {
     "name": "stdout",
     "output_type": "stream",
     "text": [
      "This is right after the error\n",
      "This is right after the error\n"
     ]
    },
    {
     "name": "stderr",
     "output_type": "stream",
     "text": [
      "\u001b[A\n",
      " 56%|█████▋    | 710/1261 [01:51<01:26,  6.39it/s]\u001b[A\n",
      " 56%|█████▋    | 711/1261 [01:51<01:25,  6.46it/s]"
     ]
    },
    {
     "name": "stdout",
     "output_type": "stream",
     "text": [
      "This is right after the error\n",
      "This is right after the error\n"
     ]
    },
    {
     "name": "stderr",
     "output_type": "stream",
     "text": [
      "\u001b[A\n",
      " 56%|█████▋    | 712/1261 [01:51<01:24,  6.49it/s]\u001b[A\n",
      " 57%|█████▋    | 713/1261 [01:51<01:23,  6.53it/s]"
     ]
    },
    {
     "name": "stdout",
     "output_type": "stream",
     "text": [
      "This is right after the error\n",
      "This is right after the error\n"
     ]
    },
    {
     "name": "stderr",
     "output_type": "stream",
     "text": [
      "\u001b[A\n",
      " 57%|█████▋    | 714/1261 [01:52<01:22,  6.59it/s]\u001b[A\n",
      " 57%|█████▋    | 715/1261 [01:52<01:22,  6.62it/s]"
     ]
    },
    {
     "name": "stdout",
     "output_type": "stream",
     "text": [
      "This is right after the error\n",
      "This is right after the error\n"
     ]
    },
    {
     "name": "stderr",
     "output_type": "stream",
     "text": [
      "\u001b[A\n",
      " 57%|█████▋    | 716/1261 [01:52<01:22,  6.64it/s]\u001b[A\n",
      " 57%|█████▋    | 717/1261 [01:52<01:20,  6.72it/s]"
     ]
    },
    {
     "name": "stdout",
     "output_type": "stream",
     "text": [
      "This is right after the error\n",
      "This is right after the error\n"
     ]
    },
    {
     "name": "stderr",
     "output_type": "stream",
     "text": [
      "\u001b[A\n",
      " 57%|█████▋    | 718/1261 [01:52<01:21,  6.66it/s]\u001b[A\n",
      " 57%|█████▋    | 719/1261 [01:52<01:20,  6.74it/s]"
     ]
    },
    {
     "name": "stdout",
     "output_type": "stream",
     "text": [
      "This is right after the error\n",
      "This is right after the error\n"
     ]
    },
    {
     "name": "stderr",
     "output_type": "stream",
     "text": [
      "\u001b[A\n",
      " 57%|█████▋    | 720/1261 [01:52<01:20,  6.70it/s]\u001b[A\n",
      " 57%|█████▋    | 721/1261 [01:53<01:20,  6.74it/s]"
     ]
    },
    {
     "name": "stdout",
     "output_type": "stream",
     "text": [
      "This is right after the error\n",
      "This is right after the error\n"
     ]
    },
    {
     "name": "stderr",
     "output_type": "stream",
     "text": [
      "\u001b[A\n",
      " 57%|█████▋    | 722/1261 [01:53<01:19,  6.76it/s]\u001b[A\n",
      " 57%|█████▋    | 723/1261 [01:53<01:19,  6.79it/s]"
     ]
    },
    {
     "name": "stdout",
     "output_type": "stream",
     "text": [
      "This is right after the error\n",
      "This is right after the error\n"
     ]
    },
    {
     "name": "stderr",
     "output_type": "stream",
     "text": [
      "\u001b[A\n",
      " 57%|█████▋    | 724/1261 [01:53<01:19,  6.76it/s]\u001b[A"
     ]
    },
    {
     "name": "stdout",
     "output_type": "stream",
     "text": [
      "This is right after the error\n"
     ]
    },
    {
     "name": "stderr",
     "output_type": "stream",
     "text": [
      "\n",
      "\r",
      " 57%|█████▋    | 725/1261 [01:53<01:34,  5.68it/s]"
     ]
    },
    {
     "name": "stdout",
     "output_type": "stream",
     "text": [
      "This is right after the error\n",
      "This is right after the error\n"
     ]
    },
    {
     "name": "stderr",
     "output_type": "stream",
     "text": [
      "\u001b[A\n",
      " 58%|█████▊    | 726/1261 [01:53<01:31,  5.86it/s]\u001b[A\n",
      " 58%|█████▊    | 727/1261 [01:54<01:27,  6.11it/s]\u001b[A\n",
      " 58%|█████▊    | 728/1261 [01:54<01:24,  6.27it/s]"
     ]
    },
    {
     "name": "stdout",
     "output_type": "stream",
     "text": [
      "This is right after the error\n",
      "This is right after the error\n"
     ]
    },
    {
     "name": "stderr",
     "output_type": "stream",
     "text": [
      "\u001b[A\n",
      " 58%|█████▊    | 729/1261 [01:54<01:22,  6.41it/s]\u001b[A\n",
      " 58%|█████▊    | 730/1261 [01:54<01:22,  6.42it/s]"
     ]
    },
    {
     "name": "stdout",
     "output_type": "stream",
     "text": [
      "This is right after the error\n",
      "This is right after the error\n"
     ]
    },
    {
     "name": "stderr",
     "output_type": "stream",
     "text": [
      "\u001b[A\n",
      " 58%|█████▊    | 731/1261 [01:54<01:21,  6.48it/s]\u001b[A\n",
      " 58%|█████▊    | 732/1261 [01:54<01:21,  6.51it/s]"
     ]
    },
    {
     "name": "stdout",
     "output_type": "stream",
     "text": [
      "This is right after the error\n",
      "This is right after the error\n"
     ]
    },
    {
     "name": "stderr",
     "output_type": "stream",
     "text": [
      "\u001b[A\n",
      " 58%|█████▊    | 733/1261 [01:55<01:20,  6.57it/s]\u001b[A\n",
      " 58%|█████▊    | 734/1261 [01:55<01:19,  6.60it/s]"
     ]
    },
    {
     "name": "stdout",
     "output_type": "stream",
     "text": [
      "This is right after the error\n",
      "This is right after the error\n"
     ]
    },
    {
     "name": "stderr",
     "output_type": "stream",
     "text": [
      "\u001b[A\n",
      " 58%|█████▊    | 735/1261 [01:55<01:18,  6.70it/s]\u001b[A\n",
      " 58%|█████▊    | 736/1261 [01:55<01:19,  6.57it/s]"
     ]
    },
    {
     "name": "stdout",
     "output_type": "stream",
     "text": [
      "This is right after the error\n",
      "This is right after the error\n"
     ]
    },
    {
     "name": "stderr",
     "output_type": "stream",
     "text": [
      "\u001b[A\n",
      " 58%|█████▊    | 737/1261 [01:55<01:19,  6.61it/s]\u001b[A\n",
      " 59%|█████▊    | 738/1261 [01:55<01:19,  6.55it/s]"
     ]
    },
    {
     "name": "stdout",
     "output_type": "stream",
     "text": [
      "This is right after the error\n",
      "This is right after the error\n"
     ]
    },
    {
     "name": "stderr",
     "output_type": "stream",
     "text": [
      "\u001b[A\n",
      " 59%|█████▊    | 739/1261 [01:55<01:18,  6.63it/s]\u001b[A"
     ]
    },
    {
     "name": "stdout",
     "output_type": "stream",
     "text": [
      "This is right after the error\n"
     ]
    },
    {
     "name": "stderr",
     "output_type": "stream",
     "text": [
      "\n",
      " 59%|█████▊    | 740/1261 [01:56<01:34,  5.53it/s]\u001b[A\n",
      " 59%|█████▉    | 741/1261 [01:56<01:27,  5.94it/s]"
     ]
    },
    {
     "name": "stdout",
     "output_type": "stream",
     "text": [
      "This is right after the error\n",
      "This is right after the error\n"
     ]
    },
    {
     "name": "stderr",
     "output_type": "stream",
     "text": [
      "\u001b[A\n",
      " 59%|█████▉    | 742/1261 [01:56<01:25,  6.09it/s]\u001b[A\n",
      " 59%|█████▉    | 743/1261 [01:56<01:21,  6.38it/s]"
     ]
    },
    {
     "name": "stdout",
     "output_type": "stream",
     "text": [
      "This is right after the error\n",
      "This is right after the error\n"
     ]
    },
    {
     "name": "stderr",
     "output_type": "stream",
     "text": [
      "\u001b[A\n",
      " 59%|█████▉    | 744/1261 [01:56<01:19,  6.47it/s]\u001b[A\n",
      " 59%|█████▉    | 745/1261 [01:56<01:19,  6.49it/s]"
     ]
    },
    {
     "name": "stdout",
     "output_type": "stream",
     "text": [
      "This is right after the error\n",
      "This is right after the error\n"
     ]
    },
    {
     "name": "stderr",
     "output_type": "stream",
     "text": [
      "\u001b[A\n",
      " 59%|█████▉    | 746/1261 [01:57<01:20,  6.42it/s]\u001b[A\n",
      " 59%|█████▉    | 747/1261 [01:57<01:18,  6.54it/s]"
     ]
    },
    {
     "name": "stdout",
     "output_type": "stream",
     "text": [
      "This is right after the error\n",
      "This is right after the error\n"
     ]
    },
    {
     "name": "stderr",
     "output_type": "stream",
     "text": [
      "\u001b[A\n",
      " 59%|█████▉    | 748/1261 [01:57<01:18,  6.50it/s]\u001b[A\n",
      " 59%|█████▉    | 749/1261 [01:57<01:17,  6.57it/s]"
     ]
    },
    {
     "name": "stdout",
     "output_type": "stream",
     "text": [
      "This is right after the error\n",
      "This is right after the error\n"
     ]
    },
    {
     "name": "stderr",
     "output_type": "stream",
     "text": [
      "\u001b[A\n",
      " 59%|█████▉    | 750/1261 [01:57<01:17,  6.56it/s]\u001b[A"
     ]
    },
    {
     "name": "stdout",
     "output_type": "stream",
     "text": [
      "This is right after the error\n",
      "This is right after the error\n"
     ]
    },
    {
     "name": "stderr",
     "output_type": "stream",
     "text": [
      "\n",
      " 60%|█████▉    | 751/1261 [01:57<01:29,  5.67it/s]\u001b[A\n",
      " 60%|█████▉    | 752/1261 [01:58<01:30,  5.65it/s]\u001b[A\n",
      " 60%|█████▉    | 753/1261 [01:58<01:24,  6.00it/s]"
     ]
    },
    {
     "name": "stdout",
     "output_type": "stream",
     "text": [
      "This is right after the error\n",
      "This is right after the error\n"
     ]
    },
    {
     "name": "stderr",
     "output_type": "stream",
     "text": [
      "\u001b[A\n",
      " 60%|█████▉    | 754/1261 [01:58<01:22,  6.16it/s]\u001b[A\n",
      " 60%|█████▉    | 755/1261 [01:58<01:19,  6.35it/s]"
     ]
    },
    {
     "name": "stdout",
     "output_type": "stream",
     "text": [
      "This is right after the error\n",
      "This is right after the error\n"
     ]
    },
    {
     "name": "stderr",
     "output_type": "stream",
     "text": [
      "\u001b[A\n",
      " 60%|█████▉    | 756/1261 [01:58<01:18,  6.44it/s]\u001b[A"
     ]
    },
    {
     "name": "stdout",
     "output_type": "stream",
     "text": [
      "This is right after the error\n"
     ]
    },
    {
     "name": "stderr",
     "output_type": "stream",
     "text": [
      "\n",
      " 60%|██████    | 757/1261 [01:58<01:32,  5.45it/s]\u001b[A\n",
      " 60%|██████    | 758/1261 [01:59<01:27,  5.75it/s]"
     ]
    },
    {
     "name": "stdout",
     "output_type": "stream",
     "text": [
      "This is right after the error\n",
      "This is right after the error\n"
     ]
    },
    {
     "name": "stderr",
     "output_type": "stream",
     "text": [
      "\u001b[A\n",
      " 60%|██████    | 759/1261 [01:59<01:22,  6.06it/s]\u001b[A\n",
      " 60%|██████    | 760/1261 [01:59<01:21,  6.16it/s]"
     ]
    },
    {
     "name": "stdout",
     "output_type": "stream",
     "text": [
      "This is right after the error\n",
      "This is right after the error\n"
     ]
    },
    {
     "name": "stderr",
     "output_type": "stream",
     "text": [
      "\u001b[A\n",
      " 60%|██████    | 761/1261 [01:59<01:18,  6.35it/s]\u001b[A\n",
      " 60%|██████    | 762/1261 [01:59<01:16,  6.54it/s]"
     ]
    },
    {
     "name": "stdout",
     "output_type": "stream",
     "text": [
      "This is right after the error\n",
      "This is right after the error\n"
     ]
    },
    {
     "name": "stderr",
     "output_type": "stream",
     "text": [
      "\u001b[A\n",
      " 61%|██████    | 763/1261 [01:59<01:31,  5.45it/s]\u001b[A\n",
      " 61%|██████    | 764/1261 [02:00<01:25,  5.83it/s]"
     ]
    },
    {
     "name": "stdout",
     "output_type": "stream",
     "text": [
      "This is right after the error\n",
      "This is right after the error\n"
     ]
    },
    {
     "name": "stderr",
     "output_type": "stream",
     "text": [
      "\u001b[A\n",
      " 61%|██████    | 765/1261 [02:00<01:21,  6.11it/s]\u001b[A\n",
      " 61%|██████    | 766/1261 [02:00<01:19,  6.26it/s]"
     ]
    },
    {
     "name": "stdout",
     "output_type": "stream",
     "text": [
      "This is right after the error\n",
      "This is right after the error\n"
     ]
    },
    {
     "name": "stderr",
     "output_type": "stream",
     "text": [
      "\u001b[A\n",
      " 61%|██████    | 767/1261 [02:00<01:16,  6.42it/s]\u001b[A\n",
      " 61%|██████    | 768/1261 [02:00<01:15,  6.49it/s]"
     ]
    },
    {
     "name": "stdout",
     "output_type": "stream",
     "text": [
      "This is right after the error\n",
      "This is right after the error\n"
     ]
    },
    {
     "name": "stderr",
     "output_type": "stream",
     "text": [
      "\u001b[A\n",
      " 61%|██████    | 769/1261 [02:00<01:14,  6.57it/s]\u001b[A\n",
      " 61%|██████    | 770/1261 [02:00<01:14,  6.61it/s]"
     ]
    },
    {
     "name": "stdout",
     "output_type": "stream",
     "text": [
      "This is right after the error\n",
      "This is right after the error\n"
     ]
    },
    {
     "name": "stderr",
     "output_type": "stream",
     "text": [
      "\u001b[A\n",
      " 61%|██████    | 771/1261 [02:01<01:13,  6.63it/s]\u001b[A\n",
      " 61%|██████    | 772/1261 [02:01<01:14,  6.54it/s]"
     ]
    },
    {
     "name": "stdout",
     "output_type": "stream",
     "text": [
      "This is right after the error\n",
      "This is right after the error\n"
     ]
    },
    {
     "name": "stderr",
     "output_type": "stream",
     "text": [
      "\u001b[A\n",
      " 61%|██████▏   | 773/1261 [02:01<01:14,  6.54it/s]\u001b[A\n",
      " 61%|██████▏   | 774/1261 [02:01<01:14,  6.57it/s]"
     ]
    },
    {
     "name": "stdout",
     "output_type": "stream",
     "text": [
      "This is right after the error\n",
      "This is right after the error\n"
     ]
    },
    {
     "name": "stderr",
     "output_type": "stream",
     "text": [
      "\u001b[A\n",
      " 61%|██████▏   | 775/1261 [02:01<01:13,  6.57it/s]\u001b[A"
     ]
    },
    {
     "name": "stdout",
     "output_type": "stream",
     "text": [
      "This is right after the error\n",
      "This is right after the error\n"
     ]
    },
    {
     "name": "stderr",
     "output_type": "stream",
     "text": [
      "\n",
      " 62%|██████▏   | 776/1261 [02:01<01:21,  5.97it/s]\u001b[A\n",
      " 62%|██████▏   | 777/1261 [02:02<01:25,  5.63it/s]\u001b[A\n",
      " 62%|██████▏   | 778/1261 [02:02<01:20,  6.00it/s]"
     ]
    },
    {
     "name": "stdout",
     "output_type": "stream",
     "text": [
      "This is right after the error\n",
      "This is right after the error\n"
     ]
    },
    {
     "name": "stderr",
     "output_type": "stream",
     "text": [
      "\u001b[A\n",
      " 62%|██████▏   | 779/1261 [02:02<01:17,  6.18it/s]\u001b[A\n",
      " 62%|██████▏   | 780/1261 [02:02<01:15,  6.38it/s]"
     ]
    },
    {
     "name": "stdout",
     "output_type": "stream",
     "text": [
      "This is right after the error\n",
      "This is right after the error\n"
     ]
    },
    {
     "name": "stderr",
     "output_type": "stream",
     "text": [
      "\u001b[A\n",
      " 62%|██████▏   | 781/1261 [02:02<01:13,  6.52it/s]\u001b[A\n",
      " 62%|██████▏   | 782/1261 [02:02<01:11,  6.66it/s]"
     ]
    },
    {
     "name": "stdout",
     "output_type": "stream",
     "text": [
      "This is right after the error\n",
      "This is right after the error\n"
     ]
    },
    {
     "name": "stderr",
     "output_type": "stream",
     "text": [
      "\u001b[A\n",
      " 62%|██████▏   | 783/1261 [02:02<01:12,  6.60it/s]\u001b[A\n",
      " 62%|██████▏   | 784/1261 [02:03<01:11,  6.64it/s]"
     ]
    },
    {
     "name": "stdout",
     "output_type": "stream",
     "text": [
      "This is right after the error\n",
      "This is right after the error\n"
     ]
    },
    {
     "name": "stderr",
     "output_type": "stream",
     "text": [
      "\u001b[A\n",
      " 62%|██████▏   | 785/1261 [02:03<01:25,  5.60it/s]\u001b[A\n",
      " 62%|██████▏   | 786/1261 [02:03<01:20,  5.90it/s]"
     ]
    },
    {
     "name": "stdout",
     "output_type": "stream",
     "text": [
      "This is right after the error\n",
      "This is right after the error\n"
     ]
    },
    {
     "name": "stderr",
     "output_type": "stream",
     "text": [
      "\u001b[A\n",
      " 62%|██████▏   | 787/1261 [02:03<01:17,  6.11it/s]\u001b[A"
     ]
    },
    {
     "name": "stdout",
     "output_type": "stream",
     "text": [
      "This is right after the error\n"
     ]
    },
    {
     "name": "stderr",
     "output_type": "stream",
     "text": [
      "\n",
      "\r",
      " 62%|██████▏   | 788/1261 [02:03<01:28,  5.34it/s]"
     ]
    },
    {
     "name": "stdout",
     "output_type": "stream",
     "text": [
      "This is right after the error\n",
      "This is right after the error\n"
     ]
    },
    {
     "name": "stderr",
     "output_type": "stream",
     "text": [
      "\u001b[A\n",
      " 63%|██████▎   | 789/1261 [02:04<01:24,  5.61it/s]\u001b[A\n",
      " 63%|██████▎   | 790/1261 [02:04<01:19,  5.95it/s]\u001b[A\n",
      " 63%|██████▎   | 791/1261 [02:04<01:16,  6.13it/s]"
     ]
    },
    {
     "name": "stdout",
     "output_type": "stream",
     "text": [
      "This is right after the error\n",
      "This is right after the error\n"
     ]
    },
    {
     "name": "stderr",
     "output_type": "stream",
     "text": [
      "\u001b[A\n",
      " 63%|██████▎   | 792/1261 [02:04<01:14,  6.32it/s]\u001b[A"
     ]
    },
    {
     "name": "stdout",
     "output_type": "stream",
     "text": [
      "This is right after the error\n",
      "This is right after the error\n"
     ]
    },
    {
     "name": "stderr",
     "output_type": "stream",
     "text": [
      "\n",
      " 63%|██████▎   | 793/1261 [02:04<01:22,  5.70it/s]\u001b[A\n",
      " 63%|██████▎   | 794/1261 [02:04<01:26,  5.39it/s]\u001b[A\n",
      " 63%|██████▎   | 795/1261 [02:05<01:23,  5.57it/s]"
     ]
    },
    {
     "name": "stdout",
     "output_type": "stream",
     "text": [
      "This is right after the error\n",
      "This is right after the error\n"
     ]
    },
    {
     "name": "stderr",
     "output_type": "stream",
     "text": [
      "\u001b[A\n",
      " 63%|██████▎   | 796/1261 [02:05<01:18,  5.89it/s]\u001b[A"
     ]
    },
    {
     "name": "stdout",
     "output_type": "stream",
     "text": [
      "This is right after the error\n",
      "This is right after the error\n"
     ]
    },
    {
     "name": "stderr",
     "output_type": "stream",
     "text": [
      "\n",
      " 63%|██████▎   | 797/1261 [02:05<01:27,  5.30it/s]\u001b[A\n",
      " 63%|██████▎   | 798/1261 [02:05<01:24,  5.49it/s]\u001b[A\n",
      " 63%|██████▎   | 799/1261 [02:05<01:18,  5.88it/s]"
     ]
    },
    {
     "name": "stdout",
     "output_type": "stream",
     "text": [
      "This is right after the error\n",
      "This is right after the error\n"
     ]
    },
    {
     "name": "stderr",
     "output_type": "stream",
     "text": [
      "\u001b[A\n",
      " 63%|██████▎   | 800/1261 [02:05<01:14,  6.15it/s]\u001b[A\n",
      " 64%|██████▎   | 801/1261 [02:06<01:12,  6.38it/s]"
     ]
    },
    {
     "name": "stdout",
     "output_type": "stream",
     "text": [
      "This is right after the error\n",
      "This is right after the error\n"
     ]
    },
    {
     "name": "stderr",
     "output_type": "stream",
     "text": [
      "\u001b[A\n",
      " 64%|██████▎   | 802/1261 [02:06<01:11,  6.42it/s]\u001b[A\n",
      " 64%|██████▎   | 803/1261 [02:06<01:09,  6.55it/s]"
     ]
    },
    {
     "name": "stdout",
     "output_type": "stream",
     "text": [
      "This is right after the error\n",
      "This is right after the error\n"
     ]
    },
    {
     "name": "stderr",
     "output_type": "stream",
     "text": [
      "\u001b[A\n",
      " 64%|██████▍   | 804/1261 [02:06<01:09,  6.57it/s]\u001b[A\n",
      " 64%|██████▍   | 805/1261 [02:06<01:08,  6.67it/s]"
     ]
    },
    {
     "name": "stdout",
     "output_type": "stream",
     "text": [
      "This is right after the error\n",
      "This is right after the error\n"
     ]
    },
    {
     "name": "stderr",
     "output_type": "stream",
     "text": [
      "\u001b[A\n",
      " 64%|██████▍   | 806/1261 [02:06<01:08,  6.66it/s]\u001b[A\n",
      " 64%|██████▍   | 807/1261 [02:06<01:07,  6.69it/s]"
     ]
    },
    {
     "name": "stdout",
     "output_type": "stream",
     "text": [
      "This is right after the error\n",
      "This is right after the error\n"
     ]
    },
    {
     "name": "stderr",
     "output_type": "stream",
     "text": [
      "\u001b[A\n",
      " 64%|██████▍   | 808/1261 [02:07<01:07,  6.70it/s]\u001b[A\n",
      " 64%|██████▍   | 809/1261 [02:07<01:07,  6.74it/s]"
     ]
    },
    {
     "name": "stdout",
     "output_type": "stream",
     "text": [
      "This is right after the error\n",
      "This is right after the error\n"
     ]
    },
    {
     "name": "stderr",
     "output_type": "stream",
     "text": [
      "\u001b[A\n",
      " 64%|██████▍   | 810/1261 [02:07<01:06,  6.76it/s]\u001b[A\n",
      " 64%|██████▍   | 811/1261 [02:07<01:06,  6.81it/s]"
     ]
    },
    {
     "name": "stdout",
     "output_type": "stream",
     "text": [
      "This is right after the error\n",
      "This is right after the error\n"
     ]
    },
    {
     "name": "stderr",
     "output_type": "stream",
     "text": [
      "\u001b[A\n",
      " 64%|██████▍   | 812/1261 [02:07<01:06,  6.71it/s]\u001b[A\n",
      " 64%|██████▍   | 813/1261 [02:07<01:06,  6.71it/s]"
     ]
    },
    {
     "name": "stdout",
     "output_type": "stream",
     "text": [
      "This is right after the error\n",
      "This is right after the error\n"
     ]
    },
    {
     "name": "stderr",
     "output_type": "stream",
     "text": [
      "\u001b[A\n",
      " 65%|██████▍   | 814/1261 [02:08<01:08,  6.50it/s]\u001b[A\n",
      " 65%|██████▍   | 815/1261 [02:08<01:07,  6.62it/s]"
     ]
    },
    {
     "name": "stdout",
     "output_type": "stream",
     "text": [
      "This is right after the error\n",
      "This is right after the error\n"
     ]
    },
    {
     "name": "stderr",
     "output_type": "stream",
     "text": [
      "\u001b[A\n",
      " 65%|██████▍   | 816/1261 [02:08<01:07,  6.58it/s]\u001b[A"
     ]
    },
    {
     "name": "stdout",
     "output_type": "stream",
     "text": [
      "This is right after the error\n"
     ]
    },
    {
     "name": "stderr",
     "output_type": "stream",
     "text": [
      "\n",
      "\r",
      " 65%|██████▍   | 817/1261 [02:08<01:19,  5.62it/s]"
     ]
    },
    {
     "name": "stdout",
     "output_type": "stream",
     "text": [
      "This is right after the error\n",
      "This is right after the error\n"
     ]
    },
    {
     "name": "stderr",
     "output_type": "stream",
     "text": [
      "\u001b[A\n",
      " 65%|██████▍   | 818/1261 [02:08<01:16,  5.83it/s]\u001b[A\n",
      " 65%|██████▍   | 819/1261 [02:08<01:24,  5.26it/s]"
     ]
    },
    {
     "name": "stdout",
     "output_type": "stream",
     "text": [
      "This is right after the error\n",
      "This is right after the error\n"
     ]
    },
    {
     "name": "stderr",
     "output_type": "stream",
     "text": [
      "\u001b[A\n",
      " 65%|██████▌   | 820/1261 [02:09<01:19,  5.56it/s]\u001b[A\n",
      " 65%|██████▌   | 821/1261 [02:09<01:13,  5.96it/s]\u001b[A\n",
      " 65%|██████▌   | 822/1261 [02:09<01:11,  6.15it/s]"
     ]
    },
    {
     "name": "stdout",
     "output_type": "stream",
     "text": [
      "This is right after the error\n",
      "This is right after the error\n"
     ]
    },
    {
     "name": "stderr",
     "output_type": "stream",
     "text": [
      "\u001b[A\n",
      " 65%|██████▌   | 823/1261 [02:09<01:09,  6.33it/s]\u001b[A\n",
      " 65%|██████▌   | 824/1261 [02:09<01:08,  6.40it/s]"
     ]
    },
    {
     "name": "stdout",
     "output_type": "stream",
     "text": [
      "This is right after the error\n",
      "This is right after the error\n"
     ]
    },
    {
     "name": "stderr",
     "output_type": "stream",
     "text": [
      "\u001b[A\n",
      " 65%|██████▌   | 825/1261 [02:09<01:07,  6.49it/s]\u001b[A\n",
      " 66%|██████▌   | 826/1261 [02:10<01:06,  6.51it/s]"
     ]
    },
    {
     "name": "stdout",
     "output_type": "stream",
     "text": [
      "This is right after the error\n",
      "This is right after the error\n"
     ]
    },
    {
     "name": "stderr",
     "output_type": "stream",
     "text": [
      "\u001b[A\n",
      " 66%|██████▌   | 827/1261 [02:10<01:05,  6.64it/s]\u001b[A"
     ]
    },
    {
     "name": "stdout",
     "output_type": "stream",
     "text": [
      "This is right after the error\n"
     ]
    },
    {
     "name": "stderr",
     "output_type": "stream",
     "text": [
      "\n",
      " 66%|██████▌   | 828/1261 [02:10<01:19,  5.47it/s]\u001b[A\n",
      " 66%|██████▌   | 829/1261 [02:10<01:13,  5.86it/s]"
     ]
    },
    {
     "name": "stdout",
     "output_type": "stream",
     "text": [
      "This is right after the error\n",
      "This is right after the error\n"
     ]
    },
    {
     "name": "stderr",
     "output_type": "stream",
     "text": [
      "\u001b[A\n",
      " 66%|██████▌   | 830/1261 [02:10<01:11,  6.05it/s]\u001b[A\n",
      " 66%|██████▌   | 831/1261 [02:10<01:08,  6.29it/s]"
     ]
    },
    {
     "name": "stdout",
     "output_type": "stream",
     "text": [
      "This is right after the error\n",
      "This is right after the error\n"
     ]
    },
    {
     "name": "stderr",
     "output_type": "stream",
     "text": [
      "\u001b[A\n",
      " 66%|██████▌   | 832/1261 [02:11<01:07,  6.34it/s]\u001b[A\n",
      " 66%|██████▌   | 833/1261 [02:11<01:06,  6.43it/s]"
     ]
    },
    {
     "name": "stdout",
     "output_type": "stream",
     "text": [
      "This is right after the error\n",
      "This is right after the error\n"
     ]
    },
    {
     "name": "stderr",
     "output_type": "stream",
     "text": [
      "\u001b[A\n",
      " 66%|██████▌   | 834/1261 [02:11<01:06,  6.47it/s]\u001b[A\n",
      " 66%|██████▌   | 835/1261 [02:11<01:05,  6.54it/s]"
     ]
    },
    {
     "name": "stdout",
     "output_type": "stream",
     "text": [
      "This is right after the error\n",
      "This is right after the error\n"
     ]
    },
    {
     "name": "stderr",
     "output_type": "stream",
     "text": [
      "\u001b[A\n",
      " 66%|██████▋   | 836/1261 [02:11<01:05,  6.53it/s]\u001b[A\n",
      " 66%|██████▋   | 837/1261 [02:11<01:04,  6.59it/s]"
     ]
    },
    {
     "name": "stdout",
     "output_type": "stream",
     "text": [
      "This is right after the error\n",
      "This is right after the error\n"
     ]
    },
    {
     "name": "stderr",
     "output_type": "stream",
     "text": [
      "\u001b[A\n",
      " 66%|██████▋   | 838/1261 [02:11<01:03,  6.63it/s]\u001b[A\n",
      " 67%|██████▋   | 839/1261 [02:12<01:02,  6.74it/s]"
     ]
    },
    {
     "name": "stdout",
     "output_type": "stream",
     "text": [
      "This is right after the error\n",
      "This is right after the error\n"
     ]
    },
    {
     "name": "stderr",
     "output_type": "stream",
     "text": [
      "\u001b[A\n",
      " 67%|██████▋   | 840/1261 [02:12<01:03,  6.58it/s]\u001b[A\n",
      " 67%|██████▋   | 841/1261 [02:12<01:03,  6.64it/s]"
     ]
    },
    {
     "name": "stdout",
     "output_type": "stream",
     "text": [
      "This is right after the error\n",
      "This is right after the error\n"
     ]
    },
    {
     "name": "stderr",
     "output_type": "stream",
     "text": [
      "\u001b[A\n",
      " 67%|██████▋   | 842/1261 [02:12<01:03,  6.55it/s]\u001b[A\n",
      " 67%|██████▋   | 843/1261 [02:12<01:03,  6.61it/s]"
     ]
    },
    {
     "name": "stdout",
     "output_type": "stream",
     "text": [
      "This is right after the error\n",
      "This is right after the error\n"
     ]
    },
    {
     "name": "stderr",
     "output_type": "stream",
     "text": [
      "\u001b[A\n",
      " 67%|██████▋   | 844/1261 [02:12<01:03,  6.56it/s]\u001b[A\n",
      " 67%|██████▋   | 845/1261 [02:12<01:03,  6.54it/s]"
     ]
    },
    {
     "name": "stdout",
     "output_type": "stream",
     "text": [
      "This is right after the error\n",
      "This is right after the error\n"
     ]
    },
    {
     "name": "stderr",
     "output_type": "stream",
     "text": [
      "\u001b[A\n",
      " 67%|██████▋   | 846/1261 [02:13<01:03,  6.49it/s]\u001b[A\n",
      " 67%|██████▋   | 847/1261 [02:13<01:03,  6.57it/s]"
     ]
    },
    {
     "name": "stdout",
     "output_type": "stream",
     "text": [
      "This is right after the error\n",
      "This is right after the error\n"
     ]
    },
    {
     "name": "stderr",
     "output_type": "stream",
     "text": [
      "\u001b[A\n",
      " 67%|██████▋   | 848/1261 [02:13<01:03,  6.50it/s]\u001b[A\n",
      " 67%|██████▋   | 849/1261 [02:13<01:02,  6.61it/s]"
     ]
    },
    {
     "name": "stdout",
     "output_type": "stream",
     "text": [
      "This is right after the error\n",
      "This is right after the error\n"
     ]
    },
    {
     "name": "stderr",
     "output_type": "stream",
     "text": [
      "\u001b[A\n",
      " 67%|██████▋   | 850/1261 [02:13<01:02,  6.52it/s]\u001b[A\n",
      " 67%|██████▋   | 851/1261 [02:13<01:02,  6.51it/s]"
     ]
    },
    {
     "name": "stdout",
     "output_type": "stream",
     "text": [
      "This is right after the error\n",
      "This is right after the error\n"
     ]
    },
    {
     "name": "stderr",
     "output_type": "stream",
     "text": [
      "\u001b[A\n",
      " 68%|██████▊   | 852/1261 [02:14<01:02,  6.52it/s]\u001b[A\n",
      " 68%|██████▊   | 853/1261 [02:14<01:01,  6.64it/s]"
     ]
    },
    {
     "name": "stdout",
     "output_type": "stream",
     "text": [
      "This is right after the error\n",
      "This is right after the error\n"
     ]
    },
    {
     "name": "stderr",
     "output_type": "stream",
     "text": [
      "\u001b[A\n",
      " 68%|██████▊   | 854/1261 [02:14<01:02,  6.56it/s]\u001b[A\n",
      " 68%|██████▊   | 855/1261 [02:14<01:01,  6.61it/s]"
     ]
    },
    {
     "name": "stdout",
     "output_type": "stream",
     "text": [
      "This is right after the error\n",
      "This is right after the error\n"
     ]
    },
    {
     "name": "stderr",
     "output_type": "stream",
     "text": [
      "\u001b[A\n",
      " 68%|██████▊   | 856/1261 [02:14<01:01,  6.54it/s]\u001b[A\n",
      " 68%|██████▊   | 857/1261 [02:14<01:01,  6.53it/s]"
     ]
    },
    {
     "name": "stdout",
     "output_type": "stream",
     "text": [
      "This is right after the error\n",
      "This is right after the error\n"
     ]
    },
    {
     "name": "stderr",
     "output_type": "stream",
     "text": [
      "\u001b[A\n",
      " 68%|██████▊   | 858/1261 [02:14<01:01,  6.55it/s]\u001b[A\n",
      " 68%|██████▊   | 859/1261 [02:15<01:00,  6.63it/s]"
     ]
    },
    {
     "name": "stdout",
     "output_type": "stream",
     "text": [
      "This is right after the error\n",
      "This is right after the error\n"
     ]
    },
    {
     "name": "stderr",
     "output_type": "stream",
     "text": [
      "\u001b[A\n",
      " 68%|██████▊   | 860/1261 [02:15<01:00,  6.62it/s]\u001b[A\n",
      " 68%|██████▊   | 861/1261 [02:15<00:59,  6.71it/s]"
     ]
    },
    {
     "name": "stdout",
     "output_type": "stream",
     "text": [
      "This is right after the error\n",
      "This is right after the error\n"
     ]
    },
    {
     "name": "stderr",
     "output_type": "stream",
     "text": [
      "\u001b[A\n",
      " 68%|██████▊   | 862/1261 [02:15<01:00,  6.65it/s]\u001b[A\n",
      " 68%|██████▊   | 863/1261 [02:15<00:59,  6.68it/s]"
     ]
    },
    {
     "name": "stdout",
     "output_type": "stream",
     "text": [
      "This is right after the error\n",
      "This is right after the error\n"
     ]
    },
    {
     "name": "stderr",
     "output_type": "stream",
     "text": [
      "\u001b[A\n",
      " 69%|██████▊   | 864/1261 [02:15<00:59,  6.68it/s]\u001b[A\n",
      " 69%|██████▊   | 865/1261 [02:15<00:58,  6.73it/s]"
     ]
    },
    {
     "name": "stdout",
     "output_type": "stream",
     "text": [
      "This is right after the error\n",
      "This is right after the error\n"
     ]
    },
    {
     "name": "stderr",
     "output_type": "stream",
     "text": [
      "\u001b[A\n",
      " 69%|██████▊   | 866/1261 [02:16<00:59,  6.64it/s]\u001b[A\n",
      " 69%|██████▉   | 867/1261 [02:16<00:58,  6.74it/s]"
     ]
    },
    {
     "name": "stdout",
     "output_type": "stream",
     "text": [
      "This is right after the error\n",
      "This is right after the error\n"
     ]
    },
    {
     "name": "stderr",
     "output_type": "stream",
     "text": [
      "\u001b[A\n",
      " 69%|██████▉   | 868/1261 [02:16<00:59,  6.61it/s]\u001b[A\n",
      " 69%|██████▉   | 869/1261 [02:16<00:58,  6.70it/s]"
     ]
    },
    {
     "name": "stdout",
     "output_type": "stream",
     "text": [
      "This is right after the error\n",
      "This is right after the error\n"
     ]
    },
    {
     "name": "stderr",
     "output_type": "stream",
     "text": [
      "\u001b[A\n",
      " 69%|██████▉   | 870/1261 [02:16<00:58,  6.67it/s]\u001b[A\n",
      " 69%|██████▉   | 871/1261 [02:16<00:57,  6.80it/s]"
     ]
    },
    {
     "name": "stdout",
     "output_type": "stream",
     "text": [
      "This is right after the error\n",
      "This is right after the error\n"
     ]
    },
    {
     "name": "stderr",
     "output_type": "stream",
     "text": [
      "\u001b[A\n",
      " 69%|██████▉   | 872/1261 [02:17<01:10,  5.51it/s]"
     ]
    },
    {
     "name": "stdout",
     "output_type": "stream",
     "text": [
      "This is right after the error\n",
      "This is right after the error\n"
     ]
    },
    {
     "name": "stderr",
     "output_type": "stream",
     "text": [
      "\u001b[A\n",
      " 69%|██████▉   | 873/1261 [02:17<01:09,  5.60it/s]\u001b[A\n",
      " 69%|██████▉   | 874/1261 [02:17<01:06,  5.80it/s]\u001b[A"
     ]
    },
    {
     "name": "stdout",
     "output_type": "stream",
     "text": [
      "This is right after the error\n"
     ]
    },
    {
     "name": "stderr",
     "output_type": "stream",
     "text": [
      "\n",
      "\r",
      " 69%|██████▉   | 875/1261 [02:17<01:15,  5.15it/s]"
     ]
    },
    {
     "name": "stdout",
     "output_type": "stream",
     "text": [
      "This is right after the error\n",
      "This is right after the error\n"
     ]
    },
    {
     "name": "stderr",
     "output_type": "stream",
     "text": [
      "\u001b[A\n",
      " 69%|██████▉   | 876/1261 [02:17<01:11,  5.38it/s]\u001b[A\n",
      " 70%|██████▉   | 877/1261 [02:18<01:07,  5.69it/s]\u001b[A\n",
      " 70%|██████▉   | 878/1261 [02:18<01:05,  5.85it/s]"
     ]
    },
    {
     "name": "stdout",
     "output_type": "stream",
     "text": [
      "This is right after the error\n",
      "This is right after the error\n"
     ]
    },
    {
     "name": "stderr",
     "output_type": "stream",
     "text": [
      "\u001b[A\n",
      " 70%|██████▉   | 879/1261 [02:18<01:03,  5.99it/s]\u001b[A\n",
      " 70%|██████▉   | 880/1261 [02:18<01:02,  6.14it/s]"
     ]
    },
    {
     "name": "stdout",
     "output_type": "stream",
     "text": [
      "This is right after the error\n",
      "This is right after the error\n"
     ]
    },
    {
     "name": "stderr",
     "output_type": "stream",
     "text": [
      "\u001b[A\n",
      " 70%|██████▉   | 881/1261 [02:18<01:00,  6.24it/s]\u001b[A\n",
      " 70%|██████▉   | 882/1261 [02:18<01:00,  6.30it/s]"
     ]
    },
    {
     "name": "stdout",
     "output_type": "stream",
     "text": [
      "This is right after the error\n",
      "This is right after the error\n"
     ]
    },
    {
     "name": "stderr",
     "output_type": "stream",
     "text": [
      "\u001b[A\n",
      " 70%|███████   | 883/1261 [02:18<00:59,  6.37it/s]\u001b[A\n",
      " 70%|███████   | 884/1261 [02:19<00:58,  6.49it/s]"
     ]
    },
    {
     "name": "stdout",
     "output_type": "stream",
     "text": [
      "This is right after the error\n",
      "This is right after the error\n"
     ]
    },
    {
     "name": "stderr",
     "output_type": "stream",
     "text": [
      "\u001b[A\n",
      " 70%|███████   | 885/1261 [02:19<01:00,  6.24it/s]\u001b[A\n",
      " 70%|███████   | 886/1261 [02:19<00:59,  6.32it/s]"
     ]
    },
    {
     "name": "stdout",
     "output_type": "stream",
     "text": [
      "This is right after the error\n",
      "This is right after the error\n"
     ]
    },
    {
     "name": "stderr",
     "output_type": "stream",
     "text": [
      "\u001b[A\n",
      " 70%|███████   | 887/1261 [02:19<00:59,  6.33it/s]\u001b[A"
     ]
    },
    {
     "name": "stdout",
     "output_type": "stream",
     "text": [
      "This is right after the error\n"
     ]
    },
    {
     "name": "stderr",
     "output_type": "stream",
     "text": [
      "\n",
      " 70%|███████   | 888/1261 [02:19<01:10,  5.29it/s]\u001b[A\n",
      " 70%|███████   | 889/1261 [02:20<01:05,  5.65it/s]"
     ]
    },
    {
     "name": "stdout",
     "output_type": "stream",
     "text": [
      "This is right after the error\n",
      "This is right after the error\n"
     ]
    },
    {
     "name": "stderr",
     "output_type": "stream",
     "text": [
      "\u001b[A\n",
      " 71%|███████   | 890/1261 [02:20<01:06,  5.58it/s]\u001b[A"
     ]
    },
    {
     "name": "stdout",
     "output_type": "stream",
     "text": [
      "This is right after the error\n"
     ]
    },
    {
     "name": "stderr",
     "output_type": "stream",
     "text": [
      "\n",
      " 71%|███████   | 891/1261 [02:20<01:07,  5.46it/s]\u001b[A\n",
      " 71%|███████   | 892/1261 [02:20<01:04,  5.74it/s]"
     ]
    },
    {
     "name": "stdout",
     "output_type": "stream",
     "text": [
      "This is right after the error\n",
      "This is right after the error\n"
     ]
    },
    {
     "name": "stderr",
     "output_type": "stream",
     "text": [
      "\u001b[A\n",
      " 71%|███████   | 893/1261 [02:20<01:06,  5.50it/s]"
     ]
    },
    {
     "name": "stdout",
     "output_type": "stream",
     "text": [
      "This is right after the error\n"
     ]
    },
    {
     "name": "stderr",
     "output_type": "stream",
     "text": [
      "\u001b[A\n",
      " 71%|███████   | 894/1261 [02:20<01:10,  5.22it/s]\u001b[A\n",
      " 71%|███████   | 895/1261 [02:21<01:05,  5.58it/s]"
     ]
    },
    {
     "name": "stdout",
     "output_type": "stream",
     "text": [
      "This is right after the error\n",
      "This is right after the error\n"
     ]
    },
    {
     "name": "stderr",
     "output_type": "stream",
     "text": [
      "\u001b[A\n",
      " 71%|███████   | 896/1261 [02:21<01:02,  5.83it/s]\u001b[A\n",
      " 71%|███████   | 897/1261 [02:21<01:00,  6.03it/s]"
     ]
    },
    {
     "name": "stdout",
     "output_type": "stream",
     "text": [
      "This is right after the error\n",
      "This is right after the error\n"
     ]
    },
    {
     "name": "stderr",
     "output_type": "stream",
     "text": [
      "\u001b[A\n",
      " 71%|███████   | 898/1261 [02:21<00:58,  6.18it/s]\u001b[A\n",
      " 71%|███████▏  | 899/1261 [02:21<00:57,  6.33it/s]"
     ]
    },
    {
     "name": "stdout",
     "output_type": "stream",
     "text": [
      "This is right after the error\n",
      "This is right after the error\n"
     ]
    },
    {
     "name": "stderr",
     "output_type": "stream",
     "text": [
      "\u001b[A\n",
      " 71%|███████▏  | 900/1261 [02:21<00:56,  6.41it/s]\u001b[A\n",
      " 71%|███████▏  | 901/1261 [02:22<00:55,  6.47it/s]"
     ]
    },
    {
     "name": "stdout",
     "output_type": "stream",
     "text": [
      "This is right after the error\n",
      "This is right after the error\n"
     ]
    },
    {
     "name": "stderr",
     "output_type": "stream",
     "text": [
      "\u001b[A\n",
      " 72%|███████▏  | 902/1261 [02:22<00:55,  6.48it/s]\u001b[A\n",
      " 72%|███████▏  | 903/1261 [02:22<00:55,  6.50it/s]"
     ]
    },
    {
     "name": "stdout",
     "output_type": "stream",
     "text": [
      "This is right after the error\n",
      "This is right after the error\n"
     ]
    },
    {
     "name": "stderr",
     "output_type": "stream",
     "text": [
      "\u001b[A\n",
      " 72%|███████▏  | 904/1261 [02:22<00:55,  6.48it/s]\u001b[A\n",
      " 72%|███████▏  | 905/1261 [02:22<00:54,  6.48it/s]"
     ]
    },
    {
     "name": "stdout",
     "output_type": "stream",
     "text": [
      "This is right after the error\n",
      "This is right after the error\n"
     ]
    },
    {
     "name": "stderr",
     "output_type": "stream",
     "text": [
      "\u001b[A\n",
      " 72%|███████▏  | 906/1261 [02:22<00:54,  6.49it/s]\u001b[A\n",
      " 72%|███████▏  | 907/1261 [02:22<00:54,  6.50it/s]"
     ]
    },
    {
     "name": "stdout",
     "output_type": "stream",
     "text": [
      "This is right after the error\n",
      "This is right after the error\n"
     ]
    },
    {
     "name": "stderr",
     "output_type": "stream",
     "text": [
      "\u001b[A\n",
      " 72%|███████▏  | 908/1261 [02:23<00:54,  6.49it/s]\u001b[A"
     ]
    },
    {
     "name": "stdout",
     "output_type": "stream",
     "text": [
      "This is right after the error\n",
      "This is right after the error\n"
     ]
    },
    {
     "name": "stderr",
     "output_type": "stream",
     "text": [
      "\n",
      " 72%|███████▏  | 909/1261 [02:23<01:02,  5.67it/s]\u001b[A\n",
      " 72%|███████▏  | 910/1261 [02:23<01:03,  5.54it/s]\u001b[A\n",
      " 72%|███████▏  | 911/1261 [02:23<00:59,  5.85it/s]"
     ]
    },
    {
     "name": "stdout",
     "output_type": "stream",
     "text": [
      "This is right after the error\n",
      "This is right after the error\n"
     ]
    },
    {
     "name": "stderr",
     "output_type": "stream",
     "text": [
      "\u001b[A\n",
      " 72%|███████▏  | 912/1261 [02:23<00:57,  6.03it/s]\u001b[A\n",
      " 72%|███████▏  | 913/1261 [02:23<00:56,  6.11it/s]"
     ]
    },
    {
     "name": "stdout",
     "output_type": "stream",
     "text": [
      "This is right after the error\n",
      "This is right after the error\n"
     ]
    },
    {
     "name": "stderr",
     "output_type": "stream",
     "text": [
      "\u001b[A\n",
      " 72%|███████▏  | 914/1261 [02:24<00:56,  6.14it/s]\u001b[A\n",
      " 73%|███████▎  | 915/1261 [02:24<00:55,  6.19it/s]"
     ]
    },
    {
     "name": "stdout",
     "output_type": "stream",
     "text": [
      "This is right after the error\n",
      "This is right after the error\n"
     ]
    },
    {
     "name": "stderr",
     "output_type": "stream",
     "text": [
      "\u001b[A\n",
      " 73%|███████▎  | 916/1261 [02:24<00:54,  6.28it/s]\u001b[A\n",
      " 73%|███████▎  | 917/1261 [02:24<00:54,  6.36it/s]"
     ]
    },
    {
     "name": "stdout",
     "output_type": "stream",
     "text": [
      "This is right after the error\n",
      "This is right after the error\n"
     ]
    },
    {
     "name": "stderr",
     "output_type": "stream",
     "text": [
      "\u001b[A\n",
      " 73%|███████▎  | 918/1261 [02:24<00:53,  6.40it/s]\u001b[A\n",
      " 73%|███████▎  | 919/1261 [02:24<00:52,  6.57it/s]"
     ]
    },
    {
     "name": "stdout",
     "output_type": "stream",
     "text": [
      "This is right after the error\n",
      "This is right after the error\n"
     ]
    },
    {
     "name": "stderr",
     "output_type": "stream",
     "text": [
      "\u001b[A\n",
      " 73%|███████▎  | 920/1261 [02:25<00:51,  6.62it/s]\u001b[A\n",
      " 73%|███████▎  | 921/1261 [02:25<00:51,  6.65it/s]"
     ]
    },
    {
     "name": "stdout",
     "output_type": "stream",
     "text": [
      "This is right after the error\n",
      "This is right after the error\n"
     ]
    },
    {
     "name": "stderr",
     "output_type": "stream",
     "text": [
      "\u001b[A\n",
      " 73%|███████▎  | 922/1261 [02:25<00:51,  6.60it/s]\u001b[A\n",
      " 73%|███████▎  | 923/1261 [02:25<00:51,  6.63it/s]"
     ]
    },
    {
     "name": "stdout",
     "output_type": "stream",
     "text": [
      "This is right after the error\n",
      "This is right after the error\n"
     ]
    },
    {
     "name": "stderr",
     "output_type": "stream",
     "text": [
      "\u001b[A\n",
      " 73%|███████▎  | 924/1261 [02:25<00:50,  6.66it/s]\u001b[A\n",
      " 73%|███████▎  | 925/1261 [02:25<00:49,  6.72it/s]"
     ]
    },
    {
     "name": "stdout",
     "output_type": "stream",
     "text": [
      "This is right after the error\n",
      "This is right after the error\n"
     ]
    },
    {
     "name": "stderr",
     "output_type": "stream",
     "text": [
      "\u001b[A\n",
      " 73%|███████▎  | 926/1261 [02:25<00:49,  6.74it/s]\u001b[A"
     ]
    },
    {
     "name": "stdout",
     "output_type": "stream",
     "text": [
      "This is right after the error\n",
      "This is right after the error\n"
     ]
    },
    {
     "name": "stderr",
     "output_type": "stream",
     "text": [
      "\n",
      " 74%|███████▎  | 927/1261 [02:26<00:57,  5.85it/s]\u001b[A\n",
      " 74%|███████▎  | 928/1261 [02:26<00:58,  5.66it/s]\u001b[A\n",
      " 74%|███████▎  | 929/1261 [02:26<00:57,  5.81it/s]"
     ]
    },
    {
     "name": "stdout",
     "output_type": "stream",
     "text": [
      "This is right after the error\n",
      "This is right after the error\n"
     ]
    },
    {
     "name": "stderr",
     "output_type": "stream",
     "text": [
      "\u001b[A\n",
      " 74%|███████▍  | 930/1261 [02:26<00:56,  5.85it/s]\u001b[A\n",
      " 74%|███████▍  | 931/1261 [02:26<00:55,  5.95it/s]"
     ]
    },
    {
     "name": "stdout",
     "output_type": "stream",
     "text": [
      "This is right after the error\n",
      "This is right after the error\n"
     ]
    },
    {
     "name": "stderr",
     "output_type": "stream",
     "text": [
      "\u001b[A\n",
      " 74%|███████▍  | 932/1261 [02:27<00:56,  5.86it/s]\u001b[A\n",
      " 74%|███████▍  | 933/1261 [02:27<00:55,  5.93it/s]"
     ]
    },
    {
     "name": "stdout",
     "output_type": "stream",
     "text": [
      "This is right after the error\n",
      "This is right after the error\n"
     ]
    },
    {
     "name": "stderr",
     "output_type": "stream",
     "text": [
      "\u001b[A\n",
      " 74%|███████▍  | 934/1261 [02:27<00:59,  5.48it/s]"
     ]
    },
    {
     "name": "stdout",
     "output_type": "stream",
     "text": [
      "This is right after the error\n"
     ]
    },
    {
     "name": "stderr",
     "output_type": "stream",
     "text": [
      "\u001b[A\n",
      " 74%|███████▍  | 935/1261 [02:27<01:01,  5.27it/s]\u001b[A\n",
      " 74%|███████▍  | 936/1261 [02:27<00:58,  5.60it/s]"
     ]
    },
    {
     "name": "stdout",
     "output_type": "stream",
     "text": [
      "This is right after the error\n",
      "This is right after the error\n"
     ]
    },
    {
     "name": "stderr",
     "output_type": "stream",
     "text": [
      "\u001b[A\n",
      " 74%|███████▍  | 937/1261 [02:27<00:55,  5.88it/s]\u001b[A"
     ]
    },
    {
     "name": "stdout",
     "output_type": "stream",
     "text": [
      "This is right after the error\n",
      "This is right after the error\n"
     ]
    },
    {
     "name": "stderr",
     "output_type": "stream",
     "text": [
      "\n",
      " 74%|███████▍  | 938/1261 [02:28<00:55,  5.83it/s]\u001b[A\n",
      " 74%|███████▍  | 939/1261 [02:28<00:54,  5.87it/s]\u001b[A\n",
      " 75%|███████▍  | 940/1261 [02:28<00:54,  5.94it/s]"
     ]
    },
    {
     "name": "stdout",
     "output_type": "stream",
     "text": [
      "This is right after the error\n",
      "This is right after the error\n"
     ]
    },
    {
     "name": "stderr",
     "output_type": "stream",
     "text": [
      "\u001b[A\n",
      " 75%|███████▍  | 941/1261 [02:28<00:53,  6.04it/s]\u001b[A\n",
      " 75%|███████▍  | 942/1261 [02:28<00:52,  6.09it/s]"
     ]
    },
    {
     "name": "stdout",
     "output_type": "stream",
     "text": [
      "This is right after the error\n",
      "This is right after the error\n"
     ]
    },
    {
     "name": "stderr",
     "output_type": "stream",
     "text": [
      "\u001b[A\n",
      " 75%|███████▍  | 943/1261 [02:28<00:52,  6.11it/s]\u001b[A"
     ]
    },
    {
     "name": "stdout",
     "output_type": "stream",
     "text": [
      "This is right after the error\n",
      "This is right after the error\n"
     ]
    },
    {
     "name": "stderr",
     "output_type": "stream",
     "text": [
      "\n",
      " 75%|███████▍  | 944/1261 [02:29<00:52,  6.08it/s]\u001b[A\n",
      " 75%|███████▍  | 945/1261 [02:29<00:52,  6.03it/s]\u001b[A"
     ]
    },
    {
     "name": "stdout",
     "output_type": "stream",
     "text": [
      "This is right after the error\n",
      "This is right after the error\n"
     ]
    },
    {
     "name": "stderr",
     "output_type": "stream",
     "text": [
      "\n",
      " 75%|███████▌  | 946/1261 [02:29<00:53,  5.86it/s]\u001b[A\n",
      " 75%|███████▌  | 947/1261 [02:29<00:52,  5.93it/s]\u001b[A"
     ]
    },
    {
     "name": "stdout",
     "output_type": "stream",
     "text": [
      "This is right after the error\n",
      "This is right after the error\n"
     ]
    },
    {
     "name": "stderr",
     "output_type": "stream",
     "text": [
      "\n",
      " 75%|███████▌  | 948/1261 [02:29<00:53,  5.80it/s]\u001b[A\n",
      " 75%|███████▌  | 949/1261 [02:29<00:54,  5.69it/s]\u001b[A"
     ]
    },
    {
     "name": "stdout",
     "output_type": "stream",
     "text": [
      "This is right after the error\n",
      "This is right after the error\n"
     ]
    },
    {
     "name": "stderr",
     "output_type": "stream",
     "text": [
      "\n",
      " 75%|███████▌  | 950/1261 [02:30<00:54,  5.72it/s]\u001b[A\n",
      " 75%|███████▌  | 951/1261 [02:30<00:55,  5.63it/s]\u001b[A"
     ]
    },
    {
     "name": "stdout",
     "output_type": "stream",
     "text": [
      "This is right after the error\n",
      "This is right after the error\n"
     ]
    },
    {
     "name": "stderr",
     "output_type": "stream",
     "text": [
      "\n",
      " 75%|███████▌  | 952/1261 [02:30<00:55,  5.57it/s]\u001b[A\n",
      " 76%|███████▌  | 953/1261 [02:30<00:54,  5.62it/s]\u001b[A"
     ]
    },
    {
     "name": "stdout",
     "output_type": "stream",
     "text": [
      "This is right after the error\n",
      "This is right after the error\n"
     ]
    },
    {
     "name": "stderr",
     "output_type": "stream",
     "text": [
      "\n",
      " 76%|███████▌  | 954/1261 [02:30<00:53,  5.69it/s]\u001b[A\n",
      " 76%|███████▌  | 955/1261 [02:31<00:54,  5.64it/s]\u001b[A"
     ]
    },
    {
     "name": "stdout",
     "output_type": "stream",
     "text": [
      "This is right after the error\n",
      "This is right after the error\n"
     ]
    },
    {
     "name": "stderr",
     "output_type": "stream",
     "text": [
      "\n",
      " 76%|███████▌  | 956/1261 [02:31<00:54,  5.62it/s]\u001b[A\n",
      " 76%|███████▌  | 957/1261 [02:31<00:54,  5.59it/s]\u001b[A"
     ]
    },
    {
     "name": "stdout",
     "output_type": "stream",
     "text": [
      "This is right after the error\n",
      "This is right after the error\n"
     ]
    },
    {
     "name": "stderr",
     "output_type": "stream",
     "text": [
      "\n",
      " 76%|███████▌  | 958/1261 [02:31<00:53,  5.67it/s]\u001b[A\n",
      " 76%|███████▌  | 959/1261 [02:31<00:52,  5.75it/s]\u001b[A"
     ]
    },
    {
     "name": "stdout",
     "output_type": "stream",
     "text": [
      "This is right after the error\n",
      "This is right after the error\n"
     ]
    },
    {
     "name": "stderr",
     "output_type": "stream",
     "text": [
      "\n",
      " 76%|███████▌  | 960/1261 [02:31<00:52,  5.71it/s]\u001b[A\n",
      " 76%|███████▌  | 961/1261 [02:32<00:53,  5.57it/s]\u001b[A"
     ]
    },
    {
     "name": "stdout",
     "output_type": "stream",
     "text": [
      "This is right after the error\n"
     ]
    },
    {
     "name": "stderr",
     "output_type": "stream",
     "text": [
      "\n",
      "\r",
      " 76%|███████▋  | 962/1261 [02:32<00:56,  5.25it/s]"
     ]
    },
    {
     "name": "stdout",
     "output_type": "stream",
     "text": [
      "This is right after the error\n",
      "This is right after the error"
     ]
    },
    {
     "name": "stderr",
     "output_type": "stream",
     "text": [
      "\u001b[A\n",
      " 76%|███████▋  | 963/1261 [02:32<00:56,  5.30it/s]\u001b[A\n",
      " 76%|███████▋  | 964/1261 [02:32<00:54,  5.46it/s]\u001b[A"
     ]
    },
    {
     "name": "stdout",
     "output_type": "stream",
     "text": [
      "\n",
      "This is right after the error\n",
      "This is right after the error\n"
     ]
    },
    {
     "name": "stderr",
     "output_type": "stream",
     "text": [
      "\n",
      " 77%|███████▋  | 965/1261 [02:32<00:52,  5.61it/s]\u001b[A\n",
      " 77%|███████▋  | 966/1261 [02:32<00:51,  5.72it/s]\u001b[A"
     ]
    },
    {
     "name": "stdout",
     "output_type": "stream",
     "text": [
      "This is right after the error\n"
     ]
    },
    {
     "name": "stderr",
     "output_type": "stream",
     "text": [
      "\n",
      "\r",
      " 77%|███████▋  | 967/1261 [02:33<00:59,  4.93it/s]"
     ]
    },
    {
     "name": "stdout",
     "output_type": "stream",
     "text": [
      "This is right after the error\n",
      "This is right after the error\n"
     ]
    },
    {
     "name": "stderr",
     "output_type": "stream",
     "text": [
      "\u001b[A\n",
      " 77%|███████▋  | 968/1261 [02:33<00:55,  5.23it/s]\u001b[A\n",
      " 77%|███████▋  | 969/1261 [02:33<00:53,  5.48it/s]\u001b[A"
     ]
    },
    {
     "name": "stdout",
     "output_type": "stream",
     "text": [
      "This is right after the error\n",
      "This is right after the error\n"
     ]
    },
    {
     "name": "stderr",
     "output_type": "stream",
     "text": [
      "\n",
      " 77%|███████▋  | 970/1261 [02:33<00:52,  5.58it/s]\u001b[A\n",
      " 77%|███████▋  | 971/1261 [02:33<00:51,  5.68it/s]\u001b[A\n",
      " 77%|███████▋  | 972/1261 [02:34<00:49,  5.78it/s]"
     ]
    },
    {
     "name": "stdout",
     "output_type": "stream",
     "text": [
      "This is right after the error\n",
      "This is right after the error\n"
     ]
    },
    {
     "name": "stderr",
     "output_type": "stream",
     "text": [
      "\u001b[A\n",
      " 77%|███████▋  | 973/1261 [02:34<00:49,  5.81it/s]\u001b[A"
     ]
    },
    {
     "name": "stdout",
     "output_type": "stream",
     "text": [
      "This is right after the error\n",
      "This is right after the error\n"
     ]
    },
    {
     "name": "stderr",
     "output_type": "stream",
     "text": [
      "\n",
      " 77%|███████▋  | 974/1261 [02:34<00:49,  5.76it/s]\u001b[A\n",
      " 77%|███████▋  | 975/1261 [02:34<00:49,  5.84it/s]\u001b[A\n",
      " 77%|███████▋  | 976/1261 [02:34<00:48,  5.92it/s]"
     ]
    },
    {
     "name": "stdout",
     "output_type": "stream",
     "text": [
      "This is right after the error\n",
      "This is right after the error\n"
     ]
    },
    {
     "name": "stderr",
     "output_type": "stream",
     "text": [
      "\u001b[A\n",
      " 77%|███████▋  | 977/1261 [02:34<00:48,  5.90it/s]\u001b[A\n",
      " 78%|███████▊  | 978/1261 [02:35<00:47,  5.98it/s]"
     ]
    },
    {
     "name": "stdout",
     "output_type": "stream",
     "text": [
      "This is right after the error\n",
      "This is right after the error\n"
     ]
    },
    {
     "name": "stderr",
     "output_type": "stream",
     "text": [
      "\u001b[A\n",
      " 78%|███████▊  | 979/1261 [02:35<00:47,  5.98it/s]\u001b[A\n",
      " 78%|███████▊  | 980/1261 [02:35<00:46,  6.03it/s]"
     ]
    },
    {
     "name": "stdout",
     "output_type": "stream",
     "text": [
      "This is right after the error\n",
      "This is right after the error\n"
     ]
    },
    {
     "name": "stderr",
     "output_type": "stream",
     "text": [
      "\u001b[A\n",
      " 78%|███████▊  | 981/1261 [02:35<00:46,  6.02it/s]\u001b[A"
     ]
    },
    {
     "name": "stdout",
     "output_type": "stream",
     "text": [
      "This is right after the error\n",
      "This is right after the error\n"
     ]
    },
    {
     "name": "stderr",
     "output_type": "stream",
     "text": [
      "\n",
      " 78%|███████▊  | 982/1261 [02:35<00:46,  5.95it/s]\u001b[A\n",
      " 78%|███████▊  | 983/1261 [02:35<00:47,  5.90it/s]\u001b[A"
     ]
    },
    {
     "name": "stdout",
     "output_type": "stream",
     "text": [
      "This is right after the error\n",
      "This is right after the error\n"
     ]
    },
    {
     "name": "stderr",
     "output_type": "stream",
     "text": [
      "\n",
      " 78%|███████▊  | 984/1261 [02:36<00:47,  5.88it/s]\u001b[A\n",
      " 78%|███████▊  | 985/1261 [02:36<00:46,  6.00it/s]\u001b[A"
     ]
    },
    {
     "name": "stdout",
     "output_type": "stream",
     "text": [
      "This is right after the error\n",
      "This is right after the error\n"
     ]
    },
    {
     "name": "stderr",
     "output_type": "stream",
     "text": [
      "\n",
      " 78%|███████▊  | 986/1261 [02:36<00:46,  5.96it/s]\u001b[A\n",
      " 78%|███████▊  | 987/1261 [02:36<00:46,  5.91it/s]\u001b[A\n",
      " 78%|███████▊  | 988/1261 [02:36<00:45,  5.96it/s]"
     ]
    },
    {
     "name": "stdout",
     "output_type": "stream",
     "text": [
      "This is right after the error\n",
      "This is right after the error\n"
     ]
    },
    {
     "name": "stderr",
     "output_type": "stream",
     "text": [
      "\u001b[A\n",
      " 78%|███████▊  | 989/1261 [02:36<00:45,  5.99it/s]\u001b[A"
     ]
    },
    {
     "name": "stdout",
     "output_type": "stream",
     "text": [
      "This is right after the error\n",
      "This is right after the error\n"
     ]
    },
    {
     "name": "stderr",
     "output_type": "stream",
     "text": [
      "\n",
      " 79%|███████▊  | 990/1261 [02:37<00:45,  5.98it/s]\u001b[A\n",
      " 79%|███████▊  | 991/1261 [02:37<00:45,  5.91it/s]\u001b[A\n",
      " 79%|███████▊  | 992/1261 [02:37<00:45,  5.96it/s]"
     ]
    },
    {
     "name": "stdout",
     "output_type": "stream",
     "text": [
      "This is right after the error\n",
      "This is right after the error\n"
     ]
    },
    {
     "name": "stderr",
     "output_type": "stream",
     "text": [
      "\u001b[A\n",
      " 79%|███████▊  | 993/1261 [02:37<00:46,  5.81it/s]\u001b[A"
     ]
    },
    {
     "name": "stdout",
     "output_type": "stream",
     "text": [
      "This is right after the error\n",
      "This is right after the error\n"
     ]
    },
    {
     "name": "stderr",
     "output_type": "stream",
     "text": [
      "\n",
      " 79%|███████▉  | 994/1261 [02:37<00:45,  5.90it/s]\u001b[A\n",
      " 79%|███████▉  | 995/1261 [02:37<00:45,  5.82it/s]\u001b[A"
     ]
    },
    {
     "name": "stdout",
     "output_type": "stream",
     "text": [
      "This is right after the error\n",
      "This is right after the error\n"
     ]
    },
    {
     "name": "stderr",
     "output_type": "stream",
     "text": [
      "\n",
      " 79%|███████▉  | 996/1261 [02:38<00:46,  5.71it/s]\u001b[A\n",
      " 79%|███████▉  | 997/1261 [02:38<00:46,  5.66it/s]\u001b[A"
     ]
    },
    {
     "name": "stdout",
     "output_type": "stream",
     "text": [
      "This is right after the error\n",
      "This is right after the error\n"
     ]
    },
    {
     "name": "stderr",
     "output_type": "stream",
     "text": [
      "\n",
      " 79%|███████▉  | 998/1261 [02:38<00:46,  5.62it/s]\u001b[A\n",
      " 79%|███████▉  | 999/1261 [02:38<00:46,  5.66it/s]\u001b[A"
     ]
    },
    {
     "name": "stdout",
     "output_type": "stream",
     "text": [
      "This is right after the error\n",
      "This is right after the error\n"
     ]
    },
    {
     "name": "stderr",
     "output_type": "stream",
     "text": [
      "\n",
      " 79%|███████▉  | 1000/1261 [02:38<00:45,  5.74it/s]\u001b[A\n",
      " 79%|███████▉  | 1001/1261 [02:39<00:44,  5.80it/s]\u001b[A"
     ]
    },
    {
     "name": "stdout",
     "output_type": "stream",
     "text": [
      "This is right after the error\n",
      "This is right after the error\n"
     ]
    },
    {
     "name": "stderr",
     "output_type": "stream",
     "text": [
      "\n",
      " 79%|███████▉  | 1002/1261 [02:39<00:44,  5.86it/s]\u001b[A\n",
      " 80%|███████▉  | 1003/1261 [02:39<00:42,  6.03it/s]\u001b[A\n",
      " 80%|███████▉  | 1004/1261 [02:39<00:41,  6.17it/s]"
     ]
    },
    {
     "name": "stdout",
     "output_type": "stream",
     "text": [
      "This is right after the error\n",
      "This is right after the error\n"
     ]
    },
    {
     "name": "stderr",
     "output_type": "stream",
     "text": [
      "\u001b[A\n",
      " 80%|███████▉  | 1005/1261 [02:39<00:41,  6.20it/s]\u001b[A"
     ]
    },
    {
     "name": "stdout",
     "output_type": "stream",
     "text": [
      "This is right after the error\n",
      "This is right after the error\n"
     ]
    },
    {
     "name": "stderr",
     "output_type": "stream",
     "text": [
      "\n",
      " 80%|███████▉  | 1006/1261 [02:39<00:42,  6.04it/s]\u001b[A\n",
      " 80%|███████▉  | 1007/1261 [02:40<00:42,  5.97it/s]\u001b[A"
     ]
    },
    {
     "name": "stdout",
     "output_type": "stream",
     "text": [
      "This is right after the error\n",
      "This is right after the error\n"
     ]
    },
    {
     "name": "stderr",
     "output_type": "stream",
     "text": [
      "\n",
      " 80%|███████▉  | 1008/1261 [02:40<00:43,  5.77it/s]\u001b[A\n",
      " 80%|████████  | 1009/1261 [02:40<00:44,  5.66it/s]\u001b[A"
     ]
    },
    {
     "name": "stdout",
     "output_type": "stream",
     "text": [
      "This is right after the error\n",
      "This is right after the error\n"
     ]
    },
    {
     "name": "stderr",
     "output_type": "stream",
     "text": [
      "\n",
      " 80%|████████  | 1010/1261 [02:40<00:44,  5.58it/s]\u001b[A\n",
      " 80%|████████  | 1011/1261 [02:40<00:45,  5.51it/s]\u001b[A"
     ]
    },
    {
     "name": "stdout",
     "output_type": "stream",
     "text": [
      "This is right after the error\n",
      "This is right after the error\n"
     ]
    },
    {
     "name": "stderr",
     "output_type": "stream",
     "text": [
      "\n",
      " 80%|████████  | 1012/1261 [02:40<00:45,  5.51it/s]\u001b[A\n",
      " 80%|████████  | 1013/1261 [02:41<00:44,  5.57it/s]\u001b[A"
     ]
    },
    {
     "name": "stdout",
     "output_type": "stream",
     "text": [
      "This is right after the error\n",
      "This is right after the error\n"
     ]
    },
    {
     "name": "stderr",
     "output_type": "stream",
     "text": [
      "\n",
      " 80%|████████  | 1014/1261 [02:41<00:44,  5.59it/s]\u001b[A\n",
      " 80%|████████  | 1015/1261 [02:41<00:43,  5.63it/s]\u001b[A"
     ]
    },
    {
     "name": "stdout",
     "output_type": "stream",
     "text": [
      "This is right after the error\n",
      "This is right after the error\n"
     ]
    },
    {
     "name": "stderr",
     "output_type": "stream",
     "text": [
      "\n",
      " 81%|████████  | 1016/1261 [02:41<00:43,  5.60it/s]\u001b[A\n",
      " 81%|████████  | 1017/1261 [02:41<00:43,  5.56it/s]\u001b[A"
     ]
    },
    {
     "name": "stdout",
     "output_type": "stream",
     "text": [
      "This is right after the error\n",
      "This is right after the error\n"
     ]
    },
    {
     "name": "stderr",
     "output_type": "stream",
     "text": [
      "\n",
      " 81%|████████  | 1018/1261 [02:42<00:43,  5.53it/s]\u001b[A\n",
      " 81%|████████  | 1019/1261 [02:42<00:43,  5.55it/s]\u001b[A"
     ]
    },
    {
     "name": "stdout",
     "output_type": "stream",
     "text": [
      "This is right after the error\n",
      "This is right after the error\n"
     ]
    },
    {
     "name": "stderr",
     "output_type": "stream",
     "text": [
      "\n",
      " 81%|████████  | 1020/1261 [02:42<00:43,  5.52it/s]\u001b[A\n",
      " 81%|████████  | 1021/1261 [02:42<00:42,  5.59it/s]\u001b[A"
     ]
    },
    {
     "name": "stdout",
     "output_type": "stream",
     "text": [
      "This is right after the error\n",
      "This is right after the error\n"
     ]
    },
    {
     "name": "stderr",
     "output_type": "stream",
     "text": [
      "\n",
      " 81%|████████  | 1022/1261 [02:42<00:42,  5.58it/s]\u001b[A\n",
      " 81%|████████  | 1023/1261 [02:42<00:42,  5.64it/s]\u001b[A"
     ]
    },
    {
     "name": "stdout",
     "output_type": "stream",
     "text": [
      "This is right after the error\n",
      "This is right after the error\n"
     ]
    },
    {
     "name": "stderr",
     "output_type": "stream",
     "text": [
      "\n",
      " 81%|████████  | 1024/1261 [02:43<00:42,  5.63it/s]\u001b[A\n",
      " 81%|████████▏ | 1025/1261 [02:43<00:41,  5.65it/s]\u001b[A"
     ]
    },
    {
     "name": "stdout",
     "output_type": "stream",
     "text": [
      "This is right after the error\n",
      "This is right after the error\n"
     ]
    },
    {
     "name": "stderr",
     "output_type": "stream",
     "text": [
      "\n",
      " 81%|████████▏ | 1026/1261 [02:43<00:41,  5.67it/s]\u001b[A\n",
      " 81%|████████▏ | 1027/1261 [02:43<00:41,  5.67it/s]\u001b[A"
     ]
    },
    {
     "name": "stdout",
     "output_type": "stream",
     "text": [
      "This is right after the error\n",
      "This is right after the error\n"
     ]
    },
    {
     "name": "stderr",
     "output_type": "stream",
     "text": [
      "\n",
      " 82%|████████▏ | 1028/1261 [02:43<00:40,  5.73it/s]\u001b[A\n",
      " 82%|████████▏ | 1029/1261 [02:43<00:40,  5.79it/s]\u001b[A"
     ]
    },
    {
     "name": "stdout",
     "output_type": "stream",
     "text": [
      "This is right after the error\n",
      "This is right after the error\n"
     ]
    },
    {
     "name": "stderr",
     "output_type": "stream",
     "text": [
      "\n",
      " 82%|████████▏ | 1030/1261 [02:44<00:40,  5.69it/s]\u001b[A\n",
      " 82%|████████▏ | 1031/1261 [02:44<00:39,  5.76it/s]\u001b[A"
     ]
    },
    {
     "name": "stdout",
     "output_type": "stream",
     "text": [
      "This is right after the error\n",
      "This is right after the error\n"
     ]
    },
    {
     "name": "stderr",
     "output_type": "stream",
     "text": [
      "\n",
      " 82%|████████▏ | 1032/1261 [02:44<00:39,  5.80it/s]\u001b[A\n",
      " 82%|████████▏ | 1033/1261 [02:44<00:39,  5.82it/s]\u001b[A\n",
      " 82%|████████▏ | 1034/1261 [02:44<00:38,  5.93it/s]"
     ]
    },
    {
     "name": "stdout",
     "output_type": "stream",
     "text": [
      "This is right after the error\n",
      "This is right after the error\n"
     ]
    },
    {
     "name": "stderr",
     "output_type": "stream",
     "text": [
      "\u001b[A\n",
      " 82%|████████▏ | 1035/1261 [02:44<00:38,  5.93it/s]\u001b[A\n",
      " 82%|████████▏ | 1036/1261 [02:45<00:37,  6.08it/s]"
     ]
    },
    {
     "name": "stdout",
     "output_type": "stream",
     "text": [
      "This is right after the error\n",
      "This is right after the error\n"
     ]
    },
    {
     "name": "stderr",
     "output_type": "stream",
     "text": [
      "\u001b[A\n",
      " 82%|████████▏ | 1037/1261 [02:45<00:36,  6.12it/s]\u001b[A\n",
      " 82%|████████▏ | 1038/1261 [02:45<00:36,  6.15it/s]"
     ]
    },
    {
     "name": "stdout",
     "output_type": "stream",
     "text": [
      "This is right after the error\n",
      "This is right after the error\n"
     ]
    },
    {
     "name": "stderr",
     "output_type": "stream",
     "text": [
      "\u001b[A\n",
      " 82%|████████▏ | 1039/1261 [02:45<00:36,  6.15it/s]\u001b[A\n",
      " 82%|████████▏ | 1040/1261 [02:45<00:35,  6.19it/s]"
     ]
    },
    {
     "name": "stdout",
     "output_type": "stream",
     "text": [
      "This is right after the error\n",
      "This is right after the error\n"
     ]
    },
    {
     "name": "stderr",
     "output_type": "stream",
     "text": [
      "\u001b[A\n",
      " 83%|████████▎ | 1041/1261 [02:45<00:35,  6.25it/s]\u001b[A\n",
      " 83%|████████▎ | 1042/1261 [02:46<00:34,  6.26it/s]"
     ]
    },
    {
     "name": "stdout",
     "output_type": "stream",
     "text": [
      "This is right after the error\n",
      "This is right after the error\n"
     ]
    },
    {
     "name": "stderr",
     "output_type": "stream",
     "text": [
      "\u001b[A\n",
      " 83%|████████▎ | 1043/1261 [02:46<00:34,  6.26it/s]\u001b[A\n",
      " 83%|████████▎ | 1044/1261 [02:46<00:34,  6.31it/s]"
     ]
    },
    {
     "name": "stdout",
     "output_type": "stream",
     "text": [
      "This is right after the error\n",
      "This is right after the error\n"
     ]
    },
    {
     "name": "stderr",
     "output_type": "stream",
     "text": [
      "\u001b[A\n",
      " 83%|████████▎ | 1045/1261 [02:46<00:34,  6.32it/s]\u001b[A\n",
      " 83%|████████▎ | 1046/1261 [02:46<00:34,  6.30it/s]"
     ]
    },
    {
     "name": "stdout",
     "output_type": "stream",
     "text": [
      "This is right after the error\n",
      "This is right after the error\n"
     ]
    },
    {
     "name": "stderr",
     "output_type": "stream",
     "text": [
      "\u001b[A\n",
      " 83%|████████▎ | 1047/1261 [02:46<00:33,  6.41it/s]\u001b[A"
     ]
    },
    {
     "name": "stdout",
     "output_type": "stream",
     "text": [
      "This is right after the error\n"
     ]
    },
    {
     "name": "stderr",
     "output_type": "stream",
     "text": [
      "\n",
      " 83%|████████▎ | 1048/1261 [02:47<00:39,  5.35it/s]\u001b[A\n",
      " 83%|████████▎ | 1049/1261 [02:47<00:37,  5.68it/s]"
     ]
    },
    {
     "name": "stdout",
     "output_type": "stream",
     "text": [
      "This is right after the error\n",
      "This is right after the error\n"
     ]
    },
    {
     "name": "stderr",
     "output_type": "stream",
     "text": [
      "\u001b[A\n",
      " 83%|████████▎ | 1050/1261 [02:47<00:36,  5.83it/s]\u001b[A\n",
      " 83%|████████▎ | 1051/1261 [02:47<00:34,  6.01it/s]"
     ]
    },
    {
     "name": "stdout",
     "output_type": "stream",
     "text": [
      "This is right after the error\n",
      "This is right after the error\n"
     ]
    },
    {
     "name": "stderr",
     "output_type": "stream",
     "text": [
      "\u001b[A\n",
      " 83%|████████▎ | 1052/1261 [02:47<00:34,  6.12it/s]\u001b[A\n",
      " 84%|████████▎ | 1053/1261 [02:47<00:33,  6.18it/s]"
     ]
    },
    {
     "name": "stdout",
     "output_type": "stream",
     "text": [
      "This is right after the error\n",
      "This is right after the error\n"
     ]
    },
    {
     "name": "stderr",
     "output_type": "stream",
     "text": [
      "\u001b[A\n",
      " 84%|████████▎ | 1054/1261 [02:48<00:32,  6.30it/s]\u001b[A\n",
      " 84%|████████▎ | 1055/1261 [02:48<00:32,  6.37it/s]"
     ]
    },
    {
     "name": "stdout",
     "output_type": "stream",
     "text": [
      "This is right after the error\n",
      "This is right after the error\n"
     ]
    },
    {
     "name": "stderr",
     "output_type": "stream",
     "text": [
      "\u001b[A\n",
      " 84%|████████▎ | 1056/1261 [02:48<00:32,  6.38it/s]\u001b[A\n",
      " 84%|████████▍ | 1057/1261 [02:48<00:31,  6.47it/s]"
     ]
    },
    {
     "name": "stdout",
     "output_type": "stream",
     "text": [
      "This is right after the error\n",
      "This is right after the error\n"
     ]
    },
    {
     "name": "stderr",
     "output_type": "stream",
     "text": [
      "\u001b[A\n",
      " 84%|████████▍ | 1058/1261 [02:48<00:31,  6.46it/s]\u001b[A\n",
      " 84%|████████▍ | 1059/1261 [02:48<00:31,  6.49it/s]"
     ]
    },
    {
     "name": "stdout",
     "output_type": "stream",
     "text": [
      "This is right after the error\n",
      "This is right after the error\n"
     ]
    },
    {
     "name": "stderr",
     "output_type": "stream",
     "text": [
      "\u001b[A\n",
      " 84%|████████▍ | 1060/1261 [02:48<00:30,  6.56it/s]\u001b[A\n",
      " 84%|████████▍ | 1061/1261 [02:49<00:30,  6.53it/s]"
     ]
    },
    {
     "name": "stdout",
     "output_type": "stream",
     "text": [
      "This is right after the error\n",
      "This is right after the error\n"
     ]
    },
    {
     "name": "stderr",
     "output_type": "stream",
     "text": [
      "\u001b[A\n",
      " 84%|████████▍ | 1062/1261 [02:49<00:33,  5.88it/s]"
     ]
    },
    {
     "name": "stdout",
     "output_type": "stream",
     "text": [
      "This is right after the error\n"
     ]
    },
    {
     "name": "stderr",
     "output_type": "stream",
     "text": [
      "\u001b[A\n",
      " 84%|████████▍ | 1063/1261 [02:49<00:35,  5.58it/s]\u001b[A\n",
      " 84%|████████▍ | 1064/1261 [02:49<00:33,  5.88it/s]"
     ]
    },
    {
     "name": "stdout",
     "output_type": "stream",
     "text": [
      "This is right after the error\n",
      "This is right after the error\n"
     ]
    },
    {
     "name": "stderr",
     "output_type": "stream",
     "text": [
      "\u001b[A\n",
      " 84%|████████▍ | 1065/1261 [02:49<00:32,  6.03it/s]\u001b[A\n",
      " 85%|████████▍ | 1066/1261 [02:49<00:31,  6.25it/s]"
     ]
    },
    {
     "name": "stdout",
     "output_type": "stream",
     "text": [
      "This is right after the error\n",
      "This is right after the error\n"
     ]
    },
    {
     "name": "stderr",
     "output_type": "stream",
     "text": [
      "\u001b[A\n",
      " 85%|████████▍ | 1067/1261 [02:50<00:30,  6.26it/s]\u001b[A\n",
      " 85%|████████▍ | 1068/1261 [02:50<00:30,  6.31it/s]"
     ]
    },
    {
     "name": "stdout",
     "output_type": "stream",
     "text": [
      "This is right after the error\n",
      "This is right after the error\n"
     ]
    },
    {
     "name": "stderr",
     "output_type": "stream",
     "text": [
      "\u001b[A\n",
      " 85%|████████▍ | 1069/1261 [02:50<00:30,  6.31it/s]\u001b[A\n",
      " 85%|████████▍ | 1070/1261 [02:50<00:29,  6.39it/s]"
     ]
    },
    {
     "name": "stdout",
     "output_type": "stream",
     "text": [
      "This is right after the error\n",
      "This is right after the error\n"
     ]
    },
    {
     "name": "stderr",
     "output_type": "stream",
     "text": [
      "\u001b[A\n",
      " 85%|████████▍ | 1071/1261 [02:50<00:29,  6.42it/s]\u001b[A\n",
      " 85%|████████▌ | 1072/1261 [02:50<00:29,  6.45it/s]"
     ]
    },
    {
     "name": "stdout",
     "output_type": "stream",
     "text": [
      "This is right after the error\n",
      "This is right after the error\n"
     ]
    },
    {
     "name": "stderr",
     "output_type": "stream",
     "text": [
      "\u001b[A\n",
      " 85%|████████▌ | 1073/1261 [02:51<00:29,  6.39it/s]\u001b[A\n",
      " 85%|████████▌ | 1074/1261 [02:51<00:29,  6.37it/s]"
     ]
    },
    {
     "name": "stdout",
     "output_type": "stream",
     "text": [
      "This is right after the error\n",
      "This is right after the error\n"
     ]
    },
    {
     "name": "stderr",
     "output_type": "stream",
     "text": [
      "\u001b[A\n",
      " 85%|████████▌ | 1075/1261 [02:51<00:29,  6.35it/s]\u001b[A\n",
      " 85%|████████▌ | 1076/1261 [02:51<00:29,  6.36it/s]"
     ]
    },
    {
     "name": "stdout",
     "output_type": "stream",
     "text": [
      "This is right after the error\n",
      "This is right after the error\n"
     ]
    },
    {
     "name": "stderr",
     "output_type": "stream",
     "text": [
      "\u001b[A\n",
      " 85%|████████▌ | 1077/1261 [02:51<00:29,  6.27it/s]\u001b[A"
     ]
    },
    {
     "name": "stdout",
     "output_type": "stream",
     "text": [
      "This is right after the error\n"
     ]
    },
    {
     "name": "stderr",
     "output_type": "stream",
     "text": [
      "\n",
      " 85%|████████▌ | 1078/1261 [02:51<00:34,  5.28it/s]\u001b[A\n",
      " 86%|████████▌ | 1079/1261 [02:52<00:32,  5.65it/s]"
     ]
    },
    {
     "name": "stdout",
     "output_type": "stream",
     "text": [
      "This is right after the error\n",
      "This is right after the error\n"
     ]
    },
    {
     "name": "stderr",
     "output_type": "stream",
     "text": [
      "\u001b[A\n",
      " 86%|████████▌ | 1080/1261 [02:52<00:30,  5.90it/s]\u001b[A\n",
      " 86%|████████▌ | 1081/1261 [02:52<00:29,  6.07it/s]"
     ]
    },
    {
     "name": "stdout",
     "output_type": "stream",
     "text": [
      "This is right after the error\n",
      "This is right after the error\n"
     ]
    },
    {
     "name": "stderr",
     "output_type": "stream",
     "text": [
      "\u001b[A\n",
      " 86%|████████▌ | 1082/1261 [02:52<00:28,  6.20it/s]\u001b[A\n",
      " 86%|████████▌ | 1083/1261 [02:52<00:28,  6.31it/s]"
     ]
    },
    {
     "name": "stdout",
     "output_type": "stream",
     "text": [
      "This is right after the error\n",
      "This is right after the error\n"
     ]
    },
    {
     "name": "stderr",
     "output_type": "stream",
     "text": [
      "\u001b[A\n",
      " 86%|████████▌ | 1084/1261 [02:52<00:27,  6.40it/s]\u001b[A\n",
      " 86%|████████▌ | 1085/1261 [02:53<00:27,  6.42it/s]"
     ]
    },
    {
     "name": "stdout",
     "output_type": "stream",
     "text": [
      "This is right after the error\n",
      "This is right after the error\n"
     ]
    },
    {
     "name": "stderr",
     "output_type": "stream",
     "text": [
      "\u001b[A\n",
      " 86%|████████▌ | 1086/1261 [02:53<00:27,  6.45it/s]\u001b[A\n",
      " 86%|████████▌ | 1087/1261 [02:53<00:26,  6.45it/s]"
     ]
    },
    {
     "name": "stdout",
     "output_type": "stream",
     "text": [
      "This is right after the error\n",
      "This is right after the error\n"
     ]
    },
    {
     "name": "stderr",
     "output_type": "stream",
     "text": [
      "\u001b[A\n",
      " 86%|████████▋ | 1088/1261 [02:53<00:27,  6.36it/s]\u001b[A\n",
      " 86%|████████▋ | 1089/1261 [02:53<00:27,  6.35it/s]"
     ]
    },
    {
     "name": "stdout",
     "output_type": "stream",
     "text": [
      "This is right after the error\n",
      "This is right after the error\n"
     ]
    },
    {
     "name": "stderr",
     "output_type": "stream",
     "text": [
      "\u001b[A\n",
      " 86%|████████▋ | 1090/1261 [02:53<00:26,  6.34it/s]\u001b[A\n",
      " 87%|████████▋ | 1091/1261 [02:53<00:26,  6.35it/s]"
     ]
    },
    {
     "name": "stdout",
     "output_type": "stream",
     "text": [
      "This is right after the error\n",
      "This is right after the error\n"
     ]
    },
    {
     "name": "stderr",
     "output_type": "stream",
     "text": [
      "\u001b[A\n",
      " 87%|████████▋ | 1092/1261 [02:54<00:26,  6.41it/s]\u001b[A\n",
      " 87%|████████▋ | 1093/1261 [02:54<00:25,  6.49it/s]"
     ]
    },
    {
     "name": "stdout",
     "output_type": "stream",
     "text": [
      "This is right after the error\n",
      "This is right after the error\n"
     ]
    },
    {
     "name": "stderr",
     "output_type": "stream",
     "text": [
      "\u001b[A\n",
      " 87%|████████▋ | 1094/1261 [02:54<00:25,  6.48it/s]\u001b[A"
     ]
    },
    {
     "name": "stdout",
     "output_type": "stream",
     "text": [
      "This is right after the error\n",
      "This is right after the error\n"
     ]
    },
    {
     "name": "stderr",
     "output_type": "stream",
     "text": [
      "\n",
      " 87%|████████▋ | 1095/1261 [02:54<00:28,  5.90it/s]\u001b[A\n",
      " 87%|████████▋ | 1096/1261 [02:54<00:29,  5.63it/s]\u001b[A\n",
      " 87%|████████▋ | 1097/1261 [02:54<00:27,  5.88it/s]"
     ]
    },
    {
     "name": "stdout",
     "output_type": "stream",
     "text": [
      "This is right after the error\n",
      "This is right after the error\n"
     ]
    },
    {
     "name": "stderr",
     "output_type": "stream",
     "text": [
      "\u001b[A\n",
      " 87%|████████▋ | 1098/1261 [02:55<00:26,  6.05it/s]\u001b[A\n",
      " 87%|████████▋ | 1099/1261 [02:55<00:25,  6.29it/s]"
     ]
    },
    {
     "name": "stdout",
     "output_type": "stream",
     "text": [
      "This is right after the error\n",
      "This is right after the error\n"
     ]
    },
    {
     "name": "stderr",
     "output_type": "stream",
     "text": [
      "\u001b[A\n",
      " 87%|████████▋ | 1100/1261 [02:55<00:25,  6.35it/s]\u001b[A\n",
      " 87%|████████▋ | 1101/1261 [02:55<00:25,  6.22it/s]"
     ]
    },
    {
     "name": "stdout",
     "output_type": "stream",
     "text": [
      "This is right after the error\n",
      "This is right after the error\n"
     ]
    },
    {
     "name": "stderr",
     "output_type": "stream",
     "text": [
      "\u001b[A\n",
      " 87%|████████▋ | 1102/1261 [02:55<00:24,  6.38it/s]\u001b[A\n",
      " 87%|████████▋ | 1103/1261 [02:55<00:24,  6.49it/s]"
     ]
    },
    {
     "name": "stdout",
     "output_type": "stream",
     "text": [
      "This is right after the error\n",
      "This is right after the error\n"
     ]
    },
    {
     "name": "stderr",
     "output_type": "stream",
     "text": [
      "\u001b[A\n",
      " 88%|████████▊ | 1104/1261 [02:56<00:24,  6.50it/s]\u001b[A\n",
      " 88%|████████▊ | 1105/1261 [02:56<00:24,  6.42it/s]"
     ]
    },
    {
     "name": "stdout",
     "output_type": "stream",
     "text": [
      "This is right after the error\n",
      "This is right after the error\n"
     ]
    },
    {
     "name": "stderr",
     "output_type": "stream",
     "text": [
      "\u001b[A\n",
      " 88%|████████▊ | 1106/1261 [02:56<00:24,  6.43it/s]\u001b[A\n",
      " 88%|████████▊ | 1107/1261 [02:56<00:23,  6.53it/s]"
     ]
    },
    {
     "name": "stdout",
     "output_type": "stream",
     "text": [
      "This is right after the error\n",
      "This is right after the error\n"
     ]
    },
    {
     "name": "stderr",
     "output_type": "stream",
     "text": [
      "\u001b[A\n",
      " 88%|████████▊ | 1108/1261 [02:56<00:23,  6.53it/s]\u001b[A\n",
      " 88%|████████▊ | 1109/1261 [02:56<00:23,  6.50it/s]"
     ]
    },
    {
     "name": "stdout",
     "output_type": "stream",
     "text": [
      "This is right after the error\n",
      "This is right after the error\n"
     ]
    },
    {
     "name": "stderr",
     "output_type": "stream",
     "text": [
      "\u001b[A\n",
      " 88%|████████▊ | 1110/1261 [02:56<00:23,  6.53it/s]\u001b[A\n",
      " 88%|████████▊ | 1111/1261 [02:57<00:22,  6.60it/s]"
     ]
    },
    {
     "name": "stdout",
     "output_type": "stream",
     "text": [
      "This is right after the error\n",
      "This is right after the error\n"
     ]
    },
    {
     "name": "stderr",
     "output_type": "stream",
     "text": [
      "\u001b[A\n",
      " 88%|████████▊ | 1112/1261 [02:57<00:22,  6.59it/s]\u001b[A\n",
      " 88%|████████▊ | 1113/1261 [02:57<00:22,  6.68it/s]"
     ]
    },
    {
     "name": "stdout",
     "output_type": "stream",
     "text": [
      "This is right after the error\n",
      "This is right after the error\n"
     ]
    },
    {
     "name": "stderr",
     "output_type": "stream",
     "text": [
      "\u001b[A\n",
      " 88%|████████▊ | 1114/1261 [02:57<00:22,  6.55it/s]\u001b[A\n",
      " 88%|████████▊ | 1115/1261 [02:57<00:22,  6.56it/s]"
     ]
    },
    {
     "name": "stdout",
     "output_type": "stream",
     "text": [
      "This is right after the error\n",
      "This is right after the error\n"
     ]
    },
    {
     "name": "stderr",
     "output_type": "stream",
     "text": [
      "\u001b[A\n",
      " 89%|████████▊ | 1116/1261 [02:57<00:22,  6.48it/s]\u001b[A\n",
      " 89%|████████▊ | 1117/1261 [02:58<00:22,  6.47it/s]"
     ]
    },
    {
     "name": "stdout",
     "output_type": "stream",
     "text": [
      "This is right after the error\n",
      "This is right after the error\n"
     ]
    },
    {
     "name": "stderr",
     "output_type": "stream",
     "text": [
      "\u001b[A\n",
      " 89%|████████▊ | 1118/1261 [02:58<00:22,  6.49it/s]\u001b[A\n",
      " 89%|████████▊ | 1119/1261 [02:58<00:21,  6.57it/s]"
     ]
    },
    {
     "name": "stdout",
     "output_type": "stream",
     "text": [
      "This is right after the error\n",
      "This is right after the error\n"
     ]
    },
    {
     "name": "stderr",
     "output_type": "stream",
     "text": [
      "\u001b[A\n",
      " 89%|████████▉ | 1120/1261 [02:58<00:21,  6.49it/s]\u001b[A\n",
      " 89%|████████▉ | 1121/1261 [02:58<00:21,  6.63it/s]"
     ]
    },
    {
     "name": "stdout",
     "output_type": "stream",
     "text": [
      "This is right after the error\n",
      "This is right after the error\n"
     ]
    },
    {
     "name": "stderr",
     "output_type": "stream",
     "text": [
      "\u001b[A\n",
      " 89%|████████▉ | 1122/1261 [02:58<00:20,  6.68it/s]\u001b[A\n",
      " 89%|████████▉ | 1123/1261 [02:58<00:20,  6.71it/s]"
     ]
    },
    {
     "name": "stdout",
     "output_type": "stream",
     "text": [
      "This is right after the error\n",
      "This is right after the error\n"
     ]
    },
    {
     "name": "stderr",
     "output_type": "stream",
     "text": [
      "\u001b[A\n",
      " 89%|████████▉ | 1124/1261 [02:59<00:22,  6.02it/s]"
     ]
    },
    {
     "name": "stdout",
     "output_type": "stream",
     "text": [
      "This is right after the error\n"
     ]
    },
    {
     "name": "stderr",
     "output_type": "stream",
     "text": [
      "\u001b[A\n",
      " 89%|████████▉ | 1125/1261 [02:59<00:23,  5.68it/s]\u001b[A\n",
      " 89%|████████▉ | 1126/1261 [02:59<00:22,  6.04it/s]"
     ]
    },
    {
     "name": "stdout",
     "output_type": "stream",
     "text": [
      "This is right after the error\n",
      "This is right after the error\n"
     ]
    },
    {
     "name": "stderr",
     "output_type": "stream",
     "text": [
      "\u001b[A\n",
      " 89%|████████▉ | 1127/1261 [02:59<00:21,  6.21it/s]\u001b[A\n",
      " 89%|████████▉ | 1128/1261 [02:59<00:21,  6.33it/s]"
     ]
    },
    {
     "name": "stdout",
     "output_type": "stream",
     "text": [
      "This is right after the error\n",
      "This is right after the error\n"
     ]
    },
    {
     "name": "stderr",
     "output_type": "stream",
     "text": [
      "\u001b[A\n",
      " 90%|████████▉ | 1129/1261 [02:59<00:20,  6.40it/s]\u001b[A\n",
      " 90%|████████▉ | 1130/1261 [03:00<00:20,  6.47it/s]"
     ]
    },
    {
     "name": "stdout",
     "output_type": "stream",
     "text": [
      "This is right after the error\n",
      "This is right after the error\n"
     ]
    },
    {
     "name": "stderr",
     "output_type": "stream",
     "text": [
      "\u001b[A\n",
      " 90%|████████▉ | 1131/1261 [03:00<00:20,  6.48it/s]\u001b[A\n",
      " 90%|████████▉ | 1132/1261 [03:00<00:20,  6.41it/s]"
     ]
    },
    {
     "name": "stdout",
     "output_type": "stream",
     "text": [
      "This is right after the error\n",
      "This is right after the error\n"
     ]
    },
    {
     "name": "stderr",
     "output_type": "stream",
     "text": [
      "\u001b[A\n",
      " 90%|████████▉ | 1133/1261 [03:00<00:19,  6.42it/s]\u001b[A\n",
      " 90%|████████▉ | 1134/1261 [03:00<00:19,  6.43it/s]"
     ]
    },
    {
     "name": "stdout",
     "output_type": "stream",
     "text": [
      "This is right after the error\n",
      "This is right after the error\n"
     ]
    },
    {
     "name": "stderr",
     "output_type": "stream",
     "text": [
      "\u001b[A\n",
      " 90%|█████████ | 1135/1261 [03:00<00:19,  6.49it/s]\u001b[A\n",
      " 90%|█████████ | 1136/1261 [03:01<00:19,  6.53it/s]"
     ]
    },
    {
     "name": "stdout",
     "output_type": "stream",
     "text": [
      "This is right after the error\n",
      "This is right after the error\n"
     ]
    },
    {
     "name": "stderr",
     "output_type": "stream",
     "text": [
      "\u001b[A\n",
      " 90%|█████████ | 1137/1261 [03:01<00:18,  6.57it/s]\u001b[A\n",
      " 90%|█████████ | 1138/1261 [03:01<00:18,  6.52it/s]"
     ]
    },
    {
     "name": "stdout",
     "output_type": "stream",
     "text": [
      "This is right after the error\n",
      "This is right after the error\n"
     ]
    },
    {
     "name": "stderr",
     "output_type": "stream",
     "text": [
      "\u001b[A\n",
      " 90%|█████████ | 1139/1261 [03:01<00:18,  6.60it/s]\u001b[A\n",
      " 90%|█████████ | 1140/1261 [03:01<00:18,  6.64it/s]"
     ]
    },
    {
     "name": "stdout",
     "output_type": "stream",
     "text": [
      "This is right after the error\n",
      "This is right after the error\n"
     ]
    },
    {
     "name": "stderr",
     "output_type": "stream",
     "text": [
      "\u001b[A\n",
      " 90%|█████████ | 1141/1261 [03:01<00:18,  6.64it/s]\u001b[A\n",
      " 91%|█████████ | 1142/1261 [03:01<00:18,  6.59it/s]"
     ]
    },
    {
     "name": "stdout",
     "output_type": "stream",
     "text": [
      "This is right after the error\n",
      "This is right after the error\n"
     ]
    },
    {
     "name": "stderr",
     "output_type": "stream",
     "text": [
      "\u001b[A\n",
      " 91%|█████████ | 1143/1261 [03:02<00:17,  6.57it/s]\u001b[A\n",
      " 91%|█████████ | 1144/1261 [03:02<00:17,  6.50it/s]"
     ]
    },
    {
     "name": "stdout",
     "output_type": "stream",
     "text": [
      "This is right after the error\n",
      "This is right after the error\n"
     ]
    },
    {
     "name": "stderr",
     "output_type": "stream",
     "text": [
      "\u001b[A\n",
      " 91%|█████████ | 1145/1261 [03:02<00:17,  6.58it/s]\u001b[A\n",
      " 91%|█████████ | 1146/1261 [03:02<00:17,  6.56it/s]"
     ]
    },
    {
     "name": "stdout",
     "output_type": "stream",
     "text": [
      "This is right after the error\n",
      "This is right after the error\n"
     ]
    },
    {
     "name": "stderr",
     "output_type": "stream",
     "text": [
      "\u001b[A\n",
      " 91%|█████████ | 1147/1261 [03:02<00:17,  6.68it/s]\u001b[A\n",
      " 91%|█████████ | 1148/1261 [03:02<00:17,  6.63it/s]"
     ]
    },
    {
     "name": "stdout",
     "output_type": "stream",
     "text": [
      "This is right after the error\n",
      "This is right after the error\n"
     ]
    },
    {
     "name": "stderr",
     "output_type": "stream",
     "text": [
      "\u001b[A\n",
      " 91%|█████████ | 1149/1261 [03:02<00:16,  6.68it/s]\u001b[A\n",
      " 91%|█████████ | 1150/1261 [03:03<00:16,  6.65it/s]"
     ]
    },
    {
     "name": "stdout",
     "output_type": "stream",
     "text": [
      "This is right after the error\n",
      "This is right after the error\n"
     ]
    },
    {
     "name": "stderr",
     "output_type": "stream",
     "text": [
      "\u001b[A\n",
      " 91%|█████████▏| 1151/1261 [03:03<00:16,  6.63it/s]\u001b[A"
     ]
    },
    {
     "name": "stdout",
     "output_type": "stream",
     "text": [
      "This is right after the error\n"
     ]
    },
    {
     "name": "stderr",
     "output_type": "stream",
     "text": [
      "\n",
      "\r",
      " 91%|█████████▏| 1152/1261 [03:03<00:19,  5.61it/s]"
     ]
    },
    {
     "name": "stdout",
     "output_type": "stream",
     "text": [
      "This is right after the error\n",
      "This is right after the error\n"
     ]
    },
    {
     "name": "stderr",
     "output_type": "stream",
     "text": [
      "\u001b[A\n",
      " 91%|█████████▏| 1153/1261 [03:03<00:18,  5.72it/s]\u001b[A\n",
      " 92%|█████████▏| 1154/1261 [03:03<00:17,  5.97it/s]\u001b[A\n",
      " 92%|█████████▏| 1155/1261 [03:04<00:17,  6.18it/s]"
     ]
    },
    {
     "name": "stdout",
     "output_type": "stream",
     "text": [
      "This is right after the error\n",
      "This is right after the error\n"
     ]
    },
    {
     "name": "stderr",
     "output_type": "stream",
     "text": [
      "\u001b[A\n",
      " 92%|█████████▏| 1156/1261 [03:04<00:16,  6.30it/s]\u001b[A"
     ]
    },
    {
     "name": "stdout",
     "output_type": "stream",
     "text": [
      "This is right after the error\n"
     ]
    },
    {
     "name": "stderr",
     "output_type": "stream",
     "text": [
      "\n",
      " 92%|█████████▏| 1157/1261 [03:04<00:19,  5.33it/s]\u001b[A\n",
      " 92%|█████████▏| 1158/1261 [03:04<00:18,  5.72it/s]"
     ]
    },
    {
     "name": "stdout",
     "output_type": "stream",
     "text": [
      "This is right after the error\n",
      "This is right after the error\n"
     ]
    },
    {
     "name": "stderr",
     "output_type": "stream",
     "text": [
      "\u001b[A\n",
      " 92%|█████████▏| 1159/1261 [03:04<00:17,  5.96it/s]\u001b[A\n",
      " 92%|█████████▏| 1160/1261 [03:04<00:16,  6.00it/s]"
     ]
    },
    {
     "name": "stdout",
     "output_type": "stream",
     "text": [
      "This is right after the error\n",
      "This is right after the error\n"
     ]
    },
    {
     "name": "stderr",
     "output_type": "stream",
     "text": [
      "\u001b[A\n",
      " 92%|█████████▏| 1161/1261 [03:05<00:16,  5.94it/s]\u001b[A\n",
      " 92%|█████████▏| 1162/1261 [03:05<00:16,  6.11it/s]"
     ]
    },
    {
     "name": "stdout",
     "output_type": "stream",
     "text": [
      "This is right after the error\n",
      "This is right after the error\n"
     ]
    },
    {
     "name": "stderr",
     "output_type": "stream",
     "text": [
      "\u001b[A\n",
      " 92%|█████████▏| 1163/1261 [03:05<00:15,  6.38it/s]\u001b[A\n",
      " 92%|█████████▏| 1164/1261 [03:05<00:14,  6.49it/s]"
     ]
    },
    {
     "name": "stdout",
     "output_type": "stream",
     "text": [
      "This is right after the error\n",
      "This is right after the error\n"
     ]
    },
    {
     "name": "stderr",
     "output_type": "stream",
     "text": [
      "\u001b[A\n",
      " 92%|█████████▏| 1165/1261 [03:05<00:14,  6.52it/s]\u001b[A\n",
      " 92%|█████████▏| 1166/1261 [03:05<00:14,  6.48it/s]"
     ]
    },
    {
     "name": "stdout",
     "output_type": "stream",
     "text": [
      "This is right after the error\n",
      "This is right after the error\n"
     ]
    },
    {
     "name": "stderr",
     "output_type": "stream",
     "text": [
      "\u001b[A\n",
      " 93%|█████████▎| 1167/1261 [03:05<00:14,  6.60it/s]\u001b[A\n",
      " 93%|█████████▎| 1168/1261 [03:06<00:14,  6.57it/s]"
     ]
    },
    {
     "name": "stdout",
     "output_type": "stream",
     "text": [
      "This is right after the error\n",
      "This is right after the error\n"
     ]
    },
    {
     "name": "stderr",
     "output_type": "stream",
     "text": [
      "\u001b[A\n",
      " 93%|█████████▎| 1169/1261 [03:06<00:13,  6.70it/s]\u001b[A\n",
      " 93%|█████████▎| 1170/1261 [03:06<00:13,  6.68it/s]"
     ]
    },
    {
     "name": "stdout",
     "output_type": "stream",
     "text": [
      "This is right after the error\n",
      "This is right after the error\n"
     ]
    },
    {
     "name": "stderr",
     "output_type": "stream",
     "text": [
      "\u001b[A\n",
      " 93%|█████████▎| 1171/1261 [03:06<00:13,  6.71it/s]\u001b[A\n",
      " 93%|█████████▎| 1172/1261 [03:06<00:13,  6.70it/s]"
     ]
    },
    {
     "name": "stdout",
     "output_type": "stream",
     "text": [
      "This is right after the error\n",
      "This is right after the error\n"
     ]
    },
    {
     "name": "stderr",
     "output_type": "stream",
     "text": [
      "\u001b[A\n",
      " 93%|█████████▎| 1173/1261 [03:06<00:13,  6.69it/s]\u001b[A\n",
      " 93%|█████████▎| 1174/1261 [03:06<00:12,  6.76it/s]"
     ]
    },
    {
     "name": "stdout",
     "output_type": "stream",
     "text": [
      "This is right after the error\n",
      "This is right after the error\n"
     ]
    },
    {
     "name": "stderr",
     "output_type": "stream",
     "text": [
      "\u001b[A\n",
      " 93%|█████████▎| 1175/1261 [03:07<00:12,  6.66it/s]\u001b[A\n",
      " 93%|█████████▎| 1176/1261 [03:07<00:12,  6.59it/s]"
     ]
    },
    {
     "name": "stdout",
     "output_type": "stream",
     "text": [
      "This is right after the error\n",
      "This is right after the error\n"
     ]
    },
    {
     "name": "stderr",
     "output_type": "stream",
     "text": [
      "\u001b[A\n",
      " 93%|█████████▎| 1177/1261 [03:07<00:12,  6.65it/s]\u001b[A\n",
      " 93%|█████████▎| 1178/1261 [03:07<00:12,  6.63it/s]"
     ]
    },
    {
     "name": "stdout",
     "output_type": "stream",
     "text": [
      "This is right after the error\n",
      "This is right after the error\n"
     ]
    },
    {
     "name": "stderr",
     "output_type": "stream",
     "text": [
      "\u001b[A\n",
      " 93%|█████████▎| 1179/1261 [03:07<00:12,  6.62it/s]\u001b[A\n",
      " 94%|█████████▎| 1180/1261 [03:07<00:12,  6.57it/s]"
     ]
    },
    {
     "name": "stdout",
     "output_type": "stream",
     "text": [
      "This is right after the error\n",
      "This is right after the error\n"
     ]
    },
    {
     "name": "stderr",
     "output_type": "stream",
     "text": [
      "\u001b[A\n",
      " 94%|█████████▎| 1181/1261 [03:08<00:12,  6.59it/s]\u001b[A\n",
      " 94%|█████████▎| 1182/1261 [03:08<00:12,  6.56it/s]"
     ]
    },
    {
     "name": "stdout",
     "output_type": "stream",
     "text": [
      "This is right after the error\n",
      "This is right after the error\n"
     ]
    },
    {
     "name": "stderr",
     "output_type": "stream",
     "text": [
      "\u001b[A\n",
      " 94%|█████████▍| 1183/1261 [03:08<00:11,  6.63it/s]\u001b[A\n",
      " 94%|█████████▍| 1184/1261 [03:08<00:11,  6.58it/s]"
     ]
    },
    {
     "name": "stdout",
     "output_type": "stream",
     "text": [
      "This is right after the error\n",
      "This is right after the error\n"
     ]
    },
    {
     "name": "stderr",
     "output_type": "stream",
     "text": [
      "\u001b[A\n",
      " 94%|█████████▍| 1185/1261 [03:08<00:11,  6.60it/s]\u001b[A\n",
      " 94%|█████████▍| 1186/1261 [03:08<00:11,  6.68it/s]"
     ]
    },
    {
     "name": "stdout",
     "output_type": "stream",
     "text": [
      "This is right after the error\n",
      "This is right after the error\n"
     ]
    },
    {
     "name": "stderr",
     "output_type": "stream",
     "text": [
      "\u001b[A\n",
      " 94%|█████████▍| 1187/1261 [03:08<00:11,  6.63it/s]\u001b[A\n",
      " 94%|█████████▍| 1188/1261 [03:09<00:11,  6.60it/s]"
     ]
    },
    {
     "name": "stdout",
     "output_type": "stream",
     "text": [
      "This is right after the error\n",
      "This is right after the error\n"
     ]
    },
    {
     "name": "stderr",
     "output_type": "stream",
     "text": [
      "\u001b[A\n",
      " 94%|█████████▍| 1189/1261 [03:09<00:10,  6.70it/s]\u001b[A\n",
      " 94%|█████████▍| 1190/1261 [03:09<00:10,  6.63it/s]"
     ]
    },
    {
     "name": "stdout",
     "output_type": "stream",
     "text": [
      "This is right after the error\n",
      "This is right after the error\n"
     ]
    },
    {
     "name": "stderr",
     "output_type": "stream",
     "text": [
      "\u001b[A\n",
      " 94%|█████████▍| 1191/1261 [03:09<00:10,  6.61it/s]\u001b[A"
     ]
    },
    {
     "name": "stdout",
     "output_type": "stream",
     "text": [
      "This is right after the error\n",
      "This is right after the error\n"
     ]
    },
    {
     "name": "stderr",
     "output_type": "stream",
     "text": [
      "\n",
      " 95%|█████████▍| 1192/1261 [03:09<00:11,  5.98it/s]\u001b[A\n",
      " 95%|█████████▍| 1193/1261 [03:09<00:11,  5.69it/s]\u001b[A\n",
      " 95%|█████████▍| 1194/1261 [03:10<00:11,  5.98it/s]"
     ]
    },
    {
     "name": "stdout",
     "output_type": "stream",
     "text": [
      "This is right after the error\n",
      "This is right after the error\n"
     ]
    },
    {
     "name": "stderr",
     "output_type": "stream",
     "text": [
      "\u001b[A\n",
      " 95%|█████████▍| 1195/1261 [03:10<00:10,  6.17it/s]\u001b[A\n",
      " 95%|█████████▍| 1196/1261 [03:10<00:10,  6.27it/s]"
     ]
    },
    {
     "name": "stdout",
     "output_type": "stream",
     "text": [
      "This is right after the error\n",
      "This is right after the error\n"
     ]
    },
    {
     "name": "stderr",
     "output_type": "stream",
     "text": [
      "\u001b[A\n",
      " 95%|█████████▍| 1197/1261 [03:10<00:09,  6.43it/s]\u001b[A\n",
      " 95%|█████████▌| 1198/1261 [03:10<00:09,  6.47it/s]"
     ]
    },
    {
     "name": "stdout",
     "output_type": "stream",
     "text": [
      "This is right after the error\n",
      "This is right after the error\n"
     ]
    },
    {
     "name": "stderr",
     "output_type": "stream",
     "text": [
      "\u001b[A\n",
      " 95%|█████████▌| 1199/1261 [03:10<00:09,  6.41it/s]\u001b[A\n",
      " 95%|█████████▌| 1200/1261 [03:11<00:09,  6.48it/s]"
     ]
    },
    {
     "name": "stdout",
     "output_type": "stream",
     "text": [
      "This is right after the error\n",
      "This is right after the error\n"
     ]
    },
    {
     "name": "stderr",
     "output_type": "stream",
     "text": [
      "\u001b[A\n",
      " 95%|█████████▌| 1201/1261 [03:11<00:09,  6.52it/s]\u001b[A\n",
      " 95%|█████████▌| 1202/1261 [03:11<00:09,  6.55it/s]"
     ]
    },
    {
     "name": "stdout",
     "output_type": "stream",
     "text": [
      "This is right after the error\n",
      "This is right after the error\n"
     ]
    },
    {
     "name": "stderr",
     "output_type": "stream",
     "text": [
      "\u001b[A\n",
      " 95%|█████████▌| 1203/1261 [03:11<00:08,  6.54it/s]\u001b[A\n",
      " 95%|█████████▌| 1204/1261 [03:11<00:08,  6.60it/s]"
     ]
    },
    {
     "name": "stdout",
     "output_type": "stream",
     "text": [
      "This is right after the error\n",
      "This is right after the error\n"
     ]
    },
    {
     "name": "stderr",
     "output_type": "stream",
     "text": [
      "\u001b[A\n",
      " 96%|█████████▌| 1205/1261 [03:11<00:08,  6.61it/s]\u001b[A\n",
      " 96%|█████████▌| 1206/1261 [03:11<00:08,  6.68it/s]"
     ]
    },
    {
     "name": "stdout",
     "output_type": "stream",
     "text": [
      "This is right after the error\n",
      "This is right after the error\n"
     ]
    },
    {
     "name": "stderr",
     "output_type": "stream",
     "text": [
      "\u001b[A\n",
      " 96%|█████████▌| 1207/1261 [03:12<00:08,  6.66it/s]\u001b[A\n",
      " 96%|█████████▌| 1208/1261 [03:12<00:07,  6.75it/s]"
     ]
    },
    {
     "name": "stdout",
     "output_type": "stream",
     "text": [
      "This is right after the error\n",
      "This is right after the error\n"
     ]
    },
    {
     "name": "stderr",
     "output_type": "stream",
     "text": [
      "\u001b[A\n",
      " 96%|█████████▌| 1209/1261 [03:12<00:07,  6.64it/s]\u001b[A\n",
      " 96%|█████████▌| 1210/1261 [03:12<00:07,  6.66it/s]"
     ]
    },
    {
     "name": "stdout",
     "output_type": "stream",
     "text": [
      "This is right after the error\n",
      "This is right after the error\n"
     ]
    },
    {
     "name": "stderr",
     "output_type": "stream",
     "text": [
      "\u001b[A\n",
      " 96%|█████████▌| 1211/1261 [03:12<00:07,  6.64it/s]\u001b[A\n",
      " 96%|█████████▌| 1212/1261 [03:12<00:07,  6.63it/s]"
     ]
    },
    {
     "name": "stdout",
     "output_type": "stream",
     "text": [
      "This is right after the error\n",
      "This is right after the error\n"
     ]
    },
    {
     "name": "stderr",
     "output_type": "stream",
     "text": [
      "\u001b[A\n",
      " 96%|█████████▌| 1213/1261 [03:12<00:07,  6.67it/s]\u001b[A\n",
      " 96%|█████████▋| 1214/1261 [03:13<00:07,  6.69it/s]"
     ]
    },
    {
     "name": "stdout",
     "output_type": "stream",
     "text": [
      "This is right after the error\n",
      "This is right after the error\n"
     ]
    },
    {
     "name": "stderr",
     "output_type": "stream",
     "text": [
      "\u001b[A\n",
      " 96%|█████████▋| 1215/1261 [03:13<00:06,  6.72it/s]\u001b[A\n",
      " 96%|█████████▋| 1216/1261 [03:13<00:06,  6.78it/s]"
     ]
    },
    {
     "name": "stdout",
     "output_type": "stream",
     "text": [
      "This is right after the error\n",
      "This is right after the error\n"
     ]
    },
    {
     "name": "stderr",
     "output_type": "stream",
     "text": [
      "\u001b[A\n",
      " 97%|█████████▋| 1217/1261 [03:13<00:06,  6.65it/s]\u001b[A"
     ]
    },
    {
     "name": "stdout",
     "output_type": "stream",
     "text": [
      "This is right after the error\n",
      "This is right after the error\n"
     ]
    },
    {
     "name": "stderr",
     "output_type": "stream",
     "text": [
      "\n",
      " 97%|█████████▋| 1218/1261 [03:13<00:07,  5.98it/s]\u001b[A\n",
      " 97%|█████████▋| 1219/1261 [03:13<00:07,  5.67it/s]\u001b[A\n",
      " 97%|█████████▋| 1220/1261 [03:14<00:06,  5.92it/s]"
     ]
    },
    {
     "name": "stdout",
     "output_type": "stream",
     "text": [
      "This is right after the error\n",
      "This is right after the error\n"
     ]
    },
    {
     "name": "stderr",
     "output_type": "stream",
     "text": [
      "\u001b[A\n",
      " 97%|█████████▋| 1221/1261 [03:14<00:06,  6.10it/s]\u001b[A\n",
      " 97%|█████████▋| 1222/1261 [03:14<00:06,  6.23it/s]"
     ]
    },
    {
     "name": "stdout",
     "output_type": "stream",
     "text": [
      "This is right after the error\n",
      "This is right after the error\n"
     ]
    },
    {
     "name": "stderr",
     "output_type": "stream",
     "text": [
      "\u001b[A\n",
      " 97%|█████████▋| 1223/1261 [03:14<00:05,  6.38it/s]\u001b[A\n",
      " 97%|█████████▋| 1224/1261 [03:14<00:05,  6.46it/s]"
     ]
    },
    {
     "name": "stdout",
     "output_type": "stream",
     "text": [
      "This is right after the error\n",
      "This is right after the error\n"
     ]
    },
    {
     "name": "stderr",
     "output_type": "stream",
     "text": [
      "\u001b[A\n",
      " 97%|█████████▋| 1225/1261 [03:14<00:05,  6.50it/s]\u001b[A\n",
      " 97%|█████████▋| 1226/1261 [03:15<00:05,  6.50it/s]"
     ]
    },
    {
     "name": "stdout",
     "output_type": "stream",
     "text": [
      "This is right after the error\n",
      "This is right after the error\n"
     ]
    },
    {
     "name": "stderr",
     "output_type": "stream",
     "text": [
      "\u001b[A\n",
      " 97%|█████████▋| 1227/1261 [03:15<00:05,  6.56it/s]\u001b[A\n",
      " 97%|█████████▋| 1228/1261 [03:15<00:05,  6.54it/s]"
     ]
    },
    {
     "name": "stdout",
     "output_type": "stream",
     "text": [
      "This is right after the error\n",
      "This is right after the error\n"
     ]
    },
    {
     "name": "stderr",
     "output_type": "stream",
     "text": [
      "\u001b[A\n",
      " 97%|█████████▋| 1229/1261 [03:15<00:04,  6.50it/s]\u001b[A\n",
      " 98%|█████████▊| 1230/1261 [03:15<00:04,  6.54it/s]"
     ]
    },
    {
     "name": "stdout",
     "output_type": "stream",
     "text": [
      "This is right after the error\n",
      "This is right after the error\n"
     ]
    },
    {
     "name": "stderr",
     "output_type": "stream",
     "text": [
      "\u001b[A\n",
      " 98%|█████████▊| 1231/1261 [03:15<00:04,  6.54it/s]\u001b[A\n",
      " 98%|█████████▊| 1232/1261 [03:15<00:04,  6.62it/s]"
     ]
    },
    {
     "name": "stdout",
     "output_type": "stream",
     "text": [
      "This is right after the error\n",
      "This is right after the error\n"
     ]
    },
    {
     "name": "stderr",
     "output_type": "stream",
     "text": [
      "\u001b[A\n",
      " 98%|█████████▊| 1233/1261 [03:16<00:04,  6.62it/s]\u001b[A\n",
      " 98%|█████████▊| 1234/1261 [03:16<00:04,  6.61it/s]"
     ]
    },
    {
     "name": "stdout",
     "output_type": "stream",
     "text": [
      "This is right after the error\n",
      "This is right after the error\n"
     ]
    },
    {
     "name": "stderr",
     "output_type": "stream",
     "text": [
      "\u001b[A\n",
      " 98%|█████████▊| 1235/1261 [03:16<00:03,  6.68it/s]\u001b[A\n",
      " 98%|█████████▊| 1236/1261 [03:16<00:03,  6.67it/s]"
     ]
    },
    {
     "name": "stdout",
     "output_type": "stream",
     "text": [
      "This is right after the error\n",
      "This is right after the error\n"
     ]
    },
    {
     "name": "stderr",
     "output_type": "stream",
     "text": [
      "\u001b[A\n",
      " 98%|█████████▊| 1237/1261 [03:16<00:03,  6.71it/s]\u001b[A\n",
      " 98%|█████████▊| 1238/1261 [03:16<00:03,  6.57it/s]"
     ]
    },
    {
     "name": "stdout",
     "output_type": "stream",
     "text": [
      "This is right after the error\n",
      "This is right after the error\n"
     ]
    },
    {
     "name": "stderr",
     "output_type": "stream",
     "text": [
      "\u001b[A\n",
      " 98%|█████████▊| 1239/1261 [03:16<00:03,  6.55it/s]\u001b[A\n",
      " 98%|█████████▊| 1240/1261 [03:17<00:03,  6.48it/s]"
     ]
    },
    {
     "name": "stdout",
     "output_type": "stream",
     "text": [
      "This is right after the error\n",
      "This is right after the error\n"
     ]
    },
    {
     "name": "stderr",
     "output_type": "stream",
     "text": [
      "\u001b[A\n",
      " 98%|█████████▊| 1241/1261 [03:17<00:03,  6.42it/s]\u001b[A\n",
      " 98%|█████████▊| 1242/1261 [03:17<00:02,  6.44it/s]"
     ]
    },
    {
     "name": "stdout",
     "output_type": "stream",
     "text": [
      "This is right after the error\n",
      "This is right after the error\n"
     ]
    },
    {
     "name": "stderr",
     "output_type": "stream",
     "text": [
      "\u001b[A\n",
      " 99%|█████████▊| 1243/1261 [03:17<00:02,  6.50it/s]\u001b[A\n",
      " 99%|█████████▊| 1244/1261 [03:17<00:02,  6.46it/s]"
     ]
    },
    {
     "name": "stdout",
     "output_type": "stream",
     "text": [
      "This is right after the error\n",
      "This is right after the error\n"
     ]
    },
    {
     "name": "stderr",
     "output_type": "stream",
     "text": [
      "\u001b[A\n",
      " 99%|█████████▊| 1245/1261 [03:17<00:02,  6.42it/s]\u001b[A"
     ]
    },
    {
     "name": "stdout",
     "output_type": "stream",
     "text": [
      "This is right after the error\n",
      "This is right after the error\n"
     ]
    },
    {
     "name": "stderr",
     "output_type": "stream",
     "text": [
      "\n",
      " 99%|█████████▉| 1246/1261 [03:18<00:02,  5.86it/s]\u001b[A\n",
      " 99%|█████████▉| 1247/1261 [03:18<00:02,  5.78it/s]\u001b[A"
     ]
    },
    {
     "name": "stdout",
     "output_type": "stream",
     "text": [
      "This is right after the error\n"
     ]
    },
    {
     "name": "stderr",
     "output_type": "stream",
     "text": [
      "\n",
      "\r",
      " 99%|█████████▉| 1248/1261 [03:18<00:02,  5.08it/s]"
     ]
    },
    {
     "name": "stdout",
     "output_type": "stream",
     "text": [
      "This is right after the error\n",
      "This is right after the error\n"
     ]
    },
    {
     "name": "stderr",
     "output_type": "stream",
     "text": [
      "\u001b[A\n",
      " 99%|█████████▉| 1249/1261 [03:18<00:02,  5.44it/s]\u001b[A\n",
      " 99%|█████████▉| 1250/1261 [03:18<00:01,  5.72it/s]\u001b[A\n",
      " 99%|█████████▉| 1251/1261 [03:19<00:01,  5.93it/s]"
     ]
    },
    {
     "name": "stdout",
     "output_type": "stream",
     "text": [
      "This is right after the error\n",
      "This is right after the error\n"
     ]
    },
    {
     "name": "stderr",
     "output_type": "stream",
     "text": [
      "\u001b[A\n",
      " 99%|█████████▉| 1252/1261 [03:19<00:01,  6.14it/s]\u001b[A\n",
      " 99%|█████████▉| 1253/1261 [03:19<00:01,  6.20it/s]"
     ]
    },
    {
     "name": "stdout",
     "output_type": "stream",
     "text": [
      "This is right after the error\n",
      "This is right after the error\n"
     ]
    },
    {
     "name": "stderr",
     "output_type": "stream",
     "text": [
      "\u001b[A\n",
      " 99%|█████████▉| 1254/1261 [03:19<00:01,  6.05it/s]\u001b[A"
     ]
    },
    {
     "name": "stdout",
     "output_type": "stream",
     "text": [
      "This is right after the error\n",
      "This is right after the error\n"
     ]
    },
    {
     "name": "stderr",
     "output_type": "stream",
     "text": [
      "\n",
      "100%|█████████▉| 1255/1261 [03:19<00:01,  5.45it/s]\u001b[A\n",
      "100%|█████████▉| 1256/1261 [03:19<00:00,  5.41it/s]\u001b[A\n",
      "100%|█████████▉| 1257/1261 [03:20<00:00,  5.74it/s]"
     ]
    },
    {
     "name": "stdout",
     "output_type": "stream",
     "text": [
      "This is right after the error\n",
      "This is right after the error\n"
     ]
    },
    {
     "name": "stderr",
     "output_type": "stream",
     "text": [
      "\u001b[A\n",
      "100%|█████████▉| 1258/1261 [03:20<00:00,  6.04it/s]\u001b[A\n",
      "100%|█████████▉| 1259/1261 [03:20<00:00,  6.24it/s]"
     ]
    },
    {
     "name": "stdout",
     "output_type": "stream",
     "text": [
      "This is right after the error\n",
      "This is right after the error\n"
     ]
    },
    {
     "name": "stderr",
     "output_type": "stream",
     "text": [
      "\u001b[A\n",
      "100%|█████████▉| 1260/1261 [03:20<00:00,  6.25it/s]\u001b[A\n",
      "\u001b[A"
     ]
    },
    {
     "name": "stdout",
     "output_type": "stream",
     "text": [
      "This is right after the error\n",
      "[MoviePy] Done.\n",
      "[MoviePy] >>>> Video ready: project_video_with_lanes.mp4 \n",
      "\n",
      "CPU times: user 4min 56s, sys: 41.5 s, total: 5min 37s\n",
      "Wall time: 3min 21s\n"
     ]
    }
   ],
   "source": [
    "# Create left and right Line() instances\n",
    "left_line = Line()\n",
    "right_line = Line()\n",
    "\n",
    "project_video_outname = 'project_video_with_lanes.mp4'\n",
    "project_video = VideoFileClip(\"project_video.mp4\")\n",
    "project_video_updated = project_video.fl_image(pipeline) # -- pipeline for single image\n",
    "%time project_video_updated.write_videofile(project_video_outname, audio=False)"
   ]
  },
  {
   "cell_type": "code",
   "execution_count": 131,
   "metadata": {
    "collapsed": false
   },
   "outputs": [
    {
     "data": {
      "text/html": [
       "\n",
       "<video width=\"480\" height=\"275\" controls>\n",
       "    <source src=\"project_video_with_lanes.mp4\">\n",
       "</video>\n"
      ],
      "text/plain": [
       "<IPython.core.display.HTML object>"
      ]
     },
     "execution_count": 131,
     "metadata": {},
     "output_type": "execute_result"
    }
   ],
   "source": [
    "HTML(\"\"\"\n",
    "<video width=\"480\" height=\"275\" controls>\n",
    "    <source src=\"{0}\">\n",
    "</video>\n",
    "\"\"\".format(project_video_outname))"
   ]
  },
  {
   "cell_type": "markdown",
   "metadata": {},
   "source": [
    "### Challenge Video 1"
   ]
  },
  {
   "cell_type": "code",
   "execution_count": 137,
   "metadata": {
    "collapsed": false
   },
   "outputs": [
    {
     "name": "stdout",
     "output_type": "stream",
     "text": [
      "[MoviePy] >>>> Building video test_videos/challenge_video_1_with_lanes.mp4\n",
      "[MoviePy] Writing video test_videos/challenge_video_1_with_lanes.mp4\n"
     ]
    },
    {
     "name": "stderr",
     "output_type": "stream",
     "text": [
      "\n",
      "  0%|          | 0/251 [00:00<?, ?it/s]\u001b[A\n",
      "  0%|          | 1/251 [00:00<00:35,  7.12it/s]\u001b[A\n",
      "  1%|          | 2/251 [00:00<00:35,  7.10it/s]\u001b[A\n",
      "  1%|          | 3/251 [00:00<00:34,  7.19it/s]\u001b[A\n",
      "  2%|▏         | 4/251 [00:00<00:34,  7.13it/s]\u001b[A\n",
      "  2%|▏         | 5/251 [00:00<00:34,  7.20it/s]\u001b[A\n",
      "  2%|▏         | 6/251 [00:00<00:34,  7.14it/s]\u001b[A\n",
      "100%|██████████| 251/251 [00:40<00:00,  6.08it/s]\n"
     ]
    },
    {
     "name": "stdout",
     "output_type": "stream",
     "text": [
      "[MoviePy] Done.\n",
      "[MoviePy] >>>> Video ready: test_videos/challenge_video_1_with_lanes.mp4 \n",
      "\n",
      "CPU times: user 58.2 s, sys: 7.68 s, total: 1min 5s\n",
      "Wall time: 41.1 s\n"
     ]
    }
   ],
   "source": [
    "left_line = Line()\n",
    "right_line = Line()\n",
    "\n",
    "challenge_video_one_outname = \"test_videos/challenge_video_1_with_lanes.mp4\"\n",
    "challenge_video_one = VideoFileClip(\"test_videos/challenge_video_1.mp4\")\n",
    "challenge_video_one_updated = challenge_video_one.fl_image(pipeline) # -- pipeline for single image\n",
    "%time challenge_video_one_updated.write_videofile(challenge_video_one_outname, audio=False)"
   ]
  },
  {
   "cell_type": "code",
   "execution_count": 138,
   "metadata": {
    "collapsed": false
   },
   "outputs": [
    {
     "data": {
      "text/html": [
       "\n",
       "<video width=\"480\" height=\"275\" controls>\n",
       "    <source src=\"test_videos/challenge_video_1_with_lanes.mp4\">\n",
       "</video>\n"
      ],
      "text/plain": [
       "<IPython.core.display.HTML object>"
      ]
     },
     "execution_count": 138,
     "metadata": {},
     "output_type": "execute_result"
    }
   ],
   "source": [
    "HTML(\"\"\"\n",
    "<video width=\"480\" height=\"275\" controls>\n",
    "    <source src=\"{0}\">\n",
    "</video>\n",
    "\"\"\".format(challenge_video_one_outname))"
   ]
  },
  {
   "cell_type": "markdown",
   "metadata": {},
   "source": [
    "### Challenge Video 2"
   ]
  },
  {
   "cell_type": "code",
   "execution_count": 139,
   "metadata": {
    "collapsed": false
   },
   "outputs": [
    {
     "name": "stdout",
     "output_type": "stream",
     "text": [
      "[MoviePy] >>>> Building video test_videos/challenge_video_2_with_lanes.mp4\n",
      "[MoviePy] Writing video test_videos/challenge_video_2_with_lanes.mp4\n"
     ]
    },
    {
     "name": "stderr",
     "output_type": "stream",
     "text": [
      "100%|██████████| 485/485 [01:17<00:00,  5.34it/s]     | 1/485 [00:00<01:12,  6.72it/s]\n"
     ]
    },
    {
     "name": "stdout",
     "output_type": "stream",
     "text": [
      "[MoviePy] Done.\n",
      "[MoviePy] >>>> Video ready: test_videos/challenge_video_2_with_lanes.mp4 \n",
      "\n",
      "CPU times: user 1min 53s, sys: 13.9 s, total: 2min 6s\n",
      "Wall time: 1min 18s\n"
     ]
    }
   ],
   "source": [
    "challenge_video_two_outname = 'test_videos/challenge_video_2_with_lanes.mp4'\n",
    "challenge_video_two = VideoFileClip(\"test_videos/challenge_video_2.mp4\")\n",
    "challenge_video_two_updated = challenge_video_two.fl_image(pipeline) # -- pipeline for single image\n",
    "%time challenge_video_two_updated.write_videofile(challenge_video_two_outname, audio=False)"
   ]
  },
  {
   "cell_type": "code",
   "execution_count": 140,
   "metadata": {
    "collapsed": false
   },
   "outputs": [
    {
     "data": {
      "text/html": [
       "\n",
       "<video width=\"480\" height=\"275\" controls>\n",
       "    <source src=\"test_videos/challenge_video_2_with_lanes.mp4\">\n",
       "</video>\n"
      ],
      "text/plain": [
       "<IPython.core.display.HTML object>"
      ]
     },
     "execution_count": 140,
     "metadata": {},
     "output_type": "execute_result"
    }
   ],
   "source": [
    "HTML(\"\"\"\n",
    "<video width=\"480\" height=\"275\" controls>\n",
    "    <source src=\"{0}\">\n",
    "</video>\n",
    "\"\"\".format(challenge_video_two_outname))"
   ]
  },
  {
   "cell_type": "markdown",
   "metadata": {},
   "source": [
    "### Harder Challenge Video "
   ]
  },
  {
   "cell_type": "code",
   "execution_count": 141,
   "metadata": {
    "collapsed": false
   },
   "outputs": [
    {
     "name": "stdout",
     "output_type": "stream",
     "text": [
      "[MoviePy] >>>> Building video test_videos/harder_challenge_video_with_lanes.mp4\n",
      "[MoviePy] Writing video test_videos/harder_challenge_video_with_lanes.mp4\n"
     ]
    },
    {
     "name": "stderr",
     "output_type": "stream",
     "text": [
      "100%|█████████▉| 1199/1200 [04:05<00:00,  6.08it/s]    | 1/1200 [00:00<04:50,  4.13it/s]\n"
     ]
    },
    {
     "name": "stdout",
     "output_type": "stream",
     "text": [
      "[MoviePy] Done.\n",
      "[MoviePy] >>>> Video ready: test_videos/harder_challenge_video_with_lanes.mp4 \n",
      "\n",
      "CPU times: user 5min 25s, sys: 44.9 s, total: 6min 10s\n",
      "Wall time: 4min 6s\n"
     ]
    }
   ],
   "source": [
    "harder_challenge_video_outname = 'test_videos/harder_challenge_video_with_lanes.mp4'\n",
    "harder_challenge_video = VideoFileClip(\"test_videos/harder_challenge_video.mp4\")\n",
    "harder_challenge_video_updated = harder_challenge_video.fl_image(pipeline) # -- pipeline for single image\n",
    "%time harder_challenge_video_updated.write_videofile(harder_challenge_video_outname, audio=False)"
   ]
  },
  {
   "cell_type": "code",
   "execution_count": 142,
   "metadata": {
    "collapsed": false
   },
   "outputs": [
    {
     "data": {
      "text/html": [
       "\n",
       "<video width=\"480\" height=\"275\" controls>\n",
       "    <source src=\"test_videos/harder_challenge_video_with_lanes.mp4\">\n",
       "</video>\n"
      ],
      "text/plain": [
       "<IPython.core.display.HTML object>"
      ]
     },
     "execution_count": 142,
     "metadata": {},
     "output_type": "execute_result"
    }
   ],
   "source": [
    "HTML(\"\"\"\n",
    "<video width=\"480\" height=\"275\" controls>\n",
    "    <source src=\"{0}\">\n",
    "</video>\n",
    "\"\"\".format(harder_challenge_video_outname))"
   ]
  },
  {
   "cell_type": "markdown",
   "metadata": {},
   "source": [
    "# DUMP!!!!!!!!"
   ]
  },
  {
   "cell_type": "code",
   "execution_count": null,
   "metadata": {
    "collapsed": false
   },
   "outputs": [],
   "source": [
    "# def plot_gradient_thresholds(fname):\n",
    "#     image = mpimg.imread(fname)\n",
    "#     undistorted_example_image = undistort(image, mtx, dist)\n",
    "#     threshold = (180, 255)\n",
    "#     gray = cv2.cvtColor(image, cv2.COLOR_RGB2GRAY)\n",
    "#     abs_sobel_x = abs_sobel_threshold(image, 'x', 3, (50, 100))\n",
    "#     abs_sobel_y = abs_sobel_threshold(image, 'y', 3, (50, 100))\n",
    "#     magnitude_sobel = magnitude_threshold(image, 9, (30, 100))\n",
    "#     direction_sobel = direction_threshold(image, 17, (0.7, 1.3))\n",
    "#     binary_gray = np.zeros_like(gray)\n",
    "#     binary_gray[(gray > threshold[0]) & (gray <= threshold[1])] = 1\n",
    "#     combined = np.zeros_like(direction_sobel)\n",
    "#     combined[((abs_sobel_x == 1) & (abs_sobel_y == 1)) | ((magnitude_sobel == 1) & (direction_sobel == 1))] = 1\n",
    "\n",
    "#     # Plotting thresholded images\n",
    "#     f, axs = plt.subplots(3, 3, figsize=(20,10))\n",
    "#     axs = axs.ravel()\n",
    "    \n",
    "#     axs[0].set_title(fname)\n",
    "#     axs[0].imshow(image)\n",
    "\n",
    "#     axs[1].set_title('Gradient -- x-oriented')\n",
    "#     axs[1].imshow(abs_sobel_x, cmap='gray')\n",
    "\n",
    "#     axs[2].set_title('Gradient -- y-oriented')\n",
    "#     axs[2].imshow(abs_sobel_y, cmap='gray')\n",
    "\n",
    "#     axs[3].set_title(fname)\n",
    "#     axs[3].imshow(image)\n",
    "\n",
    "#     axs[4].set_title('Magnitude Threshold')\n",
    "#     axs[4].imshow(magnitude_sobel, cmap='gray')\n",
    "\n",
    "#     axs[5].set_title('Direction Threshold')\n",
    "#     axs[5].imshow(direction_sobel, cmap='gray')\n",
    "\n",
    "#     axs[6].set_title(fname)\n",
    "#     axs[6].imshow(image)\n",
    "    \n",
    "#     axs[7].set_title('Gray Thresholded')\n",
    "#     axs[7].imshow(binary_gray, cmap='gray')\n",
    "\n",
    "#     axs[8].set_title('Combined Magnitude and Direction Gradient')\n",
    "#     axs[8].imshow(combined, cmap='gray')\n",
    "    \n",
    "# def plot_converted_color_space_thresholds(fname, flag): \n",
    "#     image = mpimg.imread(fname)\n",
    "#     undistorted_example_image = undistort(image, mtx, dist)\n",
    "    \n",
    "#     threshold = (90, 255)\n",
    "#     converted_color_space = cv2.cvtColor(image, flag)\n",
    "#     channel_1 = converted_color_space[:, :, 0]\n",
    "#     channel_2 = converted_color_space[:, :, 1]\n",
    "#     channel_3 = converted_color_space[:, :, 2]\n",
    "    \n",
    "#     binary_1 = np.zeros_like(channel_1)\n",
    "#     binary_2 = np.zeros_like(channel_2)\n",
    "#     binary_3 = np.zeros_like(channel_3)\n",
    "    \n",
    "#     binary_1[(channel_1 > threshold[0]) & (channel_1 <= threshold[1])] = 1\n",
    "#     binary_2[(channel_2 > threshold[0]) & (channel_2 <= threshold[1])] = 1\n",
    "#     binary_3[(channel_3 > threshold[0]) & (channel_3 <= threshold[1])] = 1\n",
    "    \n",
    "#     f, axs = plt.subplots(2, 4, figsize=(20, 10))\n",
    "#     axs = axs.ravel()\n",
    "    \n",
    "#     axs[0].set_title(fname)\n",
    "#     axs[0].imshow(image)\n",
    "    \n",
    "#     axs[1].set_title('1')\n",
    "#     axs[1].imshow(channel_1)\n",
    "    \n",
    "#     axs[2].set_title('2')\n",
    "#     axs[2].imshow(channel_2)\n",
    "    \n",
    "#     axs[3].set_title('3')\n",
    "#     axs[3].imshow(channel_3)\n",
    "    \n",
    "#     axs[4].set_title(fname)\n",
    "#     axs[4].imshow(image)\n",
    "    \n",
    "#     axs[5].set_title('Channel 1 Threshold')\n",
    "#     axs[5].imshow(binary_1, cmap='gray')\n",
    "    \n",
    "#     axs[6].set_title('Channel 2 Threshold')\n",
    "#     axs[6].imshow(binary_2, cmap='gray')\n",
    "    \n",
    "#     axs[7].set_title('Channel 3 Threshold')\n",
    "#     axs[7].imshow(binary_3, cmap='gray')\n",
    "    \n",
    "# def plot_combined_thresholds(image, orientation, sobel_threshold, sobel_kernel, flag, c, color_threshold):\n",
    "#     undistorted_example_image = undistort(image)\n",
    "    \n",
    "#     if orientation == 'x' or orientation == 'y': \n",
    "#         sobel_binary = abs_sobel_threshold(undistorted_example_image, orientation, sobel_kernel, sobel_threshold)\n",
    "#     elif orientation == 'm': \n",
    "#         sobel_binary = magnitude_threshold(undistorted_example_image, sobel_kernel, sobel_threshold)\n",
    "#     elif orientation == 'd': \n",
    "#         sobel_binary = direction_threshold(undistorted_example_image, sobel_kernel, sobel_threshold)\n",
    "#     elif orientation == \"md\": \n",
    "#         sobel_binary_magnitude = magnitude_threshold(undistorted_example_image, sobel_kernel, sobel_threshold)\n",
    "#         sobel_binary_direction = magnitude_threshold(undistorted_example_image, sobel_kernel, sobel_threshold)        \n",
    "        \n",
    "#     # Threshold color channel\n",
    "#     converted_color_space_image = cv2.cvtColor(undistorted_example_image, flag)\n",
    "#     channel = converted_color_space_image[:, :, c]\n",
    "#     channel_binary = np.zeros_like(channel)\n",
    "#     channel_binary[(channel >= color_threshold[0]) & (channel <= color_threshold[1])] = 1\n",
    "\n",
    "#     # Stack each channel to view their individual contributions in green and blue respectively\n",
    "#     # This returns a stack of the two binary images, whose components you can see as different colors\n",
    "#     color_binary = np.dstack(( np.zeros_like(sobel_binary), sobel_binary, channel_binary))\n",
    "\n",
    "#     # Combine the two binary thresholds\n",
    "#     combined_binary = np.zeros_like(sobel_binary)\n",
    "#     combined_binary[(sobel_binary == 1) | (channel_binary == 1)] = 1\n",
    "\n",
    "#     # Plotting thresholded images\n",
    "#     f, (ax1, ax2) = plt.subplots(1, 2, figsize=(20,10))\n",
    "#     ax1.set_title('Stacked thresholds')\n",
    "#     ax1.imshow(color_binary)\n",
    "\n",
    "#     ax2.set_title('Gradient: ' + orientation + '--' + 'Color Space: ' + str(flag) + '--' + 'Color Channel: ' + str(c))\n",
    "#     ax2.imshow(combined_binary, cmap='gray')\n",
    "    \n",
    "# def get_combined_thresholded_image(fname, orientation, sobel_threshold, sobel_kernel, flag, c, color_threshold):\n",
    "#     image = mpimg.imread(fname)\n",
    "#     undistorted_example_image = undistort(image)\n",
    "    \n",
    "#     if orientation == 'x' or orientation == 'y': \n",
    "#         sobel_binary = abs_sobel_threshold(undistorted_example_image, orientation, sobel_kernel, sobel_threshold)\n",
    "#     elif orientation == 'm': \n",
    "#         sobel_binary = magnitude_threshold(undistorted_example_image, sobel_kernel, sobel_threshold)\n",
    "#     elif orientation == 'd': \n",
    "#         sobel_binary = direction_threshold(undistorted_example_image, sobel_kernel, sobel_threshold)\n",
    "#     elif orientation == \"md\": \n",
    "#         sobel_binary_magnitude = magnitude_threshold(undistorted_example_image, sobel_kernel, sobel_threshold)\n",
    "#         sobel_binary_direction = magnitude_threshold(undistorted_example_image, sobel_kernel, sobel_threshold)        \n",
    "        \n",
    "#     # Threshold color channel\n",
    "#     converted_color_space_image = cv2.cvtColor(undistorted_example_image, flag)\n",
    "#     channel = converted_color_space_image[:, :, c]\n",
    "#     channel_binary = np.zeros_like(channel)\n",
    "#     channel_binary[(channel >= color_threshold[0]) & (channel <= color_threshold[1])] = 1\n",
    "\n",
    "#     # Stack each channel to view their individual contributions in green and blue respectively\n",
    "#     # This returns a stack of the two binary images, whose components you can see as different colors\n",
    "#     color_binary = np.dstack(( np.zeros_like(sobel_binary), sobel_binary, channel_binary))\n",
    "\n",
    "#     # Combine the two binary thresholds\n",
    "#     combined_binary = np.zeros_like(sobel_binary)\n",
    "#     combined_binary[(sobel_binary == 1) | (channel_binary == 1)] = 1\n",
    "\n",
    "#     return combined_binary\n",
    "\n",
    "# def plot_hsv_mask(image, y_threshold_min, y_threshold_max, w_threshold_min, w_threshold_max):\n",
    "#     hsv = cv2.cvtColor(image, cv2.COLOR_RGB2HSV)\n",
    "#     yellow_lower_bound = np.array(y_threshold_min)\n",
    "#     yellow_upper_bound = np.array(y_threshold_max)\n",
    "#     white_lower_bound = np.array(w_threshold_min)\n",
    "#     white_upper_bound = np.array(w_threshold_max)\n",
    "    \n",
    "#     yellow_mask = cv2.inRange(hsv, yellow_lower_bound, yellow_upper_bound)\n",
    "#     white_mask = cv2.inRange(hsv, white_lower_bound, white_upper_bound)\n",
    "# #     res = cv2.bitwise_or(yellow_mask, white_mask)\n",
    "#     res = cv2.bitwise_and(image, image, mask=white_mask)\n",
    "    \n",
    "#         # Plotting thresholded images\n",
    "#     f, axis = plt.subplots(1, 1, figsize=(10,10))\n",
    "#     axis.set_title('Stacked thresholds')\n",
    "#     axis.imshow(res)\n",
    "\n",
    "\n",
    "\n",
    "\n",
    "# def region_of_interest(img, vertices):\n",
    "#     \"\"\"\n",
    "#     Applies an image mask.\n",
    "    \n",
    "#     Only keeps the region of the image defined by the polygon\n",
    "#     formed from `vertices`. The rest of the image is set to black.\n",
    "#     \"\"\"\n",
    "#     #defining a blank mask to start with\n",
    "#     mask = np.zeros_like(img)   \n",
    "    \n",
    "#     #defining a 3 channel or 1 channel color to fill the mask with depending on the input image\n",
    "#     if len(img.shape) > 2:\n",
    "#         channel_count = img.shape[2]  # i.e. 3 or 4 depending on your image\n",
    "#         ignore_mask_color = (255,) * channel_count\n",
    "#     else:\n",
    "#         ignore_mask_color = 255\n",
    "        \n",
    "#     #filling pixels inside the polygon defined by \"vertices\" with the fill color    \n",
    "#     cv2.fillPoly(mask, vertices, ignore_mask_color)\n",
    "    \n",
    "#     #returning the image only where mask pixels are nonzero\n",
    "#     masked_image = cv2.bitwise_and(img, mask)\n",
    "#     return masked_image\n",
    "\n",
    "\n",
    "    \n",
    "# def color_mask(c_space, low, high):\n",
    "#     mask = cv2.inRange(c_space, low, high)\n",
    "#     return mask\n",
    "\n",
    "# def apply_color_mask(image, mask):\n",
    "#     res = cv2.bitwise_and(image, image, mask=mask)\n",
    "#     return res\n",
    "\n",
    "# def apply_color_mask2(hsv,img,low,high):\n",
    "#     # Apply color mask to image\n",
    "#     mask = cv2.inRange(hsv, low, high)\n",
    "#     res = cv2.bitwise_and(img,img, mask= mask)\n",
    "#     return res\n",
    "\n",
    "# def apply_combined_mask(mask_1, mask_2): \n",
    "#     combined_mask = cv2.bitwise_xor(mask_1, mask_2)\n",
    "#     return combined_mask"
   ]
  }
 ],
 "metadata": {
  "anaconda-cloud": {},
  "kernelspec": {
   "display_name": "Python [conda env:carnd-term1]",
   "language": "python",
   "name": "conda-env-carnd-term1-py"
  },
  "language_info": {
   "codemirror_mode": {
    "name": "ipython",
    "version": 3
   },
   "file_extension": ".py",
   "mimetype": "text/x-python",
   "name": "python",
   "nbconvert_exporter": "python",
   "pygments_lexer": "ipython3",
   "version": "3.5.2"
  }
 },
 "nbformat": 4,
 "nbformat_minor": 2
}
